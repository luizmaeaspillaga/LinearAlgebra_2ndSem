{
  "nbformat": 4,
  "nbformat_minor": 0,
  "metadata": {
    "colab": {
      "name": "Assignment no. 4.ipynb",
      "provenance": [],
      "authorship_tag": "ABX9TyNss23GG3nqN3a9pXG3aay/",
      "include_colab_link": true
    },
    "kernelspec": {
      "name": "python3",
      "display_name": "Python 3"
    },
    "language_info": {
      "name": "python"
    }
  },
  "cells": [
    {
      "cell_type": "markdown",
      "metadata": {
        "id": "view-in-github",
        "colab_type": "text"
      },
      "source": [
        "<a href=\"https://colab.research.google.com/github/luizmaeaspillaga/LinearAlgebra_2ndSem/blob/main/Assignment_no_4.ipynb\" target=\"_parent\"><img src=\"https://colab.research.google.com/assets/colab-badge.svg\" alt=\"Open In Colab\"/></a>"
      ]
    },
    {
      "cell_type": "markdown",
      "source": [
        "# Linear Algebra for CHE\n",
        "## Laboratory 4: Matrices"
      ],
      "metadata": {
        "id": "n35XxCnQx3q1"
      }
    },
    {
      "cell_type": "markdown",
      "source": [
        "## Objectives\n",
        "At the end of this activity you will be able to:\n",
        "  1. Be familiar with matrices and their relation to linear equations.\n",
        "  2. Perfoem basic matrix operations.\n",
        "  3. Program and translate matrix equations and operations using Python.\n",
        "  "
      ],
      "metadata": {
        "id": "yMs9e0veyBav"
      }
    },
    {
      "cell_type": "markdown",
      "source": [
        "## Discussion\n"
      ],
      "metadata": {
        "id": "lx37UBQGyWF5"
      }
    },
    {
      "cell_type": "code",
      "source": [
        "import numpy as np\n",
        "import matplotlib.pyplot as plt\n",
        "import scipy.linalg as la\n",
        "%matplotlib inline"
      ],
      "metadata": {
        "id": "RrRhN6goyZlU"
      },
      "execution_count": 1,
      "outputs": []
    },
    {
      "cell_type": "markdown",
      "source": [
        "Matrices\n"
      ],
      "metadata": {
        "id": "d69hQRqEyjuA"
      }
    },
    {
      "cell_type": "markdown",
      "source": [
        "The notation and use of matrices is probably one of the fundamentals of modern computing. Matrices are also handy representation of complex equations or multiple inter-related equations from 2-dimensional equations to even hundreds and thousands of them."
      ],
      "metadata": {
        "id": "saKDTN9qymWE"
      }
    },
    {
      "cell_type": "markdown",
      "source": [
        "Let's say for example you have ***A*** and ***B ***as system of equation. "
      ],
      "metadata": {
        "id": "R8GcN6-pzkVG"
      }
    },
    {
      "cell_type": "markdown",
      "source": [
        "$$\n",
        "A = \\left\\{\n",
        "    \\begin{array}\\\n",
        "        x + y \\\\ \n",
        "        4x - 10y\n",
        "    \\end{array}\n",
        "\\right. \\\\\n",
        "B = \\left\\{\n",
        "    \\begin{array}\\\n",
        "        x+y+z \\\\ \n",
        "        3x -2y -z \\\\\n",
        "        -x + 4y +2z\n",
        "    \\end{array}\n",
        "\\right. $$"
      ],
      "metadata": {
        "id": "jiIaRcVz1DAJ"
      }
    },
    {
      "cell_type": "markdown",
      "source": [
        "We could see that ***A*** is a system of 2 equations with 2 parameters. While ***B*** is a system of 3 equations with 3 parameters. We can represent them as matrices as:"
      ],
      "metadata": {
        "id": "wI26_FQ-1LkV"
      }
    },
    {
      "cell_type": "markdown",
      "source": [
        ":$$\n",
        "A=\\begin{bmatrix} 1 & 1 \\\\ 4 & {-10}\\end{bmatrix} \\\\\n",
        "B=\\begin{bmatrix} 1 & 1 & 1 \\\\ 3 & -2 & -1 \\\\ -1 & 4 & 2\\end{bmatrix}\n",
        "$$"
      ],
      "metadata": {
        "id": "QEL2Rkg31cJB"
      }
    },
    {
      "cell_type": "markdown",
      "source": [
        "## **Declaring Matrices**"
      ],
      "metadata": {
        "id": "6oChQsVuXMhY"
      }
    },
    {
      "cell_type": "markdown",
      "source": [
        "\n",
        "Just like our previous laboratory activity, we'll represent system of linear equations as a matrix. The entities or numbers in matrices are called the elements of a matrix. These elements are arranged and ordered in rows and columns which form the list/array-like structure of matrices. And just like arrays, these elements are indexed according to their position with respect to their rows and columns. This can be reprsented just like the equation below. Whereas A is a matrix consisting of elements denoted by a. Denoted by  is the number of rows in the matrix while  stands for the number of columns.\n",
        "Do note that the  of a matrix is ."
      ],
      "metadata": {
        "id": "ClPkTWAKW-zd"
      }
    },
    {
      "cell_type": "markdown",
      "source": [
        "So assuming that you already discussed the fundamental representation of matrices, their types, and operations. We'll proceed doing them in here in Python. "
      ],
      "metadata": {
        "id": "TrpHE5_T1qTZ"
      }
    },
    {
      "cell_type": "markdown",
      "source": [
        "$$A=\\begin{bmatrix}\n",
        "a_{(0,0)}&a_{(0,1)}&\\dots&a_{(0,j-1)}\\\\\n",
        "a_{(1,0)}&a_{(1,1)}&\\dots&a_{(1,j-1)}\\\\\n",
        "\\vdots&\\vdots&\\ddots&\\vdots&\\\\\n",
        "a_{(i-1,0)}&a_{(i-1,1)}&\\dots&a_{(i-1,j-1)}\n",
        "\\end{bmatrix}\n",
        "$$"
      ],
      "metadata": {
        "id": "GLFBSG3R3uzy"
      }
    },
    {
      "cell_type": "code",
      "source": [
        "## Since we'll keep on describing matrices. Let's make a function.\n",
        "def describe_mat(matrix):\n",
        "  print(f'Matrix\"\\n{matrix}\\n\\nShape:\\t{matrix.shape}\\nRank:\\t{matrix.ndim}\\n')"
      ],
      "metadata": {
        "id": "CZynOWco3_Uq"
      },
      "execution_count": null,
      "outputs": []
    },
    {
      "cell_type": "code",
      "source": [
        "## Declaring a 2 x 2 matrix\n",
        "A = np.array([\n",
        "     [1, 2],\n",
        "     [3, 1]\n",
        "])\n",
        "describe_mat(A)"
      ],
      "metadata": {
        "colab": {
          "base_uri": "https://localhost:8080/"
        },
        "id": "3OwUBT3U4XbJ",
        "outputId": "ddae19e3-bac7-4fce-9de9-fba566d12fa8"
      },
      "execution_count": null,
      "outputs": [
        {
          "output_type": "stream",
          "name": "stdout",
          "text": [
            "Matrix\"\n",
            "[[1 2]\n",
            " [3 1]]\n",
            "\n",
            "Shape:\t(2, 2)\n",
            "Rank:\t2\n",
            "\n"
          ]
        }
      ]
    },
    {
      "cell_type": "code",
      "source": [
        "G = np.array([\n",
        "    [1,1,3],\n",
        "    [2,2,4]\n",
        "])\n",
        "describe_mat(G)"
      ],
      "metadata": {
        "colab": {
          "base_uri": "https://localhost:8080/"
        },
        "id": "IMn5wd1H7Jqd",
        "outputId": "31a16113-1de3-4604-f1ff-4da0cf480026"
      },
      "execution_count": null,
      "outputs": [
        {
          "output_type": "stream",
          "name": "stdout",
          "text": [
            "Matrix\"\n",
            "[[1 1 3]\n",
            " [2 2 4]]\n",
            "\n",
            "Shape:\t(2, 3)\n",
            "Rank:\t2\n",
            "\n"
          ]
        }
      ]
    },
    {
      "cell_type": "code",
      "source": [
        "## Declaring a 3 x 2 matrix\n",
        "B = np.array([\n",
        "    [8, 2],\n",
        "    [5, 4],\n",
        "    [1, 1]\n",
        "])\n",
        "describe_mat(B)"
      ],
      "metadata": {
        "colab": {
          "base_uri": "https://localhost:8080/"
        },
        "id": "mItTdmA1XiTt",
        "outputId": "be500ed3-1c29-4995-8d5f-fd79cbc4ffad"
      },
      "execution_count": null,
      "outputs": [
        {
          "output_type": "stream",
          "name": "stdout",
          "text": [
            "Matrix\"\n",
            "[[8 2]\n",
            " [5 4]\n",
            " [1 1]]\n",
            "\n",
            "Shape:\t(3, 2)\n",
            "Rank:\t2\n",
            "\n"
          ]
        }
      ]
    },
    {
      "cell_type": "code",
      "source": [
        "H = np.array([1,2,3,4,5])\n",
        "describe_mat(H)"
      ],
      "metadata": {
        "colab": {
          "base_uri": "https://localhost:8080/"
        },
        "id": "UXO-UoOvYCbZ",
        "outputId": "86b433e2-f7a8-4562-8d2d-c731d760339f"
      },
      "execution_count": null,
      "outputs": [
        {
          "output_type": "stream",
          "name": "stdout",
          "text": [
            "Matrix\"\n",
            "[1 2 3 4 5]\n",
            "\n",
            "Shape:\t(5,)\n",
            "Rank:\t1\n",
            "\n"
          ]
        }
      ]
    },
    {
      "cell_type": "markdown",
      "source": [
        "## Categorizing Matrices\n",
        "There are several ways of classifying matrices. Once could be according to their shape and another is according to their **element values**. We'll try to go through them."
      ],
      "metadata": {
        "id": "dYApkrLSYUdO"
      }
    },
    {
      "cell_type": "markdown",
      "source": [
        "## **According to Shape**\n",
        "## **Row and Column Matrices** \n",
        "Row and column matrices are used to represent row and column spaces of a bigger vector space. Moreover, these are represented by a single column or single row. Using this can make vector and matrix computations easier. The shape of row matrices would be $1 \\times j$ and column matrices would be $i \\times 1$."
      ],
      "metadata": {
        "id": "zbm7BVTSYflH"
      }
    },
    {
      "cell_type": "code",
      "source": [
        "## Declaring a Row Matrix\n",
        "\n",
        "row_mat_1D = np.array([\n",
        "    1, 3, 2, -4\n",
        "]) ## this is a 1-D Matrix with a shape of (3,), it's not really considered as a row matrix.\n",
        "row_mat_2D = np.array([\n",
        "    [1,2,3, -4]       \n",
        "]) ## this is a 2-D Matrix with a shape of (1,3)\n",
        "describe_mat(row_mat_1D)\n",
        "describe_mat(row_mat_2D)"
      ],
      "metadata": {
        "colab": {
          "base_uri": "https://localhost:8080/"
        },
        "id": "PG3dcYxL7aGS",
        "outputId": "4c9841d5-e9aa-4e96-ab25-24880b99b2d4"
      },
      "execution_count": null,
      "outputs": [
        {
          "output_type": "stream",
          "name": "stdout",
          "text": [
            "Matrix\"\n",
            "[ 1  3  2 -4]\n",
            "\n",
            "Shape:\t(4,)\n",
            "Rank:\t1\n",
            "\n",
            "Matrix\"\n",
            "[[ 1  2  3 -4]]\n",
            "\n",
            "Shape:\t(1, 4)\n",
            "Rank:\t2\n",
            "\n"
          ]
        }
      ]
    },
    {
      "cell_type": "code",
      "source": [
        "## Declaring a Column Matrix\n",
        "\n",
        "col_mat = np.array([\n",
        "    [2],\n",
        "    [1],\n",
        "    [3]\n",
        "])\n",
        "describe_mat(col_mat)"
      ],
      "metadata": {
        "colab": {
          "base_uri": "https://localhost:8080/"
        },
        "id": "ueINKXVC9YHd",
        "outputId": "92b2751b-159b-4e98-9403-121f0cdc3b5c"
      },
      "execution_count": null,
      "outputs": [
        {
          "output_type": "stream",
          "name": "stdout",
          "text": [
            "Matrix\"\n",
            "[[2]\n",
            " [1]\n",
            " [3]]\n",
            "\n",
            "Shape:\t(3, 1)\n",
            "Rank:\t2\n",
            "\n"
          ]
        }
      ]
    },
    {
      "cell_type": "markdown",
      "source": [
        "## **Square Matrices**\n",
        "\n"
      ],
      "metadata": {
        "id": "QpMN550cYvXZ"
      }
    },
    {
      "cell_type": "markdown",
      "source": [
        "A Square matrix represents both row and column matrices but with the same sizes. The shape of a square matrix can be presented as $i = j$."
      ],
      "metadata": {
        "id": "V1a3WzmyY51V"
      }
    },
    {
      "cell_type": "code",
      "source": [
        "def describe_mat(matrix):\n",
        "    is_square = True if matrix.shape[0] == matrix.shape[1] else False\n",
        "    print(f'Matrix:\\n{matrix}\\n\\nShape:\\t{matrix.shape}\\nRank:\\t{matrix.ndim}\\nIs Square: {is_square}\\n')"
      ],
      "metadata": {
        "id": "AncISlAW-HUr"
      },
      "execution_count": null,
      "outputs": []
    },
    {
      "cell_type": "code",
      "source": [
        "square_mat = np.array([\n",
        "  [2,1,3],\n",
        "  [1,4,3],\n",
        "  [6,1,29]     \n",
        "])\n",
        "non_square_mat = np.array([\n",
        "[2,1,3],\n",
        "[1,4,3]\n",
        "])\n",
        "describe_mat(square_mat)\n",
        "describe_mat(non_square_mat)"
      ],
      "metadata": {
        "colab": {
          "base_uri": "https://localhost:8080/"
        },
        "id": "L4WTepd4-5Pm",
        "outputId": "e2a6c3f3-2a7a-4d6e-b8bc-3c6768b13746"
      },
      "execution_count": null,
      "outputs": [
        {
          "output_type": "stream",
          "name": "stdout",
          "text": [
            "Matrix:\n",
            "[[ 2  1  3]\n",
            " [ 1  4  3]\n",
            " [ 6  1 29]]\n",
            "\n",
            "Shape:\t(3, 3)\n",
            "Rank:\t2\n",
            "Is Square: True\n",
            "\n",
            "Matrix:\n",
            "[[2 1 3]\n",
            " [1 4 3]]\n",
            "\n",
            "Shape:\t(2, 3)\n",
            "Rank:\t2\n",
            "Is Square: False\n",
            "\n"
          ]
        }
      ]
    },
    {
      "cell_type": "markdown",
      "source": [
        "## **According to element values**"
      ],
      "metadata": {
        "id": "8mXJyCWRY-4v"
      }
    },
    {
      "cell_type": "markdown",
      "source": [
        "## Null Matrix\n",
        "A Null Matrix is a type of matrix that has no elements as it is always a subspace of any vector or matrix."
      ],
      "metadata": {
        "id": "djCecLYBZEww"
      }
    },
    {
      "cell_type": "code",
      "source": [
        "def describe_mat(matrix):\n",
        "    if matrix.size > 0:\n",
        "      is_square = True if matrix.shape[0] == matrix.shape[1] else False\n",
        "      print(f'Matrix:\\n{matrix}\\n\\nShape:\\t{matrix.shape}\\nRank:\\t{matrix.ndim}\\nIs Square: {is_square}\\n')\n",
        "    else:\n",
        "      print('Matrix is Null')\n"
      ],
      "metadata": {
        "id": "fCb0pkNQBPhx"
      },
      "execution_count": null,
      "outputs": []
    },
    {
      "cell_type": "code",
      "source": [
        "null_mat = np.array([])\n",
        "describe_mat(null_mat)"
      ],
      "metadata": {
        "colab": {
          "base_uri": "https://localhost:8080/"
        },
        "id": "q-68uGFyBnGS",
        "outputId": "a82909ed-c626-4322-fb71-ca8bf545a40d"
      },
      "execution_count": null,
      "outputs": [
        {
          "output_type": "stream",
          "name": "stdout",
          "text": [
            "Matrix is Null\n"
          ]
        }
      ]
    },
    {
      "cell_type": "markdown",
      "source": [
        "## Zero Matrix"
      ],
      "metadata": {
        "id": "zPfMaQDJZL-Z"
      }
    },
    {
      "cell_type": "markdown",
      "source": [
        "A Zero matrix considers any rectangular matrix with a value of 0 for all of its elements.\n"
      ],
      "metadata": {
        "id": "5ayHnO0IjmcZ"
      }
    },
    {
      "cell_type": "code",
      "source": [
        "zero_mat_row = np.zeros((1,2))\n",
        "zero_mat_sqr = np.zeros((2,2))\n",
        "zero_mat_rct = np.zeros((1,2))\n",
        "\n",
        "print(f'Zero Row Matrix: \\n{zero_mat_row}')\n",
        "print(f'Zero Square Matrix: \\n{zero_mat_sqr}')\n",
        "print(f'Zero Rectangular Matrix: \\n{zero_mat_rct}')"
      ],
      "metadata": {
        "colab": {
          "base_uri": "https://localhost:8080/"
        },
        "id": "Ro-6AZG5CYTs",
        "outputId": "1bb864a9-0f92-40fa-a4fb-42fe12e05d9e"
      },
      "execution_count": null,
      "outputs": [
        {
          "output_type": "stream",
          "name": "stdout",
          "text": [
            "Zero Row Matrix: \n",
            "[[0. 0.]]\n",
            "Zero Square Matrix: \n",
            "[[0. 0.]\n",
            " [0. 0.]]\n",
            "Zero Rectangular Matrix: \n",
            "[[0. 0.]]\n"
          ]
        }
      ]
    },
    {
      "cell_type": "markdown",
      "source": [
        "## Ones Matrix"
      ],
      "metadata": {
        "id": "t3KOwVSMZP8O"
      }
    },
    {
      "cell_type": "markdown",
      "source": [
        "A ones matrix, almost similar to zero matrix, considers any rectangular matrix with a value of 1 for all its elements instead of 0"
      ],
      "metadata": {
        "id": "WYYZDxD7joyt"
      }
    },
    {
      "cell_type": "code",
      "source": [
        "ones_mat_row = np.ones((1,2))\n",
        "ones_mat_sqr = np.ones((2,2))\n",
        "ones_mat_rct = np.ones((3,4))\n",
        "\n",
        "print(f'Ones Row Matrix: \\n{ones_mat_row}')\n",
        "print(f'Ones Square Matrix: \\n{ones_mat_sqr}')\n",
        "print(f'Ones Rectangular Matrix: \\n{ones_mat_rct}')"
      ],
      "metadata": {
        "colab": {
          "base_uri": "https://localhost:8080/"
        },
        "id": "1-po5WJ2DvEY",
        "outputId": "877b5fe9-4c24-465d-e906-44615ef2172b"
      },
      "execution_count": null,
      "outputs": [
        {
          "output_type": "stream",
          "name": "stdout",
          "text": [
            "Ones Row Matrix: \n",
            "[[1. 1.]]\n",
            "Ones Square Matrix: \n",
            "[[1. 1.]\n",
            " [1. 1.]]\n",
            "Ones Rectangular Matrix: \n",
            "[[1. 1. 1. 1.]\n",
            " [1. 1. 1. 1.]\n",
            " [1. 1. 1. 1.]]\n"
          ]
        }
      ]
    },
    {
      "cell_type": "markdown",
      "source": [
        "## Diagonal Matrix"
      ],
      "metadata": {
        "id": "ijeLA_FZZedT"
      }
    },
    {
      "cell_type": "markdown",
      "source": [
        "A diagonal matrix has the shape of a square matrix but only has values at the diagonal of the matrix."
      ],
      "metadata": {
        "id": "PwgMZn9IjsI7"
      }
    },
    {
      "cell_type": "code",
      "source": [
        "np.array([\n",
        "    [2,0,0],\n",
        "    [0,1,0],\n",
        "    [0,0,3]\n",
        "])"
      ],
      "metadata": {
        "colab": {
          "base_uri": "https://localhost:8080/"
        },
        "id": "RoyxEHtGEqIP",
        "outputId": "36875095-6153-4c64-ed40-f5a4256ed6e3"
      },
      "execution_count": null,
      "outputs": [
        {
          "output_type": "execute_result",
          "data": {
            "text/plain": [
              "array([[2, 0, 0],\n",
              "       [0, 1, 0],\n",
              "       [0, 0, 3]])"
            ]
          },
          "metadata": {},
          "execution_count": 46
        }
      ]
    },
    {
      "cell_type": "code",
      "source": [
        "d = np.diag([2,1,3,4])\n",
        "d.shape == d.shape[0] == d.shape[1]\n",
        "d"
      ],
      "metadata": {
        "colab": {
          "base_uri": "https://localhost:8080/"
        },
        "id": "sYXSLXvfFAVf",
        "outputId": "3731b46e-4952-4577-ba68-ce16f5c6e93e"
      },
      "execution_count": null,
      "outputs": [
        {
          "output_type": "execute_result",
          "data": {
            "text/plain": [
              "array([[2, 0, 0, 0],\n",
              "       [0, 1, 0, 0],\n",
              "       [0, 0, 3, 0],\n",
              "       [0, 0, 0, 4]])"
            ]
          },
          "metadata": {},
          "execution_count": 48
        }
      ]
    },
    {
      "cell_type": "markdown",
      "source": [
        "## Identity Matrix"
      ],
      "metadata": {
        "id": "HPNutezRZkIt"
      }
    },
    {
      "cell_type": "markdown",
      "source": [
        "In linear algebra, identity matrix is a square matrix that contains elements that are diagonal with value of one. While the rest of the matrix have the value of zero.\n"
      ],
      "metadata": {
        "id": "JQqvD4RLZmf-"
      }
    },
    {
      "cell_type": "code",
      "source": [
        "np.eye(1)\n"
      ],
      "metadata": {
        "colab": {
          "base_uri": "https://localhost:8080/"
        },
        "id": "9u2XEuLWF5Yr",
        "outputId": "92a7f8b0-08b2-4954-bf0b-bbce90b08627"
      },
      "execution_count": null,
      "outputs": [
        {
          "output_type": "execute_result",
          "data": {
            "text/plain": [
              "array([[1.]])"
            ]
          },
          "metadata": {},
          "execution_count": 6
        }
      ]
    },
    {
      "cell_type": "code",
      "source": [
        "np.identity(1000)"
      ],
      "metadata": {
        "colab": {
          "base_uri": "https://localhost:8080/"
        },
        "id": "iN_O-HwrGC_G",
        "outputId": "944f7b45-418c-44c4-bf41-7fee6292d4fc"
      },
      "execution_count": null,
      "outputs": [
        {
          "output_type": "execute_result",
          "data": {
            "text/plain": [
              "array([[1., 0., 0., ..., 0., 0., 0.],\n",
              "       [0., 1., 0., ..., 0., 0., 0.],\n",
              "       [0., 0., 1., ..., 0., 0., 0.],\n",
              "       ...,\n",
              "       [0., 0., 0., ..., 1., 0., 0.],\n",
              "       [0., 0., 0., ..., 0., 1., 0.],\n",
              "       [0., 0., 0., ..., 0., 0., 1.]])"
            ]
          },
          "metadata": {},
          "execution_count": 5
        }
      ]
    },
    {
      "cell_type": "markdown",
      "source": [
        "## Upper Triangular Matrix"
      ],
      "metadata": {
        "id": "kodRBqVZZsoj"
      }
    },
    {
      "cell_type": "markdown",
      "source": [
        "Upper triangular matrix is also a square matrix where all entries below that main diagonal has no value or zero."
      ],
      "metadata": {
        "id": "ddDJEVI4ZxY2"
      }
    },
    {
      "cell_type": "code",
      "source": [
        "np.array([\n",
        "    [1,2,3,4],\n",
        "    [2,1,2,-2],\n",
        "    [0,0,5,2],\n",
        "    [0,0,0,2]\n",
        "])"
      ],
      "metadata": {
        "colab": {
          "base_uri": "https://localhost:8080/"
        },
        "id": "7c76JQTQGghi",
        "outputId": "c1988b50-22c9-48dc-9b7a-245ee2003cf5"
      },
      "execution_count": null,
      "outputs": [
        {
          "output_type": "execute_result",
          "data": {
            "text/plain": [
              "array([[ 1,  2,  3,  4],\n",
              "       [ 2,  1,  2, -2],\n",
              "       [ 0,  0,  5,  2],\n",
              "       [ 0,  0,  0,  2]])"
            ]
          },
          "metadata": {},
          "execution_count": 5
        }
      ]
    },
    {
      "cell_type": "markdown",
      "source": [
        "## Lower Triangular Matrix"
      ],
      "metadata": {
        "id": "NiDI2qW-Z1An"
      }
    },
    {
      "cell_type": "markdown",
      "source": [
        "While on the other hand, lower triangular matrix is a square matrix where all the entries above the main daigonal has no value or zero."
      ],
      "metadata": {
        "id": "hwIu0Q5-Z4WX"
      }
    },
    {
      "cell_type": "code",
      "source": [
        "np.array([\n",
        "    [1,0,0],\n",
        "    [5,3,0],\n",
        "    [7,8,5]\n",
        "])"
      ],
      "metadata": {
        "colab": {
          "base_uri": "https://localhost:8080/"
        },
        "id": "mGII8hzJZ_9r",
        "outputId": "ba8b7702-c88d-4340-a0cc-a0f88f6284a1"
      },
      "execution_count": null,
      "outputs": [
        {
          "output_type": "execute_result",
          "data": {
            "text/plain": [
              "array([[1, 0, 0],\n",
              "       [5, 3, 0],\n",
              "       [7, 8, 5]])"
            ]
          },
          "metadata": {},
          "execution_count": 10
        }
      ]
    },
    {
      "cell_type": "markdown",
      "source": [
        "## **Matrix Algebra**"
      ],
      "metadata": {
        "id": "Uk8oL5-maLcs"
      }
    },
    {
      "cell_type": "markdown",
      "source": [
        "# **Addition**"
      ],
      "metadata": {
        "id": "ttApOkY9aUqU"
      }
    },
    {
      "cell_type": "markdown",
      "source": [
        "Addition of matrices is the operation of adding two matrices by adding the corresponding entries together. Two matrices can be added only if they have the same numbers of row and columns.\n",
        "\n",
        "\n",
        "\n"
      ],
      "metadata": {
        "id": "B163EhPIea9j"
      }
    },
    {
      "cell_type": "code",
      "source": [
        "A = np.array([\n",
        "    [1,2],\n",
        "    [2,3],\n",
        "    [4,1]\n",
        "])\n",
        "B = np.array([\n",
        "    [2,2],\n",
        "    [2,3],\n",
        "    [7,9]\n",
        "])\n",
        "A+B"
      ],
      "metadata": {
        "colab": {
          "base_uri": "https://localhost:8080/"
        },
        "id": "hcxfxYKqJYr_",
        "outputId": "6bd157b6-9e6a-43cb-dcd9-93afd6c97a6f"
      },
      "execution_count": null,
      "outputs": [
        {
          "output_type": "execute_result",
          "data": {
            "text/plain": [
              "array([[ 3,  4],\n",
              "       [ 4,  6],\n",
              "       [11, 10]])"
            ]
          },
          "metadata": {},
          "execution_count": 4
        }
      ]
    },
    {
      "cell_type": "code",
      "source": [
        "52+A ##Broadcasting"
      ],
      "metadata": {
        "colab": {
          "base_uri": "https://localhost:8080/"
        },
        "id": "BSOa3H7JJs0s",
        "outputId": "51a1f754-55bd-4adc-f3aa-7b2ce3de9a1c"
      },
      "execution_count": null,
      "outputs": [
        {
          "output_type": "execute_result",
          "data": {
            "text/plain": [
              "array([[53, 54],\n",
              "       [54, 55],\n",
              "       [56, 53]])"
            ]
          },
          "metadata": {},
          "execution_count": 70
        }
      ]
    },
    {
      "cell_type": "markdown",
      "source": [
        "## **Subtraction**"
      ],
      "metadata": {
        "id": "pMhjbUJbaZPB"
      }
    },
    {
      "cell_type": "markdown",
      "source": [
        "Subtraction of matrices deals with subtracting elements in each row and column from elements in row and columns. Like in addition, two matrices can be subtracted only if they have the same numbers of row and columns."
      ],
      "metadata": {
        "id": "zq5_pjtJez9L"
      }
    },
    {
      "cell_type": "code",
      "source": [
        "A-B"
      ],
      "metadata": {
        "colab": {
          "base_uri": "https://localhost:8080/"
        },
        "id": "J8UFKPu0J62f",
        "outputId": "e38e2be7-6c60-4831-9eb2-604d08d4c8cc"
      },
      "execution_count": null,
      "outputs": [
        {
          "output_type": "execute_result",
          "data": {
            "text/plain": [
              "array([[-1,  0],\n",
              "       [ 0,  0],\n",
              "       [-3, -8]])"
            ]
          },
          "metadata": {},
          "execution_count": 5
        }
      ]
    },
    {
      "cell_type": "code",
      "source": [
        "7-B"
      ],
      "metadata": {
        "colab": {
          "base_uri": "https://localhost:8080/"
        },
        "id": "mrdi0hMmJ9Le",
        "outputId": "978a5b7f-7c9b-436a-c773-5d57b6ef942f"
      },
      "execution_count": null,
      "outputs": [
        {
          "output_type": "execute_result",
          "data": {
            "text/plain": [
              "array([[ 5,  5],\n",
              "       [ 5,  4],\n",
              "       [ 0, -2]])"
            ]
          },
          "metadata": {},
          "execution_count": 6
        }
      ]
    },
    {
      "cell_type": "code",
      "source": [
        "3-B == 3*np.ones(B.shape)-B"
      ],
      "metadata": {
        "colab": {
          "base_uri": "https://localhost:8080/"
        },
        "id": "L5Iornk6aibX",
        "outputId": "a3d67812-a3f1-4311-d1b5-40f2fd5ff7a7"
      },
      "execution_count": null,
      "outputs": [
        {
          "output_type": "execute_result",
          "data": {
            "text/plain": [
              "array([[ True,  True],\n",
              "       [ True,  True],\n",
              "       [ True,  True]])"
            ]
          },
          "metadata": {},
          "execution_count": 7
        }
      ]
    },
    {
      "cell_type": "markdown",
      "source": [
        "## **Element-wise Multiplication**"
      ],
      "metadata": {
        "id": "kgrYuqfjak7z"
      }
    },
    {
      "cell_type": "markdown",
      "source": [
        "In element-wise multiplication in matrix, every element present in the first matrix will be multiplies to the second matrix's element. Like in addition and subtraction, before performing element-wise multiplication make sure that the both matrices has the same dimensions. "
      ],
      "metadata": {
        "id": "6hYEX0MWgJSZ"
      }
    },
    {
      "cell_type": "code",
      "source": [
        "A*B\n",
        "np.multiply(A,B)"
      ],
      "metadata": {
        "colab": {
          "base_uri": "https://localhost:8080/"
        },
        "id": "J-tsGUcQKI0J",
        "outputId": "905d521a-22a7-49e4-a0f3-0f68c38bd80d"
      },
      "execution_count": null,
      "outputs": [
        {
          "output_type": "execute_result",
          "data": {
            "text/plain": [
              "array([[ 2,  4],\n",
              "       [ 4,  9],\n",
              "       [28,  9]])"
            ]
          },
          "metadata": {},
          "execution_count": 8
        }
      ]
    },
    {
      "cell_type": "code",
      "source": [
        "2*A"
      ],
      "metadata": {
        "colab": {
          "base_uri": "https://localhost:8080/"
        },
        "id": "AEQ-UuNbap9y",
        "outputId": "cc7f2be1-a075-4a68-e063-aca502fabeb4"
      },
      "execution_count": null,
      "outputs": [
        {
          "output_type": "execute_result",
          "data": {
            "text/plain": [
              "array([[2, 4],\n",
              "       [6, 2]])"
            ]
          },
          "metadata": {},
          "execution_count": 16
        }
      ]
    },
    {
      "cell_type": "markdown",
      "source": [
        "## **Pratice**\n",
        "1. Given the linear combination below, try to create a corresponding matrix representing it. "
      ],
      "metadata": {
        "id": "aIpFOUD1HchP"
      }
    },
    {
      "cell_type": "markdown",
      "source": [
        ":$$\\theta = 5x + 3y - z$$"
      ],
      "metadata": {
        "id": "4XieJ5cGHxWA"
      }
    },
    {
      "cell_type": "code",
      "source": [
        "def describe_mat(matrix):\n",
        "  print(f'Matrix:\\n{matrix}\\n\\nShape:\\t{matrix.shape}\\nRank:\\t{matrix.ndim}\\n')"
      ],
      "metadata": {
        "id": "j-Mag5x_Wtf2"
      },
      "execution_count": null,
      "outputs": []
    },
    {
      "cell_type": "code",
      "source": [
        "theta = np.array ([\n",
        "    [5,3,-1]\n",
        "])\n",
        "describe_mat(theta)"
      ],
      "metadata": {
        "colab": {
          "base_uri": "https://localhost:8080/"
        },
        "id": "odII7_xcXA4D",
        "outputId": "3addf018-25e5-434f-db93-2220b7631ab8"
      },
      "execution_count": null,
      "outputs": [
        {
          "output_type": "stream",
          "name": "stdout",
          "text": [
            "Matrix:\n",
            "[[ 5  3 -1]]\n",
            "\n",
            "Shape:\t(1, 3)\n",
            "Rank:\t2\n",
            "\n"
          ]
        }
      ]
    },
    {
      "cell_type": "markdown",
      "source": [
        " 2. Given the system of linear combinations below, try to encode it as a matrix. Also describe the matrix"
      ],
      "metadata": {
        "id": "NWQvpofBHzTB"
      }
    },
    {
      "cell_type": "markdown",
      "source": [
        "$$\n",
        "A = \\left\\{\\begin{array}\n",
        "5x_1 + 2x_2 +x_3\\\\\n",
        "4x_2 - x_3\\\\\n",
        "10x_3\n",
        "\\end{array}\\right.\n",
        "$$"
      ],
      "metadata": {
        "id": "9oAIGhFDH4J7"
      }
    },
    {
      "cell_type": "code",
      "source": [
        "def describe_mat(matrix):\n",
        "    is_square = True if matrix.shape[0] == matrix.shape[1] else False\n",
        "    print(f'Matrix:\\n{matrix}\\n\\nShape:\\t{matrix.shape}\\nRank:\\t{matrix.ndim}\\nIs square: {is_square}\\n')"
      ],
      "metadata": {
        "id": "z0rBSkCFWAZK"
      },
      "execution_count": null,
      "outputs": []
    },
    {
      "cell_type": "code",
      "source": [
        "A = np.array ([\n",
        "   [1,2,1],\n",
        "   [0,4,-1],\n",
        "   [0,0,10]                     \n",
        "])\n",
        "\n",
        "describe_mat(A)"
      ],
      "metadata": {
        "colab": {
          "base_uri": "https://localhost:8080/"
        },
        "id": "dEfHzn05WE5z",
        "outputId": "34b7338b-4f32-41bd-de70-c64b74c4a291"
      },
      "execution_count": null,
      "outputs": [
        {
          "output_type": "stream",
          "name": "stdout",
          "text": [
            "Matrix:\n",
            "[[ 1  2  1]\n",
            " [ 0  4 -1]\n",
            " [ 0  0 10]]\n",
            "\n",
            "Shape:\t(3, 3)\n",
            "Rank:\t2\n",
            "Is square: True\n",
            "\n"
          ]
        }
      ]
    },
    {
      "cell_type": "markdown",
      "source": [
        "3. Given the matrix below, express it as a linear combination in a markdown and a LaTeX markdown\n"
      ],
      "metadata": {
        "id": "lYY1HZZ1H6Md"
      }
    },
    {
      "cell_type": "code",
      "source": [
        "G = np.array([\n",
        "    [1,7,8],\n",
        "    [2,2,2],\n",
        "    [4,6,7]\n",
        "])"
      ],
      "metadata": {
        "id": "uLRIMUi7JBo-"
      },
      "execution_count": null,
      "outputs": []
    },
    {
      "cell_type": "markdown",
      "source": [
        "$$\n",
        "G = \\left\\{\\begin{array}\n",
        "1x_1 + 7x_2 + 8x_3\\\\\n",
        "4x_2 - x-3\\\\\n",
        "10x_3\n",
        "\\end{array}right.\n",
        "$$"
      ],
      "metadata": {
        "id": "L8cSMQihH66w"
      }
    },
    {
      "cell_type": "markdown",
      "source": [
        "$$\n",
        "G = \\begin{bmatrix} 1 & 7 & 8 \\\\ 2 & 2 & 2 \\\\ 4 & 6 & 7\\end{bmatrix}\n",
        "$$"
      ],
      "metadata": {
        "id": "K7v8C-duYSgJ"
      }
    },
    {
      "cell_type": "markdown",
      "source": [
        "$$\n",
        "G = \\left\\{\n",
        "    \\begin{array}\\\n",
        "        1 + 7 + 8 \\\\\n",
        "        2 + 2 + 2 \\\\\n",
        "        4 + 6 + 7 \\\\\n",
        "    \\end{array}\n",
        "\\right. \\\\\n",
        " $$"
      ],
      "metadata": {
        "id": "eyJloGpQYUdC"
      }
    },
    {
      "cell_type": "markdown",
      "source": [
        "4. Given the matrix below, display the output as a LaTeX markdown also express it as a system of linear combinations."
      ],
      "metadata": {
        "id": "xszugyMNI1Bx"
      }
    },
    {
      "cell_type": "code",
      "source": [
        "H = np.tril(G)\n",
        "H"
      ],
      "metadata": {
        "colab": {
          "base_uri": "https://localhost:8080/"
        },
        "id": "BEkDeL03JEsg",
        "outputId": "ee99b4ec-40c3-4b9a-e227-5b2f05f2e2ba"
      },
      "execution_count": null,
      "outputs": [
        {
          "output_type": "execute_result",
          "data": {
            "text/plain": [
              "array([[1, 0, 0],\n",
              "       [2, 2, 0],\n",
              "       [4, 6, 7]])"
            ]
          },
          "metadata": {},
          "execution_count": 41
        }
      ]
    },
    {
      "cell_type": "markdown",
      "source": [
        "$$\n",
        "H = \\begin{bmatrix} 1 & 0 & 0 \\\\ 2 & 2 & 0 \\\\ 4 & 6 & 7\\end{bmatrix}\n",
        "$$"
      ],
      "metadata": {
        "id": "BJWcQelVYH8n"
      }
    },
    {
      "cell_type": "markdown",
      "source": [
        "$$\n",
        "H = \\left\\{\n",
        "    \\begin{array}\\\n",
        "        1 + 0 + 0 \\\\\n",
        "        2 + 2 + 0 \\\\\n",
        "        4 + 6 + 7 \\\\\n",
        "    \\end{array}\n",
        "\\right. \\\\\n",
        " $$"
      ],
      "metadata": {
        "id": "AiCF-FuhYKXn"
      }
    },
    {
      "cell_type": "markdown",
      "source": [
        "## **Task 1**"
      ],
      "metadata": {
        "id": "gjxacmMt6rCx"
      }
    },
    {
      "cell_type": "code",
      "source": [
        "def mat_desc(mat):\n",
        "    sq = False\n",
        "    mat = np.array(mat)\n",
        "    print(mat)\n",
        "    print('Shape:', mat.shape)\n",
        "    print('Size:', mat.size)\n",
        "    print('Rank:', np.linalg.matrix_rank(mat))\n",
        "    if(mat.shape[0] == mat.shape[1]):\n",
        "        sq = True\n",
        "        print('The matrix is square')\n",
        "    else:\n",
        "        print('The matrix is non-square')\n",
        "    if(mat.shape[0] == 0 and mat.shape[1] == 0):\n",
        "        print('The matrix is empty')\n",
        "    else:\n",
        "        print('The matrix is not empty')\n",
        "    iden = np.identity(mat.shape[0])\n",
        "    if(sq and (iden == mat).all()):\n",
        "        print('The matrix is an identity matrix')\n",
        "    else:\n",
        "        print('The matrix is not an identity matrix')\n",
        "    one = np.ones((mat.shape[0], mat.shape[1]))\n",
        "    if((one == mat).all()):\n",
        "        print('The matrix is an ones matrix')\n",
        "    else:\n",
        "        print('The matrix is not an ones matrix')\n",
        "    zero = np.zeros((mat.shape[0], mat.shape[1]))\n",
        "    if((zero == mat).all()):\n",
        "        print('The matrix is an zeros matrix')\n",
        "    else:\n",
        "        print('The matrix is not a zeros matrix')"
      ],
      "metadata": {
        "id": "9L9jhWMR6uBs"
      },
      "execution_count": null,
      "outputs": []
    },
    {
      "cell_type": "code",
      "source": [
        "print('Matrix 1:')\n",
        "mat_desc([[1,2,3],[4,5,6],[7,8,9]])"
      ],
      "metadata": {
        "colab": {
          "base_uri": "https://localhost:8080/"
        },
        "id": "iPPYuBOx7SnH",
        "outputId": "e69659ed-6dd5-4dfa-8bca-a946cfa8412a"
      },
      "execution_count": null,
      "outputs": [
        {
          "output_type": "stream",
          "name": "stdout",
          "text": [
            "Matrix 1:\n",
            "[[1 2 3]\n",
            " [4 5 6]\n",
            " [7 8 9]]\n",
            "Shape: (3, 3)\n",
            "Size: 9\n",
            "Rank: 2\n",
            "The matrix is square\n",
            "The matrix is not empty\n",
            "The matrix is not an identity matrix\n",
            "The matrix is not an ones matrix\n",
            "The matrix is not a zeros matrix\n"
          ]
        }
      ]
    },
    {
      "cell_type": "code",
      "source": [
        "print('Matrix 2:')\n",
        "mat_desc([[1,0,0],[0,1,0],[0,0,1]])\n"
      ],
      "metadata": {
        "colab": {
          "base_uri": "https://localhost:8080/"
        },
        "id": "4uuwQgnD7Uxq",
        "outputId": "3efa8008-5d22-4188-fe89-c6b6cd731674"
      },
      "execution_count": null,
      "outputs": [
        {
          "output_type": "stream",
          "name": "stdout",
          "text": [
            "Matrix 2:\n",
            "[[1 0 0]\n",
            " [0 1 0]\n",
            " [0 0 1]]\n",
            "Shape: (3, 3)\n",
            "Size: 9\n",
            "Rank: 3\n",
            "The matrix is square\n",
            "The matrix is not empty\n",
            "The matrix is an identity matrix\n",
            "The matrix is not an ones matrix\n",
            "The matrix is not a zeros matrix\n"
          ]
        }
      ]
    },
    {
      "cell_type": "code",
      "source": [
        "print('Matrix 3:')\n",
        "mat_desc([[0,0,0],[0,0,0]])"
      ],
      "metadata": {
        "colab": {
          "base_uri": "https://localhost:8080/"
        },
        "id": "TNmN49HD7gom",
        "outputId": "5b0c2ef8-edb4-4bda-ce55-e1e23bc8ca01"
      },
      "execution_count": null,
      "outputs": [
        {
          "output_type": "stream",
          "name": "stdout",
          "text": [
            "Matrix 3:\n",
            "[[0 0 0]\n",
            " [0 0 0]]\n",
            "Shape: (2, 3)\n",
            "Size: 6\n",
            "Rank: 0\n",
            "The matrix is non-square\n",
            "The matrix is not empty\n",
            "The matrix is not an identity matrix\n",
            "The matrix is not an ones matrix\n",
            "The matrix is an zeros matrix\n"
          ]
        }
      ]
    },
    {
      "cell_type": "markdown",
      "source": [
        "## **Task 2**"
      ],
      "metadata": {
        "id": "S9ePsH78FwIv"
      }
    },
    {
      "cell_type": "code",
      "source": [
        "import numpy as np\n",
        "def mat_operation(a,b):\n",
        "  r1=len(a)\n",
        "  r2=len(b)\n",
        "  c1=len(a[0])\n",
        "  c2=len(b[0])\n",
        "  if r1!=r2 and c1!=c2 :\n",
        "    return \"Operation not possible\"\n",
        "  #Compute the sum of the array\n",
        "  s=a+b\n",
        "  #Compute the difference\n",
        "  d=a-b\n",
        "  #Compute the dot product \n",
        "  p=a*b\n",
        "  #Return the result\n",
        "  return [s,d,p]\n",
        "  #generate the 2 random matrices\n",
        "x =  np.random.randint(100, size=(3, 3))\n",
        "y =  np.random.randint(100, size=(3, 3))\n",
        "print(\"x= \",x)\n",
        "print(\"y= \",y)\n",
        "[s,d,p]=mat_operation(x,y)\n",
        "print(\"x+y\",s)\n",
        "print(\"x-y\",d)\n",
        "print(\"x*y\",p)\n"
      ],
      "metadata": {
        "colab": {
          "base_uri": "https://localhost:8080/"
        },
        "id": "pKZzhpsAGFTK",
        "outputId": "ed4ecf89-ded8-400a-b014-f6c5ab798d00"
      },
      "execution_count": null,
      "outputs": [
        {
          "output_type": "stream",
          "name": "stdout",
          "text": [
            "x=  [[ 8  3 38]\n",
            " [77  8 45]\n",
            " [ 4 28 48]]\n",
            "y=  [[16 10 16]\n",
            " [39 53 40]\n",
            " [58 96 32]]\n",
            "x+y [[ 24  13  54]\n",
            " [116  61  85]\n",
            " [ 62 124  80]]\n",
            "x-y [[ -8  -7  22]\n",
            " [ 38 -45   5]\n",
            " [-54 -68  16]]\n",
            "x*y [[ 128   30  608]\n",
            " [3003  424 1800]\n",
            " [ 232 2688 1536]]\n"
          ]
        }
      ]
    }
  ]
}