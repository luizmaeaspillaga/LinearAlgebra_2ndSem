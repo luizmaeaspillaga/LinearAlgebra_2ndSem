{
  "nbformat": 4,
  "nbformat_minor": 0,
  "metadata": {
    "colab": {
      "name": "Assignment10_ASPILLAGA",
      "provenance": [],
      "collapsed_sections": [],
      "authorship_tag": "ABX9TyMUl4tH49RCOCIorrMI/7WF",
      "include_colab_link": true
    },
    "kernelspec": {
      "name": "python3",
      "display_name": "Python 3"
    },
    "language_info": {
      "name": "python"
    }
  },
  "cells": [
    {
      "cell_type": "markdown",
      "metadata": {
        "id": "view-in-github",
        "colab_type": "text"
      },
      "source": [
        "<a href=\"https://colab.research.google.com/github/luizmaeaspillaga/LinearAlgebra_2ndSem/blob/main/Assignment10_ASPILLAGA.ipynb\" target=\"_parent\"><img src=\"https://colab.research.google.com/assets/colab-badge.svg\" alt=\"Open In Colab\"/></a>"
      ]
    },
    {
      "cell_type": "markdown",
      "source": [
        "# Linear Algebra for CHE\n",
        "## Laboratory 10 : Linear Combination and Vector Spaces"
      ],
      "metadata": {
        "id": "9KblrUQMRDjo"
      }
    },
    {
      "cell_type": "markdown",
      "source": [
        "Now that you have a fundamental knowledge about linear combination, we'll try to visualize it using scientific programming."
      ],
      "metadata": {
        "id": "uZgk2jlCRFxI"
      }
    },
    {
      "cell_type": "markdown",
      "source": [
        "### Objectives\n",
        "At the end of this activity you will be able to:\n",
        "1. Be familiar with representing linear combinations in the 2-dimensional plane.\n",
        "2. Visualize spans using vector fields in Python.\n",
        "3. Perform vector fields operations using scientific programming."
      ],
      "metadata": {
        "id": "oyyuiZ_tRKsR"
      }
    },
    {
      "cell_type": "markdown",
      "source": [
        "## Discussion"
      ],
      "metadata": {
        "id": "qAZRKiIjRNoS"
      }
    },
    {
      "cell_type": "code",
      "source": [
        "import numpy as np\n",
        "import matplotlib.pyplot as plt\n",
        "%matplotlib inline"
      ],
      "metadata": {
        "id": "ep-UemiSRPao"
      },
      "execution_count": null,
      "outputs": []
    },
    {
      "cell_type": "markdown",
      "source": [
        "## Linear Combination"
      ],
      "metadata": {
        "id": "T1YNR1wnRUVk"
      }
    },
    {
      "cell_type": "markdown",
      "source": [
        "It is said that a linear combination is the combination of linear scaling and addition of a vector its bases/components"
      ],
      "metadata": {
        "id": "RVmEhO3lgXrB"
      }
    },
    {
      "cell_type": "markdown",
      "source": [
        "We will try to visualize the vectors and their linear combinations by plotting a sample of real number values for the scalars for the vectors. Let's first try the vectors below:"
      ],
      "metadata": {
        "id": "hkYwjoRiRYIM"
      }
    },
    {
      "cell_type": "markdown",
      "source": [
        "$$X = \\begin{bmatrix} 2\\\\3 \\\\\\end{bmatrix} , Y = \\begin{bmatrix} 1\\\\5 \\\\\\end{bmatrix} $$"
      ],
      "metadata": {
        "id": "jma20XNdRaBQ"
      }
    },
    {
      "cell_type": "code",
      "source": [
        "vectX =  np.array([2,3])\n",
        "vectY =  np.array([1,5])"
      ],
      "metadata": {
        "id": "HBddYLhsRb7m"
      },
      "execution_count": null,
      "outputs": []
    },
    {
      "cell_type": "markdown",
      "source": [
        "#### Span of single vectors"
      ],
      "metadata": {
        "id": "d_WiKMaxRhJB"
      }
    },
    {
      "cell_type": "markdown",
      "source": [
        "It is the collection of all number vector linear combinations. It can be represented by a line span. \n",
        "\n",
        "One vector with a scalar is ALWAYS on the same line, no matter how much it expands or shrinks, because the direction or slope does not change. A LINE IS ONE VECTOR'S SPAN.\n",
        "\n",
        "For example."
      ],
      "metadata": {
        "id": "zyXWqXimT77d"
      }
    },
    {
      "cell_type": "markdown",
      "source": [
        "$$X = c\\cdot \\begin{bmatrix} 2\\\\3 \\\\\\end{bmatrix} $$"
      ],
      "metadata": {
        "id": "Y64Ob6XXRlna"
      }
    },
    {
      "cell_type": "markdown",
      "source": [
        "Shown below are the graphical representations using the coded single vectors. The codes used different single vectors per program while using 'np.arange' with a purpose to create an instance of ndarray with evenly spaced values and return the reference to it. Moreso, the code used 'plt.xlim' and 'plt.ylim' to set or get limits for X-axis and Y-axis respectively. Furthermore, 'plt.axhline' and 'plt.axvline' are used to draw lines at the axes coordinate. Finally, 'plt.grid' and 'plt.show' were incoded so the result would display all open figures and show a graph with grid lines."
      ],
      "metadata": {
        "id": "-iywZ-3Zgi6X"
      }
    },
    {
      "cell_type": "code",
      "source": [
        "c = np.arange(-10,10,0.125)\n",
        "\n",
        "plt.scatter(c*vectX[0],c*vectX[1])\n",
        "\n",
        "plt.xlim(-10,10)\n",
        "plt.ylim(-10,10)\n",
        "plt.axhline(y=0, color='k')\n",
        "plt.axvline(x=0, color='k')\n",
        "plt.grid()\n",
        "plt.show()"
      ],
      "metadata": {
        "colab": {
          "base_uri": "https://localhost:8080/",
          "height": 269
        },
        "id": "GXXgfc74RnH2",
        "outputId": "e551fa49-e9a3-4723-da79-351ef155e33c"
      },
      "execution_count": null,
      "outputs": [
        {
          "output_type": "display_data",
          "data": {
            "text/plain": [
              "<Figure size 432x288 with 1 Axes>"
            ],
            "image/png": "[encoded data removed]"
          },
          "metadata": {
            "needs_background": "light"
          }
        }
      ]
    },
    {
      "cell_type": "markdown",
      "source": [
        "$$Y = c\\cdot \\begin{bmatrix} 1\\\\5 \\\\\\end{bmatrix} $$"
      ],
      "metadata": {
        "id": "UzHr6xnbRuqN"
      }
    },
    {
      "cell_type": "code",
      "source": [
        "c = np.arange(-20,20,0.625)\n",
        "\n",
        "plt.scatter(c*vectY[0],c*vectY[1])\n",
        "\n",
        "plt.xlim(-20,25)\n",
        "plt.ylim(-20,25)\n",
        "plt.axhline(y=0, color='k')\n",
        "plt.axvline(x=0, color='k')\n",
        "plt.grid()\n",
        "plt.show()"
      ],
      "metadata": {
        "colab": {
          "base_uri": "https://localhost:8080/",
          "height": 269
        },
        "id": "JNsarSjqRwUQ",
        "outputId": "ed46ca8d-559a-44fb-bb70-3c6082202bc5"
      },
      "execution_count": null,
      "outputs": [
        {
          "output_type": "display_data",
          "data": {
            "text/plain": [
              "<Figure size 432x288 with 1 Axes>"
            ],
            "image/png": "[encoded data removed]"
          },
          "metadata": {
            "needs_background": "light"
          }
        }
      ]
    },
    {
      "cell_type": "markdown",
      "source": [
        "### Span of a linear combination of vectors"
      ],
      "metadata": {
        "id": "mPPqUOVgR0Th"
      }
    },
    {
      "cell_type": "markdown",
      "source": [
        "Span of a vectors refers to all the linear combination of a number present in a vector. In other words, it is a set of all the linear combination or the multiples. It is just the basis of the ful llist of linear combinations that can be created from the elements present that wll be multiplied by a set of scalars. "
      ],
      "metadata": {
        "id": "vm1zGbAPUM7m"
      }
    },
    {
      "cell_type": "markdown",
      "source": [
        "So what if we are to plot the span of a linear combination of vectors? We can visualize as a plane on the 2-dimensional coordinate system. Let's take the span of the linear combination below:"
      ],
      "metadata": {
        "id": "6EVfDmM-R2NE"
      }
    },
    {
      "cell_type": "markdown",
      "source": [
        "$$S = \\begin{Bmatrix} c_1 \\cdot\\begin{bmatrix} 1\\\\3 \\\\\\end{bmatrix}, \n",
        "c_2 \\cdot \\begin{bmatrix} 2\\\\-5 \\\\\\end{bmatrix}\\end{Bmatrix} $$"
      ],
      "metadata": {
        "id": "NWrsiLT0R5Fn"
      }
    },
    {
      "cell_type": "code",
      "source": [
        "vectA = np.array([1,3])\n",
        "vectB = np.array([2,-5])\n",
        "\n",
        "R = np.arange(-20,20,5)\n",
        "\n",
        "c1, c2 = np.meshgrid(R,R)\n",
        "\n",
        "vectR = vectA + vectB\n",
        "spanRx = c1*vectA[0] + c2*vectB[0]\n",
        "spanRy = c1*vectA[1] + c2*vectB[1]\n",
        "##plt.scatter(R*vectA[0],R*vectA[1])\n",
        "##plt.scatter(R*vectB[0],R*vectB[1])\n",
        "plt.scatter(spanRx,spanRy, s=5, alpha=0.75)\n",
        "\n",
        "plt.axhline(y=0, color='k')\n",
        "plt.axvline(x=0, color='k')\n",
        "plt.grid()\n",
        "plt.show()"
      ],
      "metadata": {
        "colab": {
          "base_uri": "https://localhost:8080/",
          "height": 265
        },
        "id": "ksItTl5cR63N",
        "outputId": "6161d85e-0c70-4da0-b64d-fe0d8925a11b"
      },
      "execution_count": null,
      "outputs": [
        {
          "output_type": "display_data",
          "data": {
            "text/plain": [
              "<Figure size 432x288 with 1 Axes>"
            ],
            "image/png": "[encoded data removed]"
          },
          "metadata": {
            "needs_background": "light"
          }
        }
      ]
    },
    {
      "cell_type": "code",
      "source": [
        "vectP = np.array([1,2])\n",
        "vectQ = np.array([1,1])\n",
        "\n",
        "R = np.arange(-10,10,1)\n",
        "\n",
        "c1, c2 = np.meshgrid(R,R)\n",
        "\n",
        "vectR = vectP + vectQ\n",
        "spanRx = c1*vectP[0] + c2*vectQ[0]\n",
        "spanRy = c1*vectP[1] + c2*vectQ[1]\n",
        "##plt.scatter(R*vectA[0],R*vectA[1])\n",
        "##plt.scatter(R*vectB[0],R*vectB[1])\n",
        "plt.scatter(spanRx,spanRy, s=5, alpha=0.75)\n",
        "\n",
        "plt.axhline(y=0, color='k')\n",
        "plt.axvline(x=0, color='k')\n",
        "plt.grid()\n",
        "plt.show()"
      ],
      "metadata": {
        "colab": {
          "base_uri": "https://localhost:8080/",
          "height": 265
        },
        "id": "B-HXZUxyR9Fl",
        "outputId": "fd1fc061-b57d-445c-ac65-cf3127dd6cd9"
      },
      "execution_count": null,
      "outputs": [
        {
          "output_type": "display_data",
          "data": {
            "text/plain": [
              "<Figure size 432x288 with 1 Axes>"
            ],
            "image/png": "[encoded data removed]"
          },
          "metadata": {
            "needs_background": "light"
          }
        }
      ]
    },
    {
      "cell_type": "markdown",
      "source": [
        "Shown on the graphs above are the graphical representation of the given vectors. Two set of vectors are represented by varibles A and B. The command \"np.arange\" is used to create an array with evenly spaced values and return the reference. The command \"np.meshgrid\" is used to create a rectangular grid out of the two given 1 dimensional arrays represented on a Cartesian plane. Resultant vector can be computed by adding the given vectors. On the other hand, the command \"spanRx\" and \"spanRy\" are used to represent a finite list of elements. The command \"plt.scatter\" is used to present data points and values in a scattered position. Commands \"plt.axhline\" and \"plt.axvline\" are used to add horizontal and vertical lines across the origin. "
      ],
      "metadata": {
        "id": "yxJ_2ozfYx6V"
      }
    },
    {
      "cell_type": "markdown",
      "source": [
        "Take note that if vectors are seen to be as a 2-dimensional span we can say it has a Rank of 2 or $\\mathbb{R}^2$. But if the span of the linear combination of vectors are seen to be like a line, they are said to be <b> linearly dependent </b> and they have a rank of 1 or $\\mathbb{R}^1$."
      ],
      "metadata": {
        "id": "K4gVnnAIR_Px"
      }
    },
    {
      "cell_type": "markdown",
      "source": [
        "### Task 1"
      ],
      "metadata": {
        "id": "TOZvTZfESBWF"
      }
    },
    {
      "cell_type": "markdown",
      "source": [
        "$$S = \\begin{bmatrix} 7\\\\10 \\\\\\end{bmatrix} , L = \\begin{bmatrix} 10\\\\7 \\\\\\end{bmatrix} $$"
      ],
      "metadata": {
        "id": "gywXnZ-76VPk"
      }
    },
    {
      "cell_type": "code",
      "source": [
        "vectS = np.array([7,10])\n",
        "vectL = np.array([10,7])"
      ],
      "metadata": {
        "id": "wg386Pgp6-R6"
      },
      "execution_count": null,
      "outputs": []
    },
    {
      "cell_type": "markdown",
      "source": [
        "**Span of Single Vector**"
      ],
      "metadata": {
        "id": "eWXkLVnq5iVm"
      }
    },
    {
      "cell_type": "markdown",
      "source": [
        "$$S = t\\cdot \\begin{bmatrix} 7\\\\10 \\\\\\end{bmatrix} $$"
      ],
      "metadata": {
        "id": "asPx3pKt7Vo1"
      }
    },
    {
      "cell_type": "code",
      "source": [
        "t = np.arange(-5,5,0.175)\n",
        "\n",
        "plt.scatter(t*vectS[0],t*vectS[1], color='black')\n",
        "plt.xlim(-5,5)\n",
        "plt.ylim(-5,5)\n",
        "plt.axhline(y=0, color='green')\n",
        "plt.axvline(x=0, color='pink')\n",
        "plt.grid()\n",
        "plt.show()"
      ],
      "metadata": {
        "colab": {
          "base_uri": "https://localhost:8080/",
          "height": 265
        },
        "id": "G16CquqY6Emb",
        "outputId": "f5adf516-6cb8-4a00-e0d8-fb71390a34a7"
      },
      "execution_count": null,
      "outputs": [
        {
          "output_type": "display_data",
          "data": {
            "text/plain": [
              "<Figure size 432x288 with 1 Axes>"
            ],
            "image/png": "[encoded data removed]"
          },
          "metadata": {
            "needs_background": "light"
          }
        }
      ]
    },
    {
      "cell_type": "markdown",
      "source": [
        "$$L = t\\cdot \\begin{bmatrix} 10\\\\7 \\\\\\end{bmatrix} $$"
      ],
      "metadata": {
        "id": "9pWX5p_a3kZw"
      }
    },
    {
      "cell_type": "code",
      "source": [
        "t = np.arange(-8,2,0.1)\n",
        "\n",
        "plt.scatter(t*vectL[0],t*vectL[1], color='pink')\n",
        "plt.xlim(-10,10)\n",
        "plt.ylim(-10,10)\n",
        "plt.axhline(y=0, color='fuchsia')\n",
        "plt.axvline(x=0, color='fuchsia')\n",
        "plt.grid()\n",
        "plt.show()"
      ],
      "metadata": {
        "id": "Wpd8ME513q42",
        "outputId": "53c50fd9-6867-49ab-a434-10525991e057",
        "colab": {
          "base_uri": "https://localhost:8080/",
          "height": 269
        }
      },
      "execution_count": null,
      "outputs": [
        {
          "output_type": "display_data",
          "data": {
            "text/plain": [
              "<Figure size 432x288 with 1 Axes>"
            ],
            "image/png": "[encoded data removed]"
          },
          "metadata": {
            "needs_background": "light"
          }
        }
      ]
    },
    {
      "cell_type": "markdown",
      "source": [
        "**Span of a Linear Combination of Vectors**"
      ],
      "metadata": {
        "id": "SEa71h8tzIyz"
      }
    },
    {
      "cell_type": "markdown",
      "source": [
        "$$S = \\begin{Bmatrix} c_1 \\cdot\\begin{bmatrix} 7\\\\10 \\\\\\end{bmatrix}, \n",
        "c_2 \\cdot \\begin{bmatrix} 10\\\\7 \\\\\\end{bmatrix}\\end{Bmatrix} $$"
      ],
      "metadata": {
        "id": "65NkNPQY1UcD"
      }
    },
    {
      "cell_type": "code",
      "source": [
        "K = np.arange(-10,10,0.25)\n",
        "\n",
        "c1, c2 = np.meshgrid(K,K)\n",
        "\n",
        "vectK = vectS + vectL\n",
        "spanKx = c1*vectS[0] + c2*vectL[0]\n",
        "spanKy = c1*vectS[1] + c2*vectL[1]\n",
        "\n",
        "plt.scatter(spanKx,spanKy, s=6, alpha=0.75)\n",
        "plt.xlim(-10,10)\n",
        "plt.ylim(-10,10)\n",
        "plt.axhline(y=0, color='green')\n",
        "plt.axvline(x=0, color='pink')\n",
        "plt.grid()\n",
        "plt.show()"
      ],
      "metadata": {
        "colab": {
          "base_uri": "https://localhost:8080/",
          "height": 269
        },
        "id": "E_c6Zesm08NU",
        "outputId": "10805dba-4594-40bc-916c-9aac10989770"
      },
      "execution_count": null,
      "outputs": [
        {
          "output_type": "display_data",
          "data": {
            "text/plain": [
              "<Figure size 432x288 with 1 Axes>"
            ],
            "image/png": "[encoded data removed]"
          },
          "metadata": {
            "needs_background": "light"
          }
        }
      ]
    }
  ]
}