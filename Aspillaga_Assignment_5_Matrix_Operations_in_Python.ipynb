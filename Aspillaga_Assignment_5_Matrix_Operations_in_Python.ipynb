{
  "nbformat": 4,
  "nbformat_minor": 0,
  "metadata": {
    "colab": {
      "name": "Aspillaga_Assignment 5 - Matrix Operations in Python",
      "provenance": [],
      "authorship_tag": "ABX9TyNa7kJW9ThjY7f6CCK5fTB6",
      "include_colab_link": true
    },
    "kernelspec": {
      "name": "python3",
      "display_name": "Python 3"
    },
    "language_info": {
      "name": "python"
    }
  },
  "cells": [
    {
      "cell_type": "markdown",
      "metadata": {
        "id": "view-in-github",
        "colab_type": "text"
      },
      "source": [
        "<a href=\"https://colab.research.google.com/github/luizmaeaspillaga/LinearAlgebra_2ndSem/blob/main/Aspillaga_Assignment_5_Matrix_Operations_in_Python.ipynb\" target=\"_parent\"><img src=\"https://colab.research.google.com/assets/colab-badge.svg\" alt=\"Open In Colab\"/></a>"
      ]
    },
    {
      "cell_type": "markdown",
      "source": [
        "# Linear Algebra for CHE"
      ],
      "metadata": {
        "id": "u0tCuPFW8VsA"
      }
    },
    {
      "cell_type": "markdown",
      "source": [
        "## Laboratory 6 : Matrix Operations"
      ],
      "metadata": {
        "id": "nh9V2Sot8bdU"
      }
    },
    {
      "cell_type": "markdown",
      "source": [
        "## Discussion"
      ],
      "metadata": {
        "id": "7b1AEv4E8jle"
      }
    },
    {
      "cell_type": "code",
      "source": [
        "import numpy as np\n",
        "import matplotlib.pyplot as plt\n",
        "%matplotlib inline"
      ],
      "metadata": {
        "id": "HCnthHWj8lbG"
      },
      "execution_count": null,
      "outputs": []
    },
    {
      "cell_type": "markdown",
      "source": [
        "## Transposition"
      ],
      "metadata": {
        "id": "3YoBovxy82Az"
      }
    },
    {
      "cell_type": "markdown",
      "source": [
        "The transpose of a matrix is obtained by transferring the data from the rows to the columns and the data from the columns to the rows. If we have an array of shape (X, Y), the array's transposition will have the same shape (Y, X)."
      ],
      "metadata": {
        "id": "k6ybe_OuDtrG"
      }
    },
    {
      "cell_type": "markdown",
      "source": [
        "One of the fundamental operations in matrix algebra is Transposition. The transpose of a matrix is done by flipping the values of its elements over its diagonals. With this, the rows and columns from the original matrix will be switched. So for *A* matrix  its transpose is denoted as *A*. So for example:"
      ],
      "metadata": {
        "id": "t7RbHPL09SjF"
      }
    },
    {
      "cell_type": "markdown",
      "source": [
        "$$A = \\begin{bmatrix} 1 & 2 & 5\\\\5 & -1 &0 \\\\ 0 & -3 & 3\\end{bmatrix} $$"
      ],
      "metadata": {
        "id": "Fu65S4UW9cnj"
      }
    },
    {
      "cell_type": "markdown",
      "source": [
        "$$ A^T = \\begin{bmatrix} 1 & 5 & 0\\\\2 & -1 &-3 \\\\ 5 & 0 & 3\\end{bmatrix}$$"
      ],
      "metadata": {
        "id": "KOZORuF-9dU1"
      }
    },
    {
      "cell_type": "markdown",
      "source": [
        "This can now be achieved programmatically by using `np.transpose()` or using the `T` method."
      ],
      "metadata": {
        "id": "Ox0Xtdma9k9b"
      }
    },
    {
      "cell_type": "code",
      "source": [
        "A = np.array([\n",
        "    [2 ,1, 3],\n",
        "    [3, 1, 5],\n",
        "    [0, -3, 3]\n",
        "])\n",
        "A"
      ],
      "metadata": {
        "colab": {
          "base_uri": "https://localhost:8080/"
        },
        "id": "yFQ1_JGk9nxH",
        "outputId": "49e0eba0-669b-4a2d-9907-cf07a5d5b735"
      },
      "execution_count": null,
      "outputs": [
        {
          "output_type": "execute_result",
          "data": {
            "text/plain": [
              "array([[ 2,  1,  3],\n",
              "       [ 3,  1,  5],\n",
              "       [ 0, -3,  3]])"
            ]
          },
          "metadata": {},
          "execution_count": 8
        }
      ]
    },
    {
      "cell_type": "code",
      "source": [
        "AT1 = np.transpose(A)\n",
        "AT1"
      ],
      "metadata": {
        "colab": {
          "base_uri": "https://localhost:8080/"
        },
        "id": "u1N8s2DP9qfB",
        "outputId": "c3a8f5ce-1da0-4005-a6ed-45ec441c8800"
      },
      "execution_count": null,
      "outputs": [
        {
          "output_type": "execute_result",
          "data": {
            "text/plain": [
              "array([[ 1,  5,  0],\n",
              "       [ 2, -1, -3],\n",
              "       [ 5,  0,  3]])"
            ]
          },
          "metadata": {},
          "execution_count": 7
        }
      ]
    },
    {
      "cell_type": "code",
      "source": [
        "AT2 = A.T"
      ],
      "metadata": {
        "id": "AQOZOCV69-kC"
      },
      "execution_count": null,
      "outputs": []
    },
    {
      "cell_type": "code",
      "source": [
        "np.array_equiv(AT1, AT2)"
      ],
      "metadata": {
        "colab": {
          "base_uri": "https://localhost:8080/"
        },
        "id": "kQWD62-X-ITf",
        "outputId": "14faef28-2096-4a71-d546-2928620dae62"
      },
      "execution_count": null,
      "outputs": [
        {
          "output_type": "execute_result",
          "data": {
            "text/plain": [
              "False"
            ]
          },
          "metadata": {},
          "execution_count": 10
        }
      ]
    },
    {
      "cell_type": "code",
      "source": [
        "B = np.array([\n",
        "    [2,1,3,5],\n",
        "    [5,8,9,7],\n",
        "])\n",
        "B.shape"
      ],
      "metadata": {
        "colab": {
          "base_uri": "https://localhost:8080/"
        },
        "id": "qIevFIM1-Lue",
        "outputId": "5b7c0f2b-59a8-4c59-f7dc-bd2db7fd4fe4"
      },
      "execution_count": null,
      "outputs": [
        {
          "output_type": "execute_result",
          "data": {
            "text/plain": [
              "(2, 4)"
            ]
          },
          "metadata": {},
          "execution_count": 12
        }
      ]
    },
    {
      "cell_type": "code",
      "source": [
        "np.transpose(B).shape"
      ],
      "metadata": {
        "colab": {
          "base_uri": "https://localhost:8080/"
        },
        "id": "qZS5LQIU-V3M",
        "outputId": "3b1a2e2c-4528-4934-8b4b-bb0737a82ebd"
      },
      "execution_count": null,
      "outputs": [
        {
          "output_type": "execute_result",
          "data": {
            "text/plain": [
              "(4, 2)"
            ]
          },
          "metadata": {},
          "execution_count": 13
        }
      ]
    },
    {
      "cell_type": "code",
      "source": [
        "B.T.shape"
      ],
      "metadata": {
        "colab": {
          "base_uri": "https://localhost:8080/"
        },
        "id": "FG-0o1UE-YhZ",
        "outputId": "08df5c4a-8eed-4934-a168-635548aa1fce"
      },
      "execution_count": null,
      "outputs": [
        {
          "output_type": "execute_result",
          "data": {
            "text/plain": [
              "(4, 2)"
            ]
          },
          "metadata": {},
          "execution_count": 14
        }
      ]
    },
    {
      "cell_type": "markdown",
      "source": [
        "**Try to create your own matrix (you can try non-squares) to test transposition.**"
      ],
      "metadata": {
        "id": "FPSfAqo7-rc2"
      }
    },
    {
      "cell_type": "code",
      "source": [
        "A = np.array([\n",
        "    [2 ,1, 3,7],\n",
        "    [3, 1, 5,9],\n",
        "    [0, -3, 3,8]\n",
        "])\n",
        "A"
      ],
      "metadata": {
        "colab": {
          "base_uri": "https://localhost:8080/"
        },
        "id": "_HWPbXZQ_NEb",
        "outputId": "a08677c6-1b10-4031-aeab-9ba0265ea011"
      },
      "execution_count": null,
      "outputs": [
        {
          "output_type": "execute_result",
          "data": {
            "text/plain": [
              "array([[ 2,  1,  3,  7],\n",
              "       [ 3,  1,  5,  9],\n",
              "       [ 0, -3,  3,  8]])"
            ]
          },
          "metadata": {},
          "execution_count": 15
        }
      ]
    },
    {
      "cell_type": "code",
      "source": [
        "AT1 = np.transpose(A)\n",
        "AT1"
      ],
      "metadata": {
        "colab": {
          "base_uri": "https://localhost:8080/"
        },
        "id": "TuCZ0ZwY_SWH",
        "outputId": "cb4a76a7-00ef-4db5-a11e-1dab92ef45d9"
      },
      "execution_count": null,
      "outputs": [
        {
          "output_type": "execute_result",
          "data": {
            "text/plain": [
              "array([[ 2,  3,  0],\n",
              "       [ 1,  1, -3],\n",
              "       [ 3,  5,  3],\n",
              "       [ 7,  9,  8]])"
            ]
          },
          "metadata": {},
          "execution_count": 16
        }
      ]
    },
    {
      "cell_type": "code",
      "source": [
        "AT2 = A.T"
      ],
      "metadata": {
        "id": "Nu7tf-HK_WCo"
      },
      "execution_count": null,
      "outputs": []
    },
    {
      "cell_type": "code",
      "source": [
        "np.array_equiv(AT1, AT2)"
      ],
      "metadata": {
        "colab": {
          "base_uri": "https://localhost:8080/"
        },
        "id": "rA8zJstX_YJf",
        "outputId": "5342e99a-bc92-4d8a-ea1c-864c525ad2c6"
      },
      "execution_count": null,
      "outputs": [
        {
          "output_type": "execute_result",
          "data": {
            "text/plain": [
              "True"
            ]
          },
          "metadata": {},
          "execution_count": 18
        }
      ]
    },
    {
      "cell_type": "code",
      "source": [
        "B = np.array([\n",
        "    [2,1,3,5,8,9],\n",
        "    [5,8,9,7,6,7],\n",
        "])\n",
        "B.shape"
      ],
      "metadata": {
        "colab": {
          "base_uri": "https://localhost:8080/"
        },
        "id": "0mEgvRCc_jiA",
        "outputId": "d14fd912-4718-4d72-87e3-8aa8e783f532"
      },
      "execution_count": null,
      "outputs": [
        {
          "output_type": "execute_result",
          "data": {
            "text/plain": [
              "(2, 6)"
            ]
          },
          "metadata": {},
          "execution_count": 21
        }
      ]
    },
    {
      "cell_type": "code",
      "source": [
        "np.transpose(B).shape\n"
      ],
      "metadata": {
        "colab": {
          "base_uri": "https://localhost:8080/"
        },
        "id": "pogNmHUT_mUw",
        "outputId": "d3b6545d-460c-4b5d-a729-585f278d764e"
      },
      "execution_count": null,
      "outputs": [
        {
          "output_type": "execute_result",
          "data": {
            "text/plain": [
              "(4, 2)"
            ]
          },
          "metadata": {},
          "execution_count": 20
        }
      ]
    },
    {
      "cell_type": "code",
      "source": [
        "B.T.shape"
      ],
      "metadata": {
        "colab": {
          "base_uri": "https://localhost:8080/"
        },
        "id": "6E26wXGG_tqA",
        "outputId": "cb68f3fa-e598-4bbd-bf1d-598ec69f048e"
      },
      "execution_count": null,
      "outputs": [
        {
          "output_type": "execute_result",
          "data": {
            "text/plain": [
              "(6, 2)"
            ]
          },
          "metadata": {},
          "execution_count": 22
        }
      ]
    },
    {
      "cell_type": "markdown",
      "source": [
        "# Dot Product/Cross Product"
      ],
      "metadata": {
        "id": "idO9KhIOAmAE"
      }
    },
    {
      "cell_type": "markdown",
      "source": [
        "This function returns the dot product of two arrays. It's the same as matrix multiplication for 2-D vectors. It is the inner product of the vectors for 1-D arrays. It is a sum-product over the last axis of a and the second-last axis of b for N-dimensional arrays."
      ],
      "metadata": {
        "id": "I45kJXXrDxJg"
      }
    },
    {
      "cell_type": "markdown",
      "source": [
        "If you recall the dot product from laboratory activity before, we will try to implement the same operation with matrices. In matrix dot product we are going to get the sum of products of the vectors by row-column pairs. So if we have two matrices $X$ and $Y$:\n",
        "\n",
        "$$X = \\begin{bmatrix}x_{(0,0)}&x_{(0,1)}\\\\ x_{(1,0)}&x_{(1,1)}\\end{bmatrix}, Y = \\begin{bmatrix}y_{(0,0)}&y_{(0,1)}\\\\ y_{(1,0)}&y_{(1,1)}\\end{bmatrix}$$\n",
        "\n",
        "The dot product will then be computed as:\n",
        "$$X \\cdot Y= \\begin{bmatrix} x_{(0,0)}*y_{(0,0)} + x_{(0,1)}*y_{(1,0)} & x_{(0,0)}*y_{(0,1)} + x_{(0,1)}*y_{(1,1)} \\\\  x_{(1,0)}*y_{(0,0)} + x_{(1,1)}*y_{(1,0)} & x_{(1,0)}*y_{(0,1)} + x_{(1,1)}*y_{(1,1)}\n",
        "\\end{bmatrix}$$\n",
        "\n",
        "So if we assign values to $X$ and $Y$:\n",
        "$$X = \\begin{bmatrix}1&2\\\\ 0&1\\end{bmatrix}, Y = \\begin{bmatrix}-1&0\\\\ 2&2\\end{bmatrix}$$"
      ],
      "metadata": {
        "id": "PdSl6CeBAyzt"
      }
    },
    {
      "cell_type": "markdown",
      "source": [
        "$$X \\cdot Y= \\begin{bmatrix} 1*-1 + 2*2 & 1*0 + 2*2 \\\\  0*-1 + 1*2 & 0*0 + 1*2 \\end{bmatrix} = \\begin{bmatrix} 3 & 4 \\\\2 & 2 \\end{bmatrix}$$\n",
        "This could be achieved programmatically using `np.dot()`, `np.matmul()` or the `@` operator."
      ],
      "metadata": {
        "id": "BrSbpZZsA3N5"
      }
    },
    {
      "cell_type": "code",
      "source": [
        "X = np.array([\n",
        "    [1,2],\n",
        "    [0,1]\n",
        "])\n",
        "Y = np.array([\n",
        "    [2,1,3],\n",
        "    [3,1,5]\n",
        "])"
      ],
      "metadata": {
        "id": "CQm48U3-A72J"
      },
      "execution_count": null,
      "outputs": []
    },
    {
      "cell_type": "code",
      "source": [
        "np.dot(X,Y)"
      ],
      "metadata": {
        "colab": {
          "base_uri": "https://localhost:8080/"
        },
        "id": "Tq8XmIRLA-FZ",
        "outputId": "864adafa-cd68-4f90-8baa-4295099b61e3"
      },
      "execution_count": null,
      "outputs": [
        {
          "output_type": "execute_result",
          "data": {
            "text/plain": [
              "array([[ 8,  3, 13],\n",
              "       [ 3,  1,  5]])"
            ]
          },
          "metadata": {},
          "execution_count": 29
        }
      ]
    },
    {
      "cell_type": "code",
      "source": [
        "X.dot(Y)"
      ],
      "metadata": {
        "colab": {
          "base_uri": "https://localhost:8080/"
        },
        "id": "ohaM77dJBACJ",
        "outputId": "55109429-57a8-4842-ffcf-c77275e69cd7"
      },
      "execution_count": null,
      "outputs": [
        {
          "output_type": "execute_result",
          "data": {
            "text/plain": [
              "array([[ 8,  3, 13],\n",
              "       [ 3,  1,  5]])"
            ]
          },
          "metadata": {},
          "execution_count": 30
        }
      ]
    },
    {
      "cell_type": "code",
      "source": [
        "X @ Y"
      ],
      "metadata": {
        "colab": {
          "base_uri": "https://localhost:8080/"
        },
        "id": "gxkBK2P7BCRi",
        "outputId": "d3991dc6-7fc1-4d92-c75d-cdd0c4b0255e"
      },
      "execution_count": null,
      "outputs": [
        {
          "output_type": "execute_result",
          "data": {
            "text/plain": [
              "array([[ 8,  3, 13],\n",
              "       [ 3,  1,  5]])"
            ]
          },
          "metadata": {},
          "execution_count": 31
        }
      ]
    },
    {
      "cell_type": "code",
      "source": [
        "np.matmul(X,Y)"
      ],
      "metadata": {
        "colab": {
          "base_uri": "https://localhost:8080/"
        },
        "id": "lsPihc9yBERR",
        "outputId": "be3ef0f4-dfbd-4f0b-8957-1513098b823c"
      },
      "execution_count": null,
      "outputs": [
        {
          "output_type": "execute_result",
          "data": {
            "text/plain": [
              "array([[ 8,  3, 13],\n",
              "       [ 3,  1,  5]])"
            ]
          },
          "metadata": {},
          "execution_count": 32
        }
      ]
    },
    {
      "cell_type": "markdown",
      "source": [
        "In matrix dot products there are additional rules compared with vector dot products. Since vector dot products were just in one dimension there are less restrictions. Since now we are dealing with Rank 2 vectors we need to consider some rules:\n",
        "\n",
        "### Rule 1: The inner dimensions of the two matrices in question must be the same. \n",
        "\n",
        "So given a matrix $A$ with a shape of $(a,b)$ where $a$ and $b$ are any integers. If we want to do a dot product between $A$ and another matrix $B$, then matrix $B$ should have a shape of $(b,c)$ where $b$ and $c$ are any integers. So for given the following matrices:\n",
        "\n",
        "$$A = \\begin{bmatrix}2&4&6\\\\5&-2&5\\\\0&1&5\\end{bmatrix}, B = \\begin{bmatrix}1&1&1\\\\3&3&3\\end{bmatrix}, \n",
        "C = \\begin{bmatrix}0&1&1&5\\\\1&1&2&5\\\\2&1&3&4\\end{bmatrix}$$\n",
        "\n",
        "So in this case $A$ has a shape of $(3,2)$, $B$ has a shape of $(3,2)$ and $C$ has a shape of $(2,3)$. So the only matrix pairs that is eligible to perform dot product is matrices $A \\cdot C$, or $B \\cdot C$.  "
      ],
      "metadata": {
        "id": "yNh5cKIMBIca"
      }
    },
    {
      "cell_type": "markdown",
      "source": [
        "Rule 1: The two matrices in question must have the same inner dimensions."
      ],
      "metadata": {
        "id": "NfbIKEV8D1JD"
      }
    },
    {
      "cell_type": "code",
      "source": [
        "A = np.array([\n",
        "    [2, 4, 6],\n",
        "    [5, -2, 5],\n",
        "    [0, 1, 5]\n",
        "])\n",
        "B = np.array([\n",
        "    [1, 1, 1],\n",
        "    [3, 3, 3]\n",
        "])\n",
        "C = np.array([\n",
        "    [0, 1, 1, 5],\n",
        "    [1, 1, 2 ,5],\n",
        "    [2, 1, 3, 4]\n",
        "])\n",
        "print(A.shape)\n",
        "print(B.shape)\n",
        "print(C.shape)"
      ],
      "metadata": {
        "colab": {
          "base_uri": "https://localhost:8080/"
        },
        "id": "s8zuNEXbB6Ri",
        "outputId": "39cfdfa2-98bb-426b-f421-cda9d8f91be2"
      },
      "execution_count": null,
      "outputs": [
        {
          "output_type": "stream",
          "name": "stdout",
          "text": [
            "(3, 3)\n",
            "(2, 3)\n",
            "(3, 4)\n"
          ]
        }
      ]
    },
    {
      "cell_type": "code",
      "source": [
        "A @ C"
      ],
      "metadata": {
        "colab": {
          "base_uri": "https://localhost:8080/"
        },
        "id": "5SNx1WxCB-uZ",
        "outputId": "29c5ebbf-3947-4354-b175-7f2da22d1c5d"
      },
      "execution_count": null,
      "outputs": [
        {
          "output_type": "execute_result",
          "data": {
            "text/plain": [
              "array([[16, 12, 28, 54],\n",
              "       [ 8,  8, 16, 35],\n",
              "       [11,  6, 17, 25]])"
            ]
          },
          "metadata": {},
          "execution_count": 43
        }
      ]
    },
    {
      "cell_type": "code",
      "source": [
        "B @ C"
      ],
      "metadata": {
        "colab": {
          "base_uri": "https://localhost:8080/"
        },
        "id": "KaIzPWt4CB5t",
        "outputId": "6327df0b-d5fd-4238-a61e-fc2c9640849e"
      },
      "execution_count": null,
      "outputs": [
        {
          "output_type": "execute_result",
          "data": {
            "text/plain": [
              "array([[ 3,  3,  6, 14],\n",
              "       [ 9,  9, 18, 42]])"
            ]
          },
          "metadata": {},
          "execution_count": 44
        }
      ]
    },
    {
      "cell_type": "markdown",
      "source": [
        "If you would notice the shape of the dot product changed and its shape is not the same as any of the matrices we used. The shape of a dot product is actually derived from the shapes of the matrices used. So recall matrix $A$ with a shape of $(a,b)$ and matrix $B$ with a shape of $(b,c)$, $A \\cdot B$ should have a shape $(a,c)$."
      ],
      "metadata": {
        "id": "TYBi4iX8CfzV"
      }
    },
    {
      "cell_type": "code",
      "source": [
        "A @ B.T"
      ],
      "metadata": {
        "colab": {
          "base_uri": "https://localhost:8080/"
        },
        "id": "bVsHaiLFEcQ9",
        "outputId": "084b85b5-3dd6-4ff8-8a0e-9724de02b14e"
      },
      "execution_count": null,
      "outputs": [
        {
          "output_type": "execute_result",
          "data": {
            "text/plain": [
              "array([[12, 36],\n",
              "       [ 8, 24],\n",
              "       [ 6, 18]])"
            ]
          },
          "metadata": {},
          "execution_count": 45
        }
      ]
    },
    {
      "cell_type": "code",
      "source": [
        "X = np.array([\n",
        "    [2,1,3]\n",
        "])\n",
        "Y = np.array([\n",
        "    [2,3],\n",
        "    [0,5],\n",
        "    [1,9]\n",
        "])\n",
        "print(X.shape)\n",
        "print(Y.shape)"
      ],
      "metadata": {
        "colab": {
          "base_uri": "https://localhost:8080/"
        },
        "id": "WaZ7Kw7YEflJ",
        "outputId": "a420c049-67d5-4e8f-862f-7acc88f3f770"
      },
      "execution_count": null,
      "outputs": [
        {
          "output_type": "stream",
          "name": "stdout",
          "text": [
            "(1, 3)\n",
            "(3, 2)\n"
          ]
        }
      ]
    },
    {
      "cell_type": "code",
      "source": [
        "Y.T @ X"
      ],
      "metadata": {
        "colab": {
          "base_uri": "https://localhost:8080/"
        },
        "id": "A4nkeoNFEvCH",
        "outputId": "99ad97a3-7583-429c-836f-bf97d26b1479"
      },
      "execution_count": null,
      "outputs": [
        {
          "output_type": "execute_result",
          "data": {
            "text/plain": [
              "array([[ 2,  7],\n",
              "       [ 1,  3],\n",
              "       [ 3, 11]])"
            ]
          },
          "metadata": {},
          "execution_count": 6
        }
      ]
    },
    {
      "cell_type": "code",
      "source": [
        "X = np.array([\n",
        "    [2,1],\n",
        "    [4,5],\n",
        "    [6,9]\n",
        "])\n",
        "Y = np.array([\n",
        "    [2,3],\n",
        "    [0,5],\n",
        "    [1,9]\n",
        "])\n",
        "print(X.shape)\n",
        "print(Y.shape)"
      ],
      "metadata": {
        "colab": {
          "base_uri": "https://localhost:8080/"
        },
        "id": "pwQgxJkBE6U1",
        "outputId": "f1623a21-1eeb-4e7d-8b83-45745619ae43"
      },
      "execution_count": null,
      "outputs": [
        {
          "output_type": "stream",
          "name": "stdout",
          "text": [
            "(3, 2)\n",
            "(3, 2)\n"
          ]
        }
      ]
    },
    {
      "cell_type": "code",
      "source": [
        "Y.T @ X"
      ],
      "metadata": {
        "colab": {
          "base_uri": "https://localhost:8080/"
        },
        "id": "97BWX7HIFGMZ",
        "outputId": "71370054-8575-4acb-e66a-93e06f6258a6"
      },
      "execution_count": null,
      "outputs": [
        {
          "output_type": "execute_result",
          "data": {
            "text/plain": [
              "array([[ 10,  11],\n",
              "       [ 80, 109]])"
            ]
          },
          "metadata": {},
          "execution_count": 50
        }
      ]
    },
    {
      "cell_type": "markdown",
      "source": [
        "### Rule 2: Dot Product has special properties\n",
        "\n",
        "Dot products are prevalent in matrix algebra, this implies that it has several unique properties and it should be considered when formulation solutions:\n",
        " 1. $A \\cdot B \\neq B \\cdot A$\n",
        " 2. $A \\cdot (B \\cdot C) = (A \\cdot B) \\cdot C$\n",
        " 3. $A\\cdot(B+C) = A\\cdot B + A\\cdot C$\n",
        " 4. $(B+C)\\cdot A = B\\cdot A + C\\cdot A$\n",
        " 5. $A\\cdot I = A$\n",
        " 6. $A\\cdot \\emptyset = \\emptyset$ "
      ],
      "metadata": {
        "id": "lMY7XYy5Fo4o"
      }
    },
    {
      "cell_type": "markdown",
      "source": [
        "Dot product in matrix refers to the summation of all products of each entry. It is composed of 6 unique properties.\n",
        "\n",
        "The **first property** proves that the dot product of A and B is not equal to the dot product of B and A. This also means that the commutative property of multiplication is not applicable to matrices.\n",
        "\n",
        "The **second property** shows that the product of A and dot product of B and C is equal to the product of C and dot product of A and B. This shows the associative property of multiplication.\n",
        "\n",
        "The **third property** of the dot product of matrices shows that the A multiplied by the sum of B and C is equal to the sum of the product of A and B and product of A and C. This presents the distributive property of multiplication. \n",
        "\n",
        "The **fourth property** is somehow similar to the third property, where A is distributed to both B and C. It is equal to the sum of the product of B and A, and the product of C and A. \n",
        "\n",
        "The **fifth property** shows that when A is  multiplied by I the products will always be A, regardless of the order in which multiplication was performed. This shows the multiplicative identity property.\n",
        "\n",
        "The **last property** shows that any matrix multiplied by zero the product will always be equal to zero. This shows the multiplicative property of zero.  \n"
      ],
      "metadata": {
        "id": "LuApMT64B_AM"
      }
    },
    {
      "cell_type": "code",
      "source": [
        "A = np.array([\n",
        "    [2,1,3],\n",
        "    [3,1,2],\n",
        "    [0,9,8]\n",
        "])\n",
        "B = np.array([\n",
        "    [5,2,3],\n",
        "    [6,1,9],\n",
        "    [4,5,9]\n",
        "])\n",
        "C = np.array([\n",
        "    [0,0,1],\n",
        "    [2,0,0],\n",
        "    [0,3,0]\n",
        "])"
      ],
      "metadata": {
        "id": "GREBGNGyFt7M"
      },
      "execution_count": null,
      "outputs": []
    },
    {
      "cell_type": "code",
      "source": [
        "A.dot(np.zeros(A.shape))"
      ],
      "metadata": {
        "colab": {
          "base_uri": "https://localhost:8080/"
        },
        "id": "HY6SLe6KGE-K",
        "outputId": "f62412a0-06fd-4d2e-aefc-1f8355f25987"
      },
      "execution_count": null,
      "outputs": [
        {
          "output_type": "execute_result",
          "data": {
            "text/plain": [
              "array([[0., 0., 0.],\n",
              "       [0., 0., 0.],\n",
              "       [0., 0., 0.]])"
            ]
          },
          "metadata": {},
          "execution_count": 75
        }
      ]
    },
    {
      "cell_type": "code",
      "source": [
        "z_mat = np.zeros(A.shape)\n",
        "z_mat"
      ],
      "metadata": {
        "colab": {
          "base_uri": "https://localhost:8080/"
        },
        "id": "4cRbAf7xGjIx",
        "outputId": "f4d4c078-0a5b-4eb8-8b30-783d2ee7ec96"
      },
      "execution_count": null,
      "outputs": [
        {
          "output_type": "execute_result",
          "data": {
            "text/plain": [
              "array([[0., 0., 0., 0.],\n",
              "       [0., 0., 0., 0.],\n",
              "       [0., 0., 0., 0.]])"
            ]
          },
          "metadata": {},
          "execution_count": 63
        }
      ]
    },
    {
      "cell_type": "code",
      "source": [
        "a_dot_z = A.dot(np.zeros(A.shape))\n",
        "a_dot_z"
      ],
      "metadata": {
        "colab": {
          "base_uri": "https://localhost:8080/"
        },
        "id": "6XkT5Xj8Gl9l",
        "outputId": "15aa86e3-40b0-4dbf-d955-94db7d6cdb4d"
      },
      "execution_count": null,
      "outputs": [
        {
          "output_type": "execute_result",
          "data": {
            "text/plain": [
              "array([[0., 0., 0.],\n",
              "       [0., 0., 0.],\n",
              "       [0., 0., 0.]])"
            ]
          },
          "metadata": {},
          "execution_count": 69
        }
      ]
    },
    {
      "cell_type": "code",
      "source": [
        "np.array_equal(a_dot_z,z_mat)"
      ],
      "metadata": {
        "colab": {
          "base_uri": "https://localhost:8080/"
        },
        "id": "ifzkLuFHG6KN",
        "outputId": "70f46b30-3d05-4381-a301-d5c7d44005de"
      },
      "execution_count": null,
      "outputs": [
        {
          "output_type": "execute_result",
          "data": {
            "text/plain": [
              "False"
            ]
          },
          "metadata": {},
          "execution_count": 70
        }
      ]
    },
    {
      "cell_type": "code",
      "source": [
        "null_mat = np.empty(A.shape, dtype=float)\n",
        "null = np.array(null_mat,dtype=float)\n",
        "print(null)\n",
        "np.allclose(a_dot_z,null)"
      ],
      "metadata": {
        "colab": {
          "base_uri": "https://localhost:8080/"
        },
        "id": "jTDFrdjzG8te",
        "outputId": "72e87dca-f534-4fa5-dec0-1628ffd0ac17"
      },
      "execution_count": null,
      "outputs": [
        {
          "output_type": "stream",
          "name": "stdout",
          "text": [
            "[[0. 0. 0.]\n",
            " [0. 0. 0.]\n",
            " [0. 0. 0.]]\n"
          ]
        },
        {
          "output_type": "execute_result",
          "data": {
            "text/plain": [
              "True"
            ]
          },
          "metadata": {},
          "execution_count": 71
        }
      ]
    },
    {
      "cell_type": "code",
      "source": [
        "A = np.array([\n",
        "    [4,3,2,1],\n",
        "    [5,6,7,8],\n",
        "    [9,10,11,12],\n",
        "    [5,6,7,5]\n",
        "])\n",
        "B = np.array([\n",
        "    [0,0,0,2],\n",
        "    [0,0,2,3],\n",
        "    [0,2,1,3],\n",
        "    [3,1,5,3]\n",
        "])\n",
        "C= np.array([\n",
        "  [2,1,3,5],\n",
        "  [6,7,8,9],\n",
        "  [9,8,6,4],\n",
        "  [12,13,14,15]\n",
        "])"
      ],
      "metadata": {
        "id": "fQg0Ngqk2Yc_"
      },
      "execution_count": null,
      "outputs": []
    },
    {
      "cell_type": "code",
      "source": [
        "M = A.dot(B)\n",
        "M2 = A.dot(C)\n",
        "S = B.dot(C)\n",
        "L = B + C\n",
        "G = M + M2"
      ],
      "metadata": {
        "id": "Iymw44qb4RNL"
      },
      "execution_count": null,
      "outputs": []
    },
    {
      "cell_type": "code",
      "source": [
        "M = B.dot(A)\n",
        "S = C.dot(A)\n",
        "P = M + S"
      ],
      "metadata": {
        "id": "qUVG214s4i5l"
      },
      "execution_count": null,
      "outputs": []
    },
    {
      "cell_type": "code",
      "source": [
        "A.dot(np.zeros(A.shape))"
      ],
      "metadata": {
        "colab": {
          "base_uri": "https://localhost:8080/"
        },
        "id": "xaiVD95Z4xH1",
        "outputId": "1581e582-4643-4182-ffbf-7bbc2bbd86fb"
      },
      "execution_count": null,
      "outputs": [
        {
          "output_type": "execute_result",
          "data": {
            "text/plain": [
              "array([[0., 0., 0., 0.],\n",
              "       [0., 0., 0., 0.],\n",
              "       [0., 0., 0., 0.],\n",
              "       [0., 0., 0., 0.]])"
            ]
          },
          "metadata": {},
          "execution_count": 14
        }
      ]
    },
    {
      "cell_type": "code",
      "source": [
        "np.array_equiv(A.dot(B), A.dot(A))"
      ],
      "metadata": {
        "colab": {
          "base_uri": "https://localhost:8080/"
        },
        "id": "-14wPSA843DY",
        "outputId": "90e694d8-e46a-46e8-f581-04bb25738853"
      },
      "execution_count": null,
      "outputs": [
        {
          "output_type": "execute_result",
          "data": {
            "text/plain": [
              "False"
            ]
          },
          "metadata": {},
          "execution_count": 15
        }
      ]
    },
    {
      "cell_type": "code",
      "source": [
        "np.array_equiv(A.dot(S), A.dot(C))"
      ],
      "metadata": {
        "colab": {
          "base_uri": "https://localhost:8080/"
        },
        "id": "3peY8JLS4_va",
        "outputId": "e8c462ac-80a2-443b-9a2b-b5191584ff09"
      },
      "execution_count": null,
      "outputs": [
        {
          "output_type": "execute_result",
          "data": {
            "text/plain": [
              "False"
            ]
          },
          "metadata": {},
          "execution_count": 16
        }
      ]
    },
    {
      "cell_type": "code",
      "source": [
        "np.array_equiv(A.dot(L), G)"
      ],
      "metadata": {
        "colab": {
          "base_uri": "https://localhost:8080/"
        },
        "id": "-tHifAYi5KgG",
        "outputId": "ad6b7a99-c855-4ee7-83b2-c1de64b9b026"
      },
      "execution_count": null,
      "outputs": [
        {
          "output_type": "execute_result",
          "data": {
            "text/plain": [
              "True"
            ]
          },
          "metadata": {},
          "execution_count": 17
        }
      ]
    },
    {
      "cell_type": "code",
      "source": [
        "np.array_equiv(L.dot(A), P)"
      ],
      "metadata": {
        "colab": {
          "base_uri": "https://localhost:8080/"
        },
        "id": "PCPmkBzp5W7w",
        "outputId": "2ef6c2c0-fd77-4292-8619-36c224574e30"
      },
      "execution_count": null,
      "outputs": [
        {
          "output_type": "execute_result",
          "data": {
            "text/plain": [
              "True"
            ]
          },
          "metadata": {},
          "execution_count": 18
        }
      ]
    },
    {
      "cell_type": "code",
      "source": [
        "A.dot(1)"
      ],
      "metadata": {
        "colab": {
          "base_uri": "https://localhost:8080/"
        },
        "id": "srycIBpb5jdR",
        "outputId": "abdad3b6-1ac5-4b05-ada3-1a3f4b70a9b0"
      },
      "execution_count": null,
      "outputs": [
        {
          "output_type": "execute_result",
          "data": {
            "text/plain": [
              "array([[ 8,  6,  4,  2],\n",
              "       [10, 12, 14, 16],\n",
              "       [18, 20, 22, 24],\n",
              "       [10, 12, 14, 10]])"
            ]
          },
          "metadata": {},
          "execution_count": 21
        }
      ]
    },
    {
      "cell_type": "code",
      "source": [
        "A.dot(0)"
      ],
      "metadata": {
        "colab": {
          "base_uri": "https://localhost:8080/"
        },
        "id": "lsN2qXY55phM",
        "outputId": "ddeeb475-0bca-4f68-82cb-d91690bd7dc5"
      },
      "execution_count": null,
      "outputs": [
        {
          "output_type": "execute_result",
          "data": {
            "text/plain": [
              "array([[0, 0, 0, 0],\n",
              "       [0, 0, 0, 0],\n",
              "       [0, 0, 0, 0],\n",
              "       [0, 0, 0, 0]])"
            ]
          },
          "metadata": {},
          "execution_count": 20
        }
      ]
    },
    {
      "cell_type": "markdown",
      "source": [
        "## Determinant"
      ],
      "metadata": {
        "id": "bnRtCIlKH1Qx"
      }
    },
    {
      "cell_type": "markdown",
      "source": [
        "The determinant is a special number that can be calculated from a matrix. It has to be a square matrix in order to proceed. Cross multiplication is the process to perform determinant in matrix."
      ],
      "metadata": {
        "id": "99u3d1-9Cju-"
      }
    },
    {
      "cell_type": "markdown",
      "source": [
        "A determinant is a scalar value derived from a square matrix. The determinant is a fundamental and important value used in matrix algebra. Although it will not be evident in this laboratory on how it can be used practically, but it will be reatly used in future lessons.\n",
        "\n",
        "The determinant of some matrix $A$ is denoted as $det(A)$ or $|A|$. So let's say $A$ is represented as:\n",
        "$$A = \\begin{bmatrix}a_{(0,0)}&a_{(0,1)}\\\\a_{(1,0)}&a_{(1,1)}\\end{bmatrix}$$\n",
        "We can compute for the determinant as:\n",
        "$$|A| = a_{(0,0)}*a_{(1,1)} - a_{(1,0)}*a_{(0,1)}$$\n",
        "So if we have $A$ as:\n",
        "$$A = \\begin{bmatrix}0&5\\\\2&3\\end{bmatrix}, |A| = 3$$\n",
        "\n",
        "But you might wonder how about square matrices beyond the shape $(2,2)$? We can approach this problem by using several methods such as co-factor expansion and the minors method. This can be taught in the lecture of the laboratory but we can achieve the strenuous computation of high-dimensional matrices programmatically using Python. We can achieve this by using `np.linalg.det()`."
      ],
      "metadata": {
        "id": "jLNs13wJH3Ws"
      }
    },
    {
      "cell_type": "code",
      "source": [
        "A = np.array([\n",
        "    [0,5],\n",
        "    [2,3]\n",
        "])\n",
        "np.linalg.det(A)"
      ],
      "metadata": {
        "colab": {
          "base_uri": "https://localhost:8080/"
        },
        "id": "La_hVvc2H_TM",
        "outputId": "d161e388-6fbb-432e-a688-fc128acaca2b"
      },
      "execution_count": null,
      "outputs": [
        {
          "output_type": "execute_result",
          "data": {
            "text/plain": [
              "-9.999999999999998"
            ]
          },
          "metadata": {},
          "execution_count": 77
        }
      ]
    },
    {
      "cell_type": "code",
      "source": [
        "## Now other mathematics classes would require you to solve this by hand, \n",
        "## and that is great for practicing your memorization and coordination skills \n",
        "## but in this class we aim for simplicity and speed so we'll use programming\n",
        "## but it's completely fine if you want to try to solve this one by hand.\n",
        "M = np.array([\n",
        "    [1,9,8,9],\n",
        "    [2,0,0,3],\n",
        "    [1,9,9,7],\n",
        "    [2,0,0,2]\n",
        "])\n",
        "np.linalg.det(M)"
      ],
      "metadata": {
        "colab": {
          "base_uri": "https://localhost:8080/"
        },
        "id": "UKrEINeqIEcJ",
        "outputId": "0940d71f-c44e-4536-f1ab-885603041d7c"
      },
      "execution_count": null,
      "outputs": [
        {
          "output_type": "execute_result",
          "data": {
            "text/plain": [
              "18.000000000000004"
            ]
          },
          "metadata": {},
          "execution_count": 78
        }
      ]
    },
    {
      "cell_type": "markdown",
      "source": [
        "## Inverse"
      ],
      "metadata": {
        "id": "pWkeeKnfLhZM"
      }
    },
    {
      "cell_type": "markdown",
      "source": [
        "Inverse of a Matrix is one of the matrix where multiplying the given matrix, which shows multiplicative identity. It is denoted as A^-1. \n",
        "\n",
        "\n",
        "\n",
        "\n",
        "\n",
        "\n"
      ],
      "metadata": {
        "id": "MNfitCgADA_z"
      }
    },
    {
      "cell_type": "markdown",
      "source": [
        "The inverse of a matrix is another fundamental operation in matrix algebra. Determining the inverse of a matrix let us determine if its solvability and its characteristic as a system of linear equation — we'll expand on this in the nect module. Another use of the inverse matrix is solving the problem of divisibility between matrices. Although element-wise division exists but dividing the entire concept of matrices does not exists. Inverse matrices provides a related operation that could have the same concept of \"dividing\" matrices.\n",
        "\n",
        "Now to determine the inverse of a matrix we need to perform several steps. So let's say we have a matrix $M$:\n",
        "$$M = \\begin{bmatrix}0&5\\\\-2&3\\end{bmatrix}$$\n",
        "First, we need to get the determinant of $M$.\n",
        "$$|M| = (0)(3)-(5)(-2) = 10$$\n",
        "Next, we need to reform the matrix into the inverse form:\n",
        "$$M^{-1} = \\frac{1}{|M|} \\begin{bmatrix} m_{(1,1)} & -m_{(0,1)} \\\\ -m_{(1,0)} & m_{(0,0)}\\end{bmatrix}$$\n",
        "So that will be:\n",
        "$$M^{-1} = \\frac{1}{26} \\begin{bmatrix} 5 & -7 \\\\ 3 & 1\\end{bmatrix} = \\begin{bmatrix} \\frac{5}{26} & \\frac{-7}{26} \\\\ \\frac{3}{26} & \\frac{1}{26}\\end{bmatrix}$$\n",
        "For higher-dimension matrices you might need to use co-factors, minors, adjugates, and other reduction techinques. To solve this programmatially we can use `np.linalg.inv()`."
      ],
      "metadata": {
        "id": "OFsA-KyiLl3B"
      }
    },
    {
      "cell_type": "code",
      "source": [
        "M = np.array([\n",
        "    [0,5,4],\n",
        "    [2,3,5],\n",
        "    [3,4,5]\n",
        "])\n",
        "\n",
        "np.array(M @ np.linalg.inv(M), dtype=int)"
      ],
      "metadata": {
        "colab": {
          "base_uri": "https://localhost:8080/"
        },
        "id": "kxGolYgrL_MI",
        "outputId": "bc8b1f63-b19d-459b-a83c-c4446465d1c8"
      },
      "execution_count": null,
      "outputs": [
        {
          "output_type": "execute_result",
          "data": {
            "text/plain": [
              "array([[1, 0, 0],\n",
              "       [0, 0, 0],\n",
              "       [0, 0, 1]])"
            ]
          },
          "metadata": {},
          "execution_count": 93
        }
      ]
    },
    {
      "cell_type": "code",
      "source": [
        "P = np.array([\n",
        "               [2,1,3],\n",
        "               [3,1,5],\n",
        "               [6,8,6]\n",
        "])\n",
        "Q = np.linalg.inv(P)\n",
        "Q"
      ],
      "metadata": {
        "colab": {
          "base_uri": "https://localhost:8080/"
        },
        "id": "LrpZApJvPmMc",
        "outputId": "55604aaf-6e8b-4d53-d217-323e7b9e18ad"
      },
      "execution_count": null,
      "outputs": [
        {
          "output_type": "execute_result",
          "data": {
            "text/plain": [
              "array([[17. , -9. , -1. ],\n",
              "       [-6. ,  3. ,  0.5],\n",
              "       [-9. ,  5. ,  0.5]])"
            ]
          },
          "metadata": {},
          "execution_count": 9
        }
      ]
    },
    {
      "cell_type": "markdown",
      "source": [
        "To validate the whether if the matric that you have solved is really the inverse, we follow this dot product property for a matrix $M$:\n",
        "$$M\\cdot M^{-1} = I$$\n",
        "\n",
        "```\n",
        "# This is formatted as code\n",
        "```\n",
        "\n"
      ],
      "metadata": {
        "id": "iXkJsDx1Nejf"
      }
    },
    {
      "cell_type": "code",
      "source": [
        "squad = np.array([\n",
        "    [0.23, 1.3, 0.45],\n",
        "    [4.67, 2.7, 2.9],\n",
        "    [2.3, 1.5, 8.5]\n",
        "])\n",
        "weights = np.array([\n",
        "    [0.2, 0.2, 0.6]\n",
        "])\n",
        "p_grade = squad @ weights.T\n",
        "p_grade"
      ],
      "metadata": {
        "colab": {
          "base_uri": "https://localhost:8080/"
        },
        "id": "-e2fSPMPNhy1",
        "outputId": "a0846004-807c-4ade-f268-dba77bd826e1"
      },
      "execution_count": null,
      "outputs": [
        {
          "output_type": "execute_result",
          "data": {
            "text/plain": [
              "array([[0.576],\n",
              "       [3.214],\n",
              "       [5.86 ]])"
            ]
          },
          "metadata": {},
          "execution_count": 92
        }
      ]
    },
    {
      "cell_type": "markdown",
      "source": [
        "## Activity"
      ],
      "metadata": {
        "id": "5luCv7gWQPb6"
      }
    },
    {
      "cell_type": "markdown",
      "source": [
        "### Task 1"
      ],
      "metadata": {
        "id": "Zn-jyHKUQQO0"
      }
    },
    {
      "cell_type": "markdown",
      "source": [
        "Prove and implement the remaining 6 matrix multiplication properties. You may create your own matrices in which their shapes should not be lower than $(3,3)$.\n",
        "In your methodology, create individual flowcharts for each property and discuss the property you would then present your proofs or validity of your implementation in the results section by comparing your result to present functions from NumPy."
      ],
      "metadata": {
        "id": "dW3Ij5hEQSuh"
      }
    },
    {
      "cell_type": "code",
      "source": [
        "A = np.array([\n",
        "    [4,3,2,1],\n",
        "    [5,6,7,8],\n",
        "    [9,10,11,12],\n",
        "    [5,6,7,5]\n",
        "])\n",
        "B = np.array([\n",
        "    [0,0,0,2],\n",
        "    [0,0,2,3],\n",
        "    [0,2,1,3],\n",
        "    [3,1,5,3]\n",
        "])\n",
        "C= np.array([\n",
        "  [2,1,3,5],\n",
        "  [6,7,8,9],\n",
        "  [9,8,6,4],\n",
        "  [12,13,14,15]\n",
        "])"
      ],
      "metadata": {
        "id": "kO6yyUNr7WAV"
      },
      "execution_count": null,
      "outputs": []
    },
    {
      "cell_type": "code",
      "source": [
        "D = A.dot(B)\n",
        "E = A.dot(C)\n",
        "F = B.dot(C)\n",
        "G = B + C\n",
        "H = D + E"
      ],
      "metadata": {
        "id": "XYi8QymM7ZNu"
      },
      "execution_count": null,
      "outputs": []
    },
    {
      "cell_type": "code",
      "source": [
        "I = B.dot(A)\n",
        "J = C.dot(A)\n",
        "K = I + J"
      ],
      "metadata": {
        "id": "ZEit6HAx7dVL"
      },
      "execution_count": null,
      "outputs": []
    },
    {
      "cell_type": "markdown",
      "source": [
        "**Property No.1**"
      ],
      "metadata": {
        "id": "fEmj5IjnvxYr"
      }
    },
    {
      "cell_type": "code",
      "source": [
        "print('PROPERTY NO. 1')\n",
        "print(f'Is AB=BA?:  {np.array_equiv(D, I)}')\n",
        "print('Matrix AB:')\n",
        "print(np.matmul(A,B))\n",
        "print(f'Shape:\\t{np.matmul(A,B).shape}')\n",
        "print('Matrix BA:')\n",
        "print(np.matmul(B,A))\n",
        "print(f'Shape:\\t{np.matmul(B,A).shape}')\n",
        "print('PROPERTY PROVEN!')"
      ],
      "metadata": {
        "colab": {
          "base_uri": "https://localhost:8080/"
        },
        "id": "xitrYi6Lv_Dh",
        "outputId": "00a919e5-1387-4ec5-9890-b0ca6094d3ac"
      },
      "execution_count": null,
      "outputs": [
        {
          "output_type": "stream",
          "name": "stdout",
          "text": [
            "PROPERTY NO. 1\n",
            "Is AB=BA?:  False\n",
            "Matrix AB:\n",
            "[[  3   5  13  26]\n",
            " [ 24  22  59  73]\n",
            " [ 36  34  91 117]\n",
            " [ 15  19  44  64]]\n",
            "Shape:\t(4, 4)\n",
            "Matrix BA:\n",
            "[[10 12 14 10]\n",
            " [33 38 43 39]\n",
            " [34 40 46 43]\n",
            " [77 83 89 86]]\n",
            "Shape:\t(4, 4)\n",
            "PROPERTY PROVEN!\n"
          ]
        }
      ]
    },
    {
      "cell_type": "markdown",
      "source": [
        "**Property No.2**"
      ],
      "metadata": {
        "id": "8y0rOM6owJbo"
      }
    },
    {
      "cell_type": "code",
      "source": [
        "print('PROPERTY NO. 2')\n",
        "print(f'Is A(BC)=(AB)C?:  {np.array_equiv(A.dot(F),D.dot(C))}')\n",
        "print('Matrix A(BC):')\n",
        "print(np.matmul(A,F))\n",
        "print(f'Shape:\\t{np.matmul(A,F).shape}')\n",
        "print('Matrix (AB)C:')\n",
        "print(np.matmul(D,C))\n",
        "print(f'Shape:\\t{np.matmul(D,C).shape}')\n",
        "print('PROPERTY PROVEN!')"
      ],
      "metadata": {
        "colab": {
          "base_uri": "https://localhost:8080/"
        },
        "id": "n3uBypO_xUL8",
        "outputId": "fbc7a764-8158-41b5-e7f4-eed54a9a8117"
      },
      "execution_count": null,
      "outputs": [
        {
          "output_type": "stream",
          "name": "stdout",
          "text": [
            "PROPERTY NO. 2\n",
            "Is A(BC)=(AB)C?:  True\n",
            "Matrix A(BC):\n",
            "[[ 465  480  491  502]\n",
            " [1587 1599 1624 1649]\n",
            " [2499 2523 2564 2605]\n",
            " [1308 1332 1357 1382]]\n",
            "Shape:\t(4, 4)\n",
            "Matrix (AB)C:\n",
            "[[ 465  480  491  502]\n",
            " [1587 1599 1624 1649]\n",
            " [2499 2523 2564 2605]\n",
            " [1308 1332 1357 1382]]\n",
            "Shape:\t(4, 4)\n",
            "PROPERTY PROVEN!\n"
          ]
        }
      ]
    },
    {
      "cell_type": "markdown",
      "source": [
        "**Property No.3**"
      ],
      "metadata": {
        "id": "d4MhF3KixW5c"
      }
    },
    {
      "cell_type": "code",
      "source": [
        "print('PROPERTY NO. 3')\n",
        "print(f'Is A(B+C)=(AB)+(AC)?:  {np.array_equiv(A.dot(G),H)}')\n",
        "print('Matrix A(B+C):')\n",
        "print(np.matmul(A,G))\n",
        "print(f'Shape:\\t{np.matmul(A,G).shape}')\n",
        "print('Matrix (AB)+(AC):')\n",
        "print(np.add(D,E))\n",
        "print(f'Shape:\\t{np.add(D,E).shape}')\n",
        "print('PROPERTY PROVEN!')"
      ],
      "metadata": {
        "colab": {
          "base_uri": "https://localhost:8080/"
        },
        "id": "1fMLrLkTxaXl",
        "outputId": "ecf32fe7-24d0-4fd2-8ef0-1a024616ed3a"
      },
      "execution_count": null,
      "outputs": [
        {
          "output_type": "stream",
          "name": "stdout",
          "text": [
            "PROPERTY NO. 3\n",
            "Is A(B+C)=(AB)+(AC)?:  True\n",
            "Matrix A(B+C):\n",
            "[[ 59  59  75  96]\n",
            " [229 229 276 300]\n",
            " [357 357 432 476]\n",
            " [184 187 219 246]]\n",
            "Shape:\t(4, 4)\n",
            "Matrix (AB)+(AC):\n",
            "[[ 59  59  75  96]\n",
            " [229 229 276 300]\n",
            " [357 357 432 476]\n",
            " [184 187 219 246]]\n",
            "Shape:\t(4, 4)\n",
            "PROPERTY PROVEN!\n"
          ]
        }
      ]
    },
    {
      "cell_type": "markdown",
      "source": [
        "Property No.4"
      ],
      "metadata": {
        "id": "5M5vDgQyxbfP"
      }
    },
    {
      "cell_type": "code",
      "source": [
        "print('PROPERTY NO. 4')\n",
        "print(f'Is (B+C)A=(BA)+(CA)?:  {np.array_equiv(G.dot(A),K)}')\n",
        "print('Matrix (B+C)A:')\n",
        "print(np.matmul(G,A))\n",
        "print(f'Shape:\\t{np.matmul(G,A).shape}')\n",
        "print('Matrix (BA)+(CA):')\n",
        "print(np.add(I,J))\n",
        "print(f'Shape:\\t{np.add(I,J).shape}')\n",
        "print('PROPERTY PROVEN!')"
      ],
      "metadata": {
        "colab": {
          "base_uri": "https://localhost:8080/"
        },
        "id": "7KU-4uS5xePM",
        "outputId": "df107cfa-524d-49db-9fd1-f4ff7301fd8a"
      },
      "execution_count": null,
      "outputs": [
        {
          "output_type": "stream",
          "name": "stdout",
          "text": [
            "PROPERTY NO. 4\n",
            "Is (B+C)A=(BA)+(CA)?:  True\n",
            "Matrix (B+C)A:\n",
            "[[ 75  84  93  81]\n",
            " [209 232 255 242]\n",
            " [184 199 214 208]\n",
            " [391 427 463 445]]\n",
            "Shape:\t(4, 4)\n",
            "Matrix (BA)+(CA):\n",
            "[[ 75  84  93  81]\n",
            " [209 232 255 242]\n",
            " [184 199 214 208]\n",
            " [391 427 463 445]]\n",
            "Shape:\t(4, 4)\n",
            "PROPERTY PROVEN!\n"
          ]
        }
      ]
    },
    {
      "cell_type": "markdown",
      "source": [
        "**Property No.5**"
      ],
      "metadata": {
        "id": "C1xMipG9xgGp"
      }
    },
    {
      "cell_type": "code",
      "source": [
        "print('PROPERTY NO. 5')\n",
        "print(f'Is A(1)=A?:  {np.array_equiv(A.dot(1),A)}')\n",
        "print('Matrix A(1):')\n",
        "print(np.multiply(A,1))\n",
        "print(f'Shape:\\t{np.multiply(A,1).shape}')\n",
        "print('Matrix A:')\n",
        "print(A)\n",
        "print(f'Shape:\\t{A.shape}')\n",
        "print('PROPERTY PROVEN!')"
      ],
      "metadata": {
        "colab": {
          "base_uri": "https://localhost:8080/"
        },
        "id": "s3kSsinuxiZe",
        "outputId": "6867cd72-8d47-4a5c-d1ac-d562724b7357"
      },
      "execution_count": null,
      "outputs": [
        {
          "output_type": "stream",
          "name": "stdout",
          "text": [
            "PROPERTY NO. 5\n",
            "Is A(1)=A?:  True\n",
            "Matrix A(1):\n",
            "[[ 4  3  2  1]\n",
            " [ 5  6  7  8]\n",
            " [ 9 10 11 12]\n",
            " [ 5  6  7  5]]\n",
            "Shape:\t(4, 4)\n",
            "Matrix A:\n",
            "[[ 4  3  2  1]\n",
            " [ 5  6  7  8]\n",
            " [ 9 10 11 12]\n",
            " [ 5  6  7  5]]\n",
            "Shape:\t(4, 4)\n",
            "PROPERTY PROVEN!\n"
          ]
        }
      ]
    },
    {
      "cell_type": "markdown",
      "source": [
        "**Property No.6**"
      ],
      "metadata": {
        "id": "YHYidnspxoMu"
      }
    },
    {
      "cell_type": "code",
      "source": [
        "print('PROPERTY NO. 6')\n",
        "print(f'Is A(0)=0?:  {np.array_equiv(A.dot(0),0)}')\n",
        "print('Matrix A(0):')\n",
        "print(np.multiply(A,0))\n",
        "print(f'Shape:\\t{np.multiply(A,0).shape}')\n",
        "print('PROPERTY PROVEN!')"
      ],
      "metadata": {
        "colab": {
          "base_uri": "https://localhost:8080/"
        },
        "id": "DGt8tRepxqQh",
        "outputId": "37e11422-c87f-4573-853b-67fed5385da6"
      },
      "execution_count": null,
      "outputs": [
        {
          "output_type": "stream",
          "name": "stdout",
          "text": [
            "PROPERTY NO. 6\n",
            "Is A(0)=0?:  True\n",
            "Matrix A(0):\n",
            "[[0 0 0 0]\n",
            " [0 0 0 0]\n",
            " [0 0 0 0]\n",
            " [0 0 0 0]]\n",
            "Shape:\t(4, 4)\n",
            "PROPERTY PROVEN!\n"
          ]
        }
      ]
    },
    {
      "cell_type": "markdown",
      "source": [
        "For your conclusion synthesize the concept and application of the laboratory. Briefly discuss what you have learned and achieved in this activity. Also answer the question: \"how can matrix operations solve problems in healthcare?\". "
      ],
      "metadata": {
        "id": "DZXTIQ01QaD_"
      }
    },
    {
      "cell_type": "code",
      "source": [
        ""
      ],
      "metadata": {
        "id": "4FE-dMDAxRyb"
      },
      "execution_count": null,
      "outputs": []
    }
  ]
}