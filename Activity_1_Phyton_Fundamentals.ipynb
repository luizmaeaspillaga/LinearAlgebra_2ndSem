{
  "cells": [
    {
      "cell_type": "markdown",
      "metadata": {
        "id": "view-in-github",
        "colab_type": "text"
      },
      "source": [
        "<a href=\"https://colab.research.google.com/github/luizmaeaspillaga/LinearAlgebra_2ndSem/blob/main/Activity_1_Phyton_Fundamentals.ipynb\" target=\"_parent\"><img src=\"https://colab.research.google.com/assets/colab-badge.svg\" alt=\"Open In Colab\"/></a>"
      ]
    },
    {
      "cell_type": "markdown",
      "metadata": {
        "id": "i731H_xcsJU0"
      },
      "source": [
        "# Welcome to Phyton Fundamentals\n",
        "In this module, we are going to establish or review our skills in Phyton programming. In this notebook we are going to cover:\n",
        "* Variables and Data Types \n",
        "* Operations\n",
        "* Input and Output Operations\n",
        "* Logic Control\n",
        "* Iterables\n",
        "* Functions"
      ]
    },
    {
      "cell_type": "markdown",
      "metadata": {
        "id": "JH2EQXn1tDMu"
      },
      "source": [
        "## Variable and Data Types"
      ]
    },
    {
      "cell_type": "markdown",
      "source": [
        "The first thing to know about coding in Phyton is that it involves variable and data types. A variable is a container for a value. It can be assigned a name; you can use it to refer to it later in the program. A data type, on the other hand, is like a class/category where the value assigned belongs to. As seen in this activity, these may involve the use of integer (int), string(str),float, etc."
      ],
      "metadata": {
        "id": "B3yqIxUQLIzJ"
      }
    },
    {
      "cell_type": "code",
      "execution_count": 13,
      "metadata": {
        "id": "g4Yeyy-1tUl1"
      },
      "outputs": [],
      "source": [
        "x = 1\n",
        "l,k = 0, -1\n"
      ]
    },
    {
      "cell_type": "code",
      "execution_count": 14,
      "metadata": {
        "colab": {
          "base_uri": "https://localhost:8080/"
        },
        "id": "rMadHiADu8ds",
        "outputId": "517f1274-b45e-4936-b2d3-1b4b81fa4969"
      },
      "outputs": [
        {
          "output_type": "execute_result",
          "data": {
            "text/plain": [
              "int"
            ]
          },
          "metadata": {},
          "execution_count": 14
        }
      ],
      "source": [
        "type(x)"
      ]
    },
    {
      "cell_type": "code",
      "execution_count": 15,
      "metadata": {
        "colab": {
          "base_uri": "https://localhost:8080/"
        },
        "id": "l4NGj9z-vYYU",
        "outputId": "5681148e-71a9-406e-9478-b5d57a9e0058"
      },
      "outputs": [
        {
          "output_type": "execute_result",
          "data": {
            "text/plain": [
              "float"
            ]
          },
          "metadata": {},
          "execution_count": 15
        }
      ],
      "source": [
        "y = 1.0\n",
        "type(y)"
      ]
    },
    {
      "cell_type": "code",
      "execution_count": 16,
      "metadata": {
        "colab": {
          "base_uri": "https://localhost:8080/"
        },
        "id": "fvtNKggFvgh6",
        "outputId": "6816db6d-e2d0-4b1d-bb5f-b830219317bf"
      },
      "outputs": [
        {
          "output_type": "execute_result",
          "data": {
            "text/plain": [
              "float"
            ]
          },
          "metadata": {},
          "execution_count": 16
        }
      ],
      "source": [
        "x = float(x)\n",
        "type(x)"
      ]
    },
    {
      "cell_type": "code",
      "execution_count": 17,
      "metadata": {
        "colab": {
          "base_uri": "https://localhost:8080/"
        },
        "id": "G4ur5kpVw69J",
        "outputId": "b3a60251-8bd8-495a-cad8-027190654d53"
      },
      "outputs": [
        {
          "output_type": "execute_result",
          "data": {
            "text/plain": [
              "str"
            ]
          },
          "metadata": {},
          "execution_count": 17
        }
      ],
      "source": [
        "s,t,u = \"0\",'1','one'\n",
        "type(t)"
      ]
    },
    {
      "cell_type": "code",
      "execution_count": 18,
      "metadata": {
        "colab": {
          "base_uri": "https://localhost:8080/"
        },
        "id": "ABPAnv58xMFp",
        "outputId": "c9ecea2d-63b5-48f5-cef1-8fbee5f1f50f"
      },
      "outputs": [
        {
          "output_type": "execute_result",
          "data": {
            "text/plain": [
              "1"
            ]
          },
          "metadata": {},
          "execution_count": 18
        }
      ],
      "source": [
        "s_int = int(t)\n",
        "s_int"
      ]
    },
    {
      "cell_type": "markdown",
      "metadata": {
        "id": "pxqJ9C8Bx-nn"
      },
      "source": [
        "## Operations"
      ]
    },
    {
      "cell_type": "markdown",
      "source": [
        "As seen in the activity, operators are used to perform operations on values and variables and to assign values to variables. Values were, first, assigned to a variable. Then, using compound operators, Python will use that operator to get the equivalent answer using the given operands."
      ],
      "metadata": {
        "id": "2T_h3_EiM_Uq"
      }
    },
    {
      "cell_type": "markdown",
      "metadata": {
        "id": "d6t7izYPyJK5"
      },
      "source": [
        "### Arithmetic\n"
      ]
    },
    {
      "cell_type": "markdown",
      "metadata": {
        "id": "itCwAABv_Bee"
      },
      "source": [
        "Based on the results of this function, it is used to perform Mathematical operations such as addition, subtraction, multiplication, and division on numerical values. "
      ]
    },
    {
      "cell_type": "code",
      "execution_count": null,
      "metadata": {
        "id": "--hjQn5MyPB6"
      },
      "outputs": [],
      "source": [
        "a,b,c,d = 2.0, -0.5, 0, -32"
      ]
    },
    {
      "cell_type": "code",
      "execution_count": null,
      "metadata": {
        "colab": {
          "base_uri": "https://localhost:8080/"
        },
        "id": "bGzJE6GOyZHy",
        "outputId": "c1e2c0f6-0556-41d1-ed5a-1a02049927fa"
      },
      "outputs": [
        {
          "output_type": "execute_result",
          "data": {
            "text/plain": [
              "1.5"
            ]
          },
          "metadata": {},
          "execution_count": 2
        }
      ],
      "source": [
        "### Addition\n",
        "S = a+b\n",
        "S"
      ]
    },
    {
      "cell_type": "code",
      "execution_count": null,
      "metadata": {
        "colab": {
          "base_uri": "https://localhost:8080/"
        },
        "id": "ZkpmXHX5yhxC",
        "outputId": "fbf681dd-5ca3-4cd8-84de-c83b695047b6"
      },
      "outputs": [
        {
          "output_type": "execute_result",
          "data": {
            "text/plain": [
              "31.5"
            ]
          },
          "metadata": {},
          "execution_count": 3
        }
      ],
      "source": [
        "### Subtraction\n",
        "D = b-d\n",
        "D"
      ]
    },
    {
      "cell_type": "code",
      "execution_count": null,
      "metadata": {
        "colab": {
          "base_uri": "https://localhost:8080/"
        },
        "id": "6DH5nny3zKMy",
        "outputId": "c165ce3e-3e56-4b2a-dfb5-488c57804fe5"
      },
      "outputs": [
        {
          "output_type": "execute_result",
          "data": {
            "text/plain": [
              "-64.0"
            ]
          },
          "metadata": {},
          "execution_count": 4
        }
      ],
      "source": [
        "### Multiplication\n",
        "P = a*d\n",
        "P"
      ]
    },
    {
      "cell_type": "code",
      "execution_count": null,
      "metadata": {
        "colab": {
          "base_uri": "https://localhost:8080/"
        },
        "id": "yb__WqYIzeo3",
        "outputId": "376259f2-3c3e-453e-d7d4-2762cf96e06c"
      },
      "outputs": [
        {
          "output_type": "execute_result",
          "data": {
            "text/plain": [
              "0.0"
            ]
          },
          "metadata": {},
          "execution_count": 5
        }
      ],
      "source": [
        "### Division\n",
        "Q = c/a\n",
        "Q"
      ]
    },
    {
      "cell_type": "code",
      "execution_count": null,
      "metadata": {
        "colab": {
          "base_uri": "https://localhost:8080/"
        },
        "id": "zYBrk1LCz07X",
        "outputId": "d676594b-63b7-4fd8-8775-f2742b4b73e6"
      },
      "outputs": [
        {
          "output_type": "execute_result",
          "data": {
            "text/plain": [
              "-4.0"
            ]
          },
          "metadata": {},
          "execution_count": 6
        }
      ],
      "source": [
        "### Floor Division\n",
        "Fq = a//b\n",
        "Fq"
      ]
    },
    {
      "cell_type": "code",
      "execution_count": null,
      "metadata": {
        "colab": {
          "base_uri": "https://localhost:8080/"
        },
        "id": "XlNZ1jdn0sB4",
        "outputId": "19ae4830-657b-4e86-83bb-2d503d51de50"
      },
      "outputs": [
        {
          "output_type": "execute_result",
          "data": {
            "text/plain": [
              "0.7071067811865476"
            ]
          },
          "metadata": {},
          "execution_count": 7
        }
      ],
      "source": [
        "### Exponentiation\n",
        "E = a**b\n",
        "E"
      ]
    },
    {
      "cell_type": "code",
      "execution_count": null,
      "metadata": {
        "colab": {
          "base_uri": "https://localhost:8080/"
        },
        "id": "8Y7ml2uJ08Q6",
        "outputId": "6adb2b62-41cc-4210-a267-9dbb8967c177"
      },
      "outputs": [
        {
          "output_type": "execute_result",
          "data": {
            "text/plain": [
              "0.0"
            ]
          },
          "metadata": {},
          "execution_count": 8
        }
      ],
      "source": [
        "### Modulo\n",
        "mod = d%a\n",
        "mod"
      ]
    },
    {
      "cell_type": "markdown",
      "metadata": {
        "id": "ZgxsSOVp1myx"
      },
      "source": [
        "### Text Cell\n"
      ]
    },
    {
      "cell_type": "code",
      "execution_count": null,
      "metadata": {
        "id": "yam3-ZOp1pM5"
      },
      "outputs": [],
      "source": [
        "G, H, J, K = 0, 100, 2, -2"
      ]
    },
    {
      "cell_type": "code",
      "execution_count": null,
      "metadata": {
        "colab": {
          "base_uri": "https://localhost:8080/"
        },
        "id": "tHUbIFgi1_0_",
        "outputId": "e131f9b6-5503-4e5f-b573-417016231d99"
      },
      "outputs": [
        {
          "output_type": "execute_result",
          "data": {
            "text/plain": [
              "2.0"
            ]
          },
          "metadata": {},
          "execution_count": 10
        }
      ],
      "source": [
        "G += a\n",
        "G"
      ]
    },
    {
      "cell_type": "code",
      "execution_count": null,
      "metadata": {
        "colab": {
          "base_uri": "https://localhost:8080/"
        },
        "id": "kvON6w5C2CzG",
        "outputId": "825440e7-7b6c-4351-b988-2108fc59e57f"
      },
      "outputs": [
        {
          "output_type": "execute_result",
          "data": {
            "text/plain": [
              "132"
            ]
          },
          "metadata": {},
          "execution_count": 11
        }
      ],
      "source": [
        "H -= d\n",
        "H "
      ]
    },
    {
      "cell_type": "code",
      "execution_count": null,
      "metadata": {
        "colab": {
          "base_uri": "https://localhost:8080/"
        },
        "id": "-PK5UytW2ZyJ",
        "outputId": "e4eeded5-d51b-458e-8cc4-3994f48ce228"
      },
      "outputs": [
        {
          "output_type": "execute_result",
          "data": {
            "text/plain": [
              "4"
            ]
          },
          "metadata": {},
          "execution_count": 12
        }
      ],
      "source": [
        "J *= 2\n",
        "J"
      ]
    },
    {
      "cell_type": "code",
      "execution_count": null,
      "metadata": {
        "colab": {
          "base_uri": "https://localhost:8080/"
        },
        "id": "4nWH1srw2erW",
        "outputId": "b4e9bfb9-b38a-4b9d-b24e-8d649cf3bcd4"
      },
      "outputs": [
        {
          "output_type": "execute_result",
          "data": {
            "text/plain": [
              "4"
            ]
          },
          "metadata": {},
          "execution_count": 13
        }
      ],
      "source": [
        "K **= 2\n",
        "K"
      ]
    },
    {
      "cell_type": "markdown",
      "metadata": {
        "id": "JSBoS0dQ3ZAf"
      },
      "source": [
        "### Comparators"
      ]
    },
    {
      "cell_type": "markdown",
      "metadata": {
        "id": "gFLRr5_YB9nQ"
      },
      "source": [
        "This function is used to compare the true value or the value set and the value that was entered based on the operators used. "
      ]
    },
    {
      "cell_type": "code",
      "execution_count": null,
      "metadata": {
        "id": "zILgiled3cZn"
      },
      "outputs": [],
      "source": [
        "res_1, res_2, res_3 = 1, 2.0, \"1\"\n",
        "true_val = 1.0"
      ]
    },
    {
      "cell_type": "code",
      "execution_count": null,
      "metadata": {
        "colab": {
          "base_uri": "https://localhost:8080/"
        },
        "id": "4Fiq4d573l2J",
        "outputId": "d3df931a-79cb-4738-dfe9-fca10a21eac8"
      },
      "outputs": [
        {
          "output_type": "execute_result",
          "data": {
            "text/plain": [
              "True"
            ]
          },
          "metadata": {},
          "execution_count": 15
        }
      ],
      "source": [
        "## Equality\n",
        "res_1 == true_val"
      ]
    },
    {
      "cell_type": "code",
      "execution_count": null,
      "metadata": {
        "colab": {
          "base_uri": "https://localhost:8080/"
        },
        "id": "MjlN2SCf3rCf",
        "outputId": "249a42fd-fe6c-41e1-a2eb-b66cc55771f4"
      },
      "outputs": [
        {
          "output_type": "execute_result",
          "data": {
            "text/plain": [
              "True"
            ]
          },
          "metadata": {},
          "execution_count": 16
        }
      ],
      "source": [
        "## Non-equality\n",
        "res_2 != true_val"
      ]
    },
    {
      "cell_type": "code",
      "execution_count": null,
      "metadata": {
        "colab": {
          "base_uri": "https://localhost:8080/"
        },
        "id": "FHUecUcM3zeg",
        "outputId": "5faa0077-0a7e-406b-969b-ed524a7e5eb7"
      },
      "outputs": [
        {
          "output_type": "execute_result",
          "data": {
            "text/plain": [
              "False"
            ]
          },
          "metadata": {},
          "execution_count": 17
        }
      ],
      "source": [
        "## Inequality\n",
        "t1 = res_1 > res_2\n",
        "t2 = res_1 < res_2/2\n",
        "t3 = res_1 >= res_2/2\n",
        "t4 = res_1 <= res_2\n",
        "t2"
      ]
    },
    {
      "cell_type": "markdown",
      "metadata": {
        "id": "tLMt3u2b48xo"
      },
      "source": [
        "### Logical"
      ]
    },
    {
      "cell_type": "markdown",
      "source": [
        "Logical operators in Python are used for conditional statements which are true and false. Specifically, it uses AND, OR and NOT as operators that each follows a certain condition. The AND operator returns TRUE if both the operands are true, the OR operator returns TRUE if either of the operand is true, while the NOT operator returns TRUE if operand is false."
      ],
      "metadata": {
        "id": "EJoCk33ML6N_"
      }
    },
    {
      "cell_type": "code",
      "execution_count": null,
      "metadata": {
        "colab": {
          "base_uri": "https://localhost:8080/"
        },
        "id": "RxvCx4em5a-R",
        "outputId": "b095fc94-8d7f-40fc-fdbc-65c05ff7c027"
      },
      "outputs": [
        {
          "output_type": "execute_result",
          "data": {
            "text/plain": [
              "True"
            ]
          },
          "metadata": {},
          "execution_count": 18
        }
      ],
      "source": [
        "res_1 == true_val"
      ]
    },
    {
      "cell_type": "code",
      "execution_count": null,
      "metadata": {
        "colab": {
          "base_uri": "https://localhost:8080/"
        },
        "id": "pyRA8iCn5eNL",
        "outputId": "53aad027-bc48-4fac-8051-99d48b6d7916"
      },
      "outputs": [
        {
          "output_type": "execute_result",
          "data": {
            "text/plain": [
              "False"
            ]
          },
          "metadata": {},
          "execution_count": 19
        }
      ],
      "source": [
        "res_1 is true_val"
      ]
    },
    {
      "cell_type": "code",
      "execution_count": null,
      "metadata": {
        "colab": {
          "base_uri": "https://localhost:8080/"
        },
        "id": "9863SJgp5iM1",
        "outputId": "4a09ba6b-b8cf-44c6-b436-a3ffce74c63f"
      },
      "outputs": [
        {
          "output_type": "execute_result",
          "data": {
            "text/plain": [
              "True"
            ]
          },
          "metadata": {},
          "execution_count": 20
        }
      ],
      "source": [
        "res_1 is not true_val"
      ]
    },
    {
      "cell_type": "code",
      "execution_count": null,
      "metadata": {
        "colab": {
          "base_uri": "https://localhost:8080/"
        },
        "id": "e_OaCOmW5mXK",
        "outputId": "9a13a8c6-165a-4adb-e6b5-59aa9cd589eb"
      },
      "outputs": [
        {
          "output_type": "execute_result",
          "data": {
            "text/plain": [
              "False"
            ]
          },
          "metadata": {},
          "execution_count": 21
        }
      ],
      "source": [
        "p, q = True, False\n",
        "conj = p and q\n",
        "conj"
      ]
    },
    {
      "cell_type": "code",
      "execution_count": null,
      "metadata": {
        "colab": {
          "base_uri": "https://localhost:8080/"
        },
        "id": "aZEWpYeF7RsV",
        "outputId": "522446e6-3719-4d2f-b6af-a1d8a213a7fd"
      },
      "outputs": [
        {
          "output_type": "execute_result",
          "data": {
            "text/plain": [
              "True"
            ]
          },
          "metadata": {},
          "execution_count": 22
        }
      ],
      "source": [
        "p, q = True, False\n",
        "disc = p or Q\n",
        "disc"
      ]
    },
    {
      "cell_type": "code",
      "execution_count": null,
      "metadata": {
        "colab": {
          "base_uri": "https://localhost:8080/"
        },
        "id": "UfJea4zB7aCt",
        "outputId": "7355ad3e-9abb-4ed6-af8d-72acfbb569a3"
      },
      "outputs": [
        {
          "output_type": "execute_result",
          "data": {
            "text/plain": [
              "True"
            ]
          },
          "metadata": {},
          "execution_count": 23
        }
      ],
      "source": [
        "p, q = True, False\n",
        "x = not(p and q)\n",
        "x"
      ]
    },
    {
      "cell_type": "code",
      "execution_count": null,
      "metadata": {
        "colab": {
          "base_uri": "https://localhost:8080/"
        },
        "id": "3h6yLzJ87l49",
        "outputId": "0cc30882-a055-4e1e-c654-2bd00154d0bb"
      },
      "outputs": [
        {
          "output_type": "execute_result",
          "data": {
            "text/plain": [
              "False"
            ]
          },
          "metadata": {},
          "execution_count": 24
        }
      ],
      "source": [
        "p, q = True, False\n",
        "xor = (not p and q) or (not p and q)\n",
        "xor"
      ]
    },
    {
      "cell_type": "markdown",
      "metadata": {
        "id": "PGdyDexD7648"
      },
      "source": [
        "### I/O\n"
      ]
    },
    {
      "cell_type": "markdown",
      "metadata": {
        "id": "Azqy8q3nCOWD"
      },
      "source": [
        "Input function is use to enter data at run time while the output is used to display the result. In this function the command print is used to display the phrase that was entered. "
      ]
    },
    {
      "cell_type": "code",
      "execution_count": null,
      "metadata": {
        "colab": {
          "base_uri": "https://localhost:8080/"
        },
        "id": "4g9As8yd8I4Z",
        "outputId": "6eaea863-6eb2-498b-a54d-accd1bdf8c66"
      },
      "outputs": [
        {
          "output_type": "stream",
          "name": "stdout",
          "text": [
            "Hello Philippines and Hello World\n"
          ]
        }
      ],
      "source": [
        "print(\"Hello Philippines and Hello World\")"
      ]
    },
    {
      "cell_type": "code",
      "execution_count": null,
      "metadata": {
        "id": "SFay5vb48Oud"
      },
      "outputs": [],
      "source": [
        "cnt = 1"
      ]
    },
    {
      "cell_type": "code",
      "execution_count": null,
      "metadata": {
        "colab": {
          "base_uri": "https://localhost:8080/"
        },
        "id": "dDteB6Bz8Q9N",
        "outputId": "7377bea1-24ba-4f10-9ce2-9401ad406bab"
      },
      "outputs": [
        {
          "output_type": "stream",
          "name": "stdout",
          "text": [
            "Hello Philippines and Hello World , Current run count is: 1\n"
          ]
        }
      ],
      "source": [
        "string = \"Hello Philippines and Hello World\"\n",
        "print(string, \", Current run count is:\", cnt)\n",
        "cnt =+ 1"
      ]
    },
    {
      "cell_type": "code",
      "execution_count": null,
      "metadata": {
        "colab": {
          "base_uri": "https://localhost:8080/"
        },
        "id": "6VyXPFLg8mua",
        "outputId": "830e3648-b821-4ce7-ca7b-37055dd085a1"
      },
      "outputs": [
        {
          "output_type": "stream",
          "name": "stdout",
          "text": [
            "Hello Philippines and Hello World, Current count is: 1\n"
          ]
        }
      ],
      "source": [
        "print(f\"{string}, Current count is: {cnt}\")"
      ]
    },
    {
      "cell_type": "code",
      "execution_count": null,
      "metadata": {
        "colab": {
          "base_uri": "https://localhost:8080/"
        },
        "id": "ZvrXH2Cj9ZyP",
        "outputId": "770bb797-35a0-4cef-a858-4a1a41bfd8f1"
      },
      "outputs": [
        {
          "output_type": "stream",
          "name": "stdout",
          "text": [
            "Hello jopay, your semestral grade is: 82.24356465746123\n"
          ]
        }
      ],
      "source": [
        "sem_grade = 82.243564657461234\n",
        "name = \"jopay\"\n",
        "print(\"Hello {}, your semestral grade is: {}\".format(name, sem_grade))"
      ]
    },
    {
      "cell_type": "code",
      "execution_count": null,
      "metadata": {
        "colab": {
          "base_uri": "https://localhost:8080/"
        },
        "id": "5FynLtght7rE",
        "outputId": "0f82eeda-01c7-4191-8523-514471152e13"
      },
      "outputs": [
        {
          "output_type": "stream",
          "name": "stdout",
          "text": [
            "The weights of your semestral grades are: \n",
            "\t30.00% for Prelims\n",
            "\t30.00% for Midterms, and\n",
            "\t40.00% for Finals.\n"
          ]
        }
      ],
      "source": [
        "w_pg, w_mg, w_fg = 0.3, 0.3, 0.4\n",
        "print(\"The weights of your semestral grades are: \\\n",
        "\\n\\t{:.2%} for Prelims\\\n",
        "\\n\\t{:.2%} for Midterms, and\\\n",
        "\\n\\t{:.2%} for Finals.\".format(w_pg, w_mg, w_fg))"
      ]
    },
    {
      "cell_type": "code",
      "execution_count": null,
      "metadata": {
        "id": "ySEVZztg1lSA",
        "colab": {
          "base_uri": "https://localhost:8080/",
          "height": 54
        },
        "outputId": "c72564be-cf63-4a88-8a30-e5f3441cfc5d"
      },
      "outputs": [
        {
          "name": "stdout",
          "output_type": "stream",
          "text": [
            "enter a number: 23\n"
          ]
        },
        {
          "output_type": "execute_result",
          "data": {
            "application/vnd.google.colaboratory.intrinsic+json": {
              "type": "string"
            },
            "text/plain": [
              "'23'"
            ]
          },
          "metadata": {},
          "execution_count": 32
        }
      ],
      "source": [
        "x = input(\"enter a number: \")\n",
        "x"
      ]
    },
    {
      "cell_type": "markdown",
      "metadata": {
        "id": "G1Nntlkq3X97"
      },
      "source": [
        "## Looping Statements"
      ]
    },
    {
      "cell_type": "markdown",
      "metadata": {
        "id": "LFKW-5wTwj4r"
      },
      "source": [
        "### While\n"
      ]
    },
    {
      "cell_type": "markdown",
      "metadata": {
        "id": "DHcRfTuKwjqV"
      },
      "source": [
        "While loop is used to execute a set of statements as long as a condition is true. First, it requires relevant variables to be ready. In this activity, the indexing variable, i, is set to 1 and the condition is set to stop if i becomes less than or greater than 10, thus, the program will keep on printing until it satisfies the condition."
      ]
    },
    {
      "cell_type": "code",
      "execution_count": null,
      "metadata": {
        "colab": {
          "base_uri": "https://localhost:8080/"
        },
        "id": "32VKX0hbwGG7",
        "outputId": "acf1f5f6-bead-415e-81e6-7bc31693ed8a"
      },
      "outputs": [
        {
          "output_type": "stream",
          "name": "stdout",
          "text": [
            "0\t|t10\n",
            "1\t|t10\n",
            "2\t|t10\n",
            "3\t|t10\n",
            "4\t|t10\n",
            "5\t|t10\n",
            "6\t|t10\n",
            "7\t|t10\n",
            "8\t|t10\n",
            "9\t|t10\n",
            "10\t|t10\n"
          ]
        }
      ],
      "source": [
        "## while loops\n",
        "i, j = 0, 10\n",
        "while(i<=j):\n",
        "    print(f\"{i}\\t|t{j}\")\n",
        "    i+=1"
      ]
    },
    {
      "cell_type": "markdown",
      "metadata": {
        "id": "ex0XSno1xbZ7"
      },
      "source": [
        "## For\n"
      ]
    },
    {
      "cell_type": "markdown",
      "metadata": {
        "id": "AXCnaDkvDIMt"
      },
      "source": [
        "The \"for\" function is used to repeat a block of code entered in a fixed number of times. The block of code entered can be increased by using the command ++ or decreased --. "
      ]
    },
    {
      "cell_type": "code",
      "execution_count": null,
      "metadata": {
        "colab": {
          "base_uri": "https://localhost:8080/"
        },
        "id": "z_aDOsYKxd0Z",
        "outputId": "ddc4b2bf-1f62-4a48-e751-113c48d63d10"
      },
      "outputs": [
        {
          "output_type": "stream",
          "name": "stdout",
          "text": [
            "0\n",
            "1\n",
            "2\n",
            "3\n",
            "4\n",
            "5\n",
            "6\n",
            "7\n",
            "8\n",
            "9\n"
          ]
        }
      ],
      "source": [
        "# for(int i=0; i<10; i++){\n",
        "# printf(i)\n",
        "# }\n",
        "\n",
        "i=0\n",
        "for i in range(10):\n",
        "    print(i)"
      ]
    },
    {
      "cell_type": "code",
      "execution_count": null,
      "metadata": {
        "colab": {
          "base_uri": "https://localhost:8080/"
        },
        "id": "uiy5oRP2yGo0",
        "outputId": "0495814d-6985-4360-bcb6-f1d5e089b1cd"
      },
      "outputs": [
        {
          "output_type": "stream",
          "name": "stdout",
          "text": [
            "Now Playing:\n",
            "\n",
            "Bakit Papa\n",
            "Meron Ba\n",
            "All Too Well\n"
          ]
        }
      ],
      "source": [
        "playlist = [\"Bakit Papa\",\"Meron Ba\",\"All Too Well\"]\n",
        "print('Now Playing:\\n')\n",
        "for song in playlist:\n",
        "    print(song)"
      ]
    },
    {
      "cell_type": "markdown",
      "metadata": {
        "id": "W2W3FPzPytYw"
      },
      "source": [
        "## Flow Control\n"
      ]
    },
    {
      "cell_type": "markdown",
      "metadata": {
        "id": "EbG3KZlN4U3T"
      },
      "source": [
        "## Condition Statement"
      ]
    },
    {
      "cell_type": "markdown",
      "source": [
        "Conditional Statements are used as a Decision-making program in Python. It uses conditional statements such as If, elif, else, and many more in which the code would be evaluated if it meets the specified conditions. The conditions should be answerable with YES or NO only."
      ],
      "metadata": {
        "id": "NSAANW8YMLft"
      }
    },
    {
      "cell_type": "code",
      "execution_count": null,
      "metadata": {
        "colab": {
          "base_uri": "https://localhost:8080/"
        },
        "id": "xb-aYfeBy24B",
        "outputId": "2492c958-d938-4b7b-d5e4-2760c4b0f1c9"
      },
      "outputs": [
        {
          "output_type": "stream",
          "name": "stdout",
          "text": [
            "Yey\n"
          ]
        }
      ],
      "source": [
        "numeral1, numeral2 = 12,12\n",
        "if(numeral1 == numeral2):\n",
        "    print(\"Yey\")\n",
        "elif(numeral1>numeral2):\n",
        "    print(\"Hoho\")\n",
        "else:\n",
        "    print(\"Aww\")"
      ]
    },
    {
      "cell_type": "markdown",
      "metadata": {
        "id": "PEQj5kkd4lD-"
      },
      "source": [
        "## Functions"
      ]
    },
    {
      "cell_type": "markdown",
      "metadata": {
        "id": "azg_fzPkGsYz"
      },
      "source": [
        "The function is used to return a value a return statement. After a function is defined, the return statement will determine the value to be returned."
      ]
    },
    {
      "cell_type": "code",
      "execution_count": null,
      "metadata": {
        "id": "v0hqrX7T11rT"
      },
      "outputs": [],
      "source": [
        "# void DeleteUser(int userid){\n",
        "#     delete(userid);\n",
        "# }\n",
        "\n",
        "def delete_user (userid):\n",
        "    print(\"Successfully deleted user: {}\". format(userid))\n",
        "\n",
        "def delete_all_users ():\n",
        "    print(\"Goodbye Earth\")\n"
      ]
    },
    {
      "cell_type": "code",
      "execution_count": null,
      "metadata": {
        "colab": {
          "base_uri": "https://localhost:8080/"
        },
        "id": "YHft6MP92eZi",
        "outputId": "bd486b97-0087-4886-b6a3-706a0a1e7bd2"
      },
      "outputs": [
        {
          "output_type": "stream",
          "name": "stdout",
          "text": [
            "Successfully deleted user: Mae\n",
            "Goodbye Earth\n"
          ]
        }
      ],
      "source": [
        "userid = \"Mae\"\n",
        "delete_user(\"Mae\")\n",
        "delete_all_users()"
      ]
    },
    {
      "cell_type": "code",
      "execution_count": null,
      "metadata": {
        "id": "3w67MEAI3jPv"
      },
      "outputs": [],
      "source": [
        "def add(addend1, addend2):\n",
        "    return addend1 + addend2\n",
        "\n",
        "def power_of_base2(exponent):\n",
        "    return 2**exponent"
      ]
    },
    {
      "cell_type": "code",
      "execution_count": null,
      "metadata": {
        "colab": {
          "base_uri": "https://localhost:8080/"
        },
        "id": "RwBOJ1X93v7m",
        "outputId": "197eb267-bb19-4b4c-8a22-2a844653c358"
      },
      "outputs": [
        {
          "output_type": "execute_result",
          "data": {
            "text/plain": [
              "256"
            ]
          },
          "metadata": {},
          "execution_count": 51
        }
      ],
      "source": [
        "addend1, addend2 = 24, 25\n",
        "add(addend1, addend2)\n",
        "\n",
        "exponent = 8\n",
        "power_of_base2(exponent)"
      ]
    },
    {
      "cell_type": "markdown",
      "metadata": {
        "id": "UDU8tEBn4DQ_"
      },
      "source": [
        "## Activity \n"
      ]
    },
    {
      "cell_type": "code",
      "execution_count": null,
      "metadata": {
        "id": "gay__tD1HEvv",
        "colab": {
          "base_uri": "https://localhost:8080/"
        },
        "outputId": "dc9c4afd-c05a-4d4d-c9f5-1bead0c65a91"
      },
      "outputs": [
        {
          "output_type": "stream",
          "name": "stdout",
          "text": [
            "Enter your name: Luizmae\n",
            "Enter your course: BS Chemical Engineering\n",
            "Enter prelim grade: 89\n",
            "Enter midterm grade: 99\n",
            "Enter finals grade: 79\n",
            "Hello Luizmae, from BS Chemical Engineering, your semestral grade for this subject is: 88.0\n",
            "😀\n"
          ]
        }
      ],
      "source": [
        "w_pg, w_mg, w_fg = 0.3, 0.3, 0.4\n",
        "name = input(\"Enter your name: \")\n",
        "course = input(\"Enter your course: \")\n",
        "pg = float(input(\"Enter prelim grade: \"))\n",
        "mg = float(input(\"Enter midterm grade: \"))\n",
        "fg = float(input(\"Enter finals grade: \"))\n",
        "sem_grade = (pg*w_pg)+(mg*w_mg)+(fg*w_fg)\n",
        "print(\"Hello {}, from {}, your semestral grade for this subject is: {}\".format(name, course, round(sem_grade, 2))) \n",
        "if(sem_grade > 70.00):\n",
        "      print(\"\\U0001F600\")\n",
        "elif(sem_grade == 70.00):\n",
        "      print(\"\\U0001F606\")\n",
        "else:\n",
        "      print(\"\\U0001F62D\")"
      ]
    }
  ],
  "metadata": {
    "colab": {
      "collapsed_sections": [],
      "name": "Activity 1 - Phyton Fundamentals",
      "provenance": [],
      "authorship_tag": "ABX9TyPdEpwY9yvp/cwvewKWE4Li",
      "include_colab_link": true
    },
    "kernelspec": {
      "display_name": "Python 3",
      "name": "python3"
    },
    "language_info": {
      "name": "python"
    }
  },
  "nbformat": 4,
  "nbformat_minor": 0
}