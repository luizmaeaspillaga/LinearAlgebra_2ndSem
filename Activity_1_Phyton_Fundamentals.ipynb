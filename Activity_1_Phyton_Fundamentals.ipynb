{
  "cells": [
    {
      "cell_type": "markdown",
      "metadata": {
        "id": "view-in-github",
        "colab_type": "text"
      },
      "source": [
        "<a href=\"https://colab.research.google.com/github/luizmaeaspillaga/LinearAlgebra_2ndSem/blob/main/Activity_1_Phyton_Fundamentals.ipynb\" target=\"_parent\"><img src=\"https://colab.research.google.com/assets/colab-badge.svg\" alt=\"Open In Colab\"/></a>"
      ]
    },
    {
      "cell_type": "markdown",
      "metadata": {
        "id": "i731H_xcsJU0"
      },
      "source": [
        "# Welcome to Phyton Fundamentals\n",
        "In this module, we are going to establish or review our skills in Phyton programming. In this notebook we are going to cover:\n",
        "* Variables and Data Types \n",
        "* Operations\n",
        "* Input and Output Operations\n",
        "* Logic Control\n",
        "* Iterables\n",
        "* Functions"
      ]
    },
    {
      "cell_type": "markdown",
      "metadata": {
        "id": "JH2EQXn1tDMu"
      },
      "source": [
        "## Variable and Data Types"
      ]
    },
    {
      "cell_type": "markdown",
      "source": [
        "The first thing to know about coding in Phyton is that it involves variable and data types. A variable is a container for a value. It can be assigned a name; you can use it to refer to it later in the program. A data type, on the other hand, is like a class/category where the value assigned belongs to. As seen in this activity, these may involve the use of integer (int), string(str),float, etc."
      ],
      "metadata": {
        "id": "B3yqIxUQLIzJ"
      }
    },
    {
      "cell_type": "code",
      "execution_count": null,
      "metadata": {
        "colab": {
          "background_save": true
        },
        "id": "g4Yeyy-1tUl1"
      },
      "outputs": [],
      "source": [
        "x = 1\n",
        "l,k = 0, -1\n"
      ]
    },
    {
      "cell_type": "code",
      "execution_count": null,
      "metadata": {
        "colab": {
          "background_save": true
        },
        "id": "rMadHiADu8ds"
      },
      "outputs": [],
      "source": [
        "type(x)"
      ]
    },
    {
      "cell_type": "code",
      "execution_count": null,
      "metadata": {
        "colab": {
          "background_save": true
        },
        "id": "l4NGj9z-vYYU"
      },
      "outputs": [],
      "source": [
        "y = 1.0\n",
        "type(y)"
      ]
    },
    {
      "cell_type": "code",
      "execution_count": null,
      "metadata": {
        "colab": {
          "background_save": true
        },
        "id": "fvtNKggFvgh6"
      },
      "outputs": [],
      "source": [
        "x = float(x)\n",
        "type(x)"
      ]
    },
    {
      "cell_type": "code",
      "execution_count": null,
      "metadata": {
        "colab": {
          "background_save": true
        },
        "id": "G4ur5kpVw69J"
      },
      "outputs": [],
      "source": [
        "s,t,u = \"0\",'1','one'\n",
        "type(t)"
      ]
    },
    {
      "cell_type": "code",
      "execution_count": null,
      "metadata": {
        "colab": {
          "background_save": true
        },
        "id": "ABPAnv58xMFp"
      },
      "outputs": [],
      "source": [
        "s_int = int(t)\n",
        "s_int"
      ]
    },
    {
      "cell_type": "markdown",
      "metadata": {
        "id": "pxqJ9C8Bx-nn"
      },
      "source": [
        "## Operations"
      ]
    },
    {
      "cell_type": "markdown",
      "source": [
        "As seen in the activity, operators are used to perform operations on values and variables and to assign values to variables. Values were, first, assigned to a variable. Then, using compound operators, Python will use that operator to get the equivalent answer using the given operands."
      ],
      "metadata": {
        "id": "2T_h3_EiM_Uq"
      }
    },
    {
      "cell_type": "markdown",
      "metadata": {
        "id": "d6t7izYPyJK5"
      },
      "source": [
        "### Arithmetic\n"
      ]
    },
    {
      "cell_type": "markdown",
      "metadata": {
        "id": "itCwAABv_Bee"
      },
      "source": [
        "Based on the results of this function, it is used to perform Mathematical operations such as addition, subtraction, multiplication, and division on numerical values. "
      ]
    },
    {
      "cell_type": "code",
      "execution_count": 166,
      "metadata": {
        "id": "--hjQn5MyPB6"
      },
      "outputs": [],
      "source": [
        "a,b,c,d = 2.0, -0.5, 0, -32"
      ]
    },
    {
      "cell_type": "code",
      "execution_count": 167,
      "metadata": {
        "colab": {
          "base_uri": "https://localhost:8080/"
        },
        "id": "bGzJE6GOyZHy",
        "outputId": "cb713f13-b7ef-443b-be9c-f9c130b54a9c"
      },
      "outputs": [
        {
          "output_type": "execute_result",
          "data": {
            "text/plain": [
              "1.5"
            ]
          },
          "metadata": {},
          "execution_count": 167
        }
      ],
      "source": [
        "### Addition\n",
        "S = a+b\n",
        "S"
      ]
    },
    {
      "cell_type": "code",
      "execution_count": 168,
      "metadata": {
        "colab": {
          "base_uri": "https://localhost:8080/"
        },
        "id": "ZkpmXHX5yhxC",
        "outputId": "e4e29f5a-0364-493e-a039-dcb7e8de1b58"
      },
      "outputs": [
        {
          "output_type": "execute_result",
          "data": {
            "text/plain": [
              "31.5"
            ]
          },
          "metadata": {},
          "execution_count": 168
        }
      ],
      "source": [
        "### Subtraction\n",
        "D = b-d\n",
        "D"
      ]
    },
    {
      "cell_type": "code",
      "execution_count": 169,
      "metadata": {
        "colab": {
          "base_uri": "https://localhost:8080/"
        },
        "id": "6DH5nny3zKMy",
        "outputId": "1d925c87-a9ca-4315-9c8b-83a747183596"
      },
      "outputs": [
        {
          "output_type": "execute_result",
          "data": {
            "text/plain": [
              "-64.0"
            ]
          },
          "metadata": {},
          "execution_count": 169
        }
      ],
      "source": [
        "### Multiplication\n",
        "P = a*d\n",
        "P"
      ]
    },
    {
      "cell_type": "code",
      "execution_count": 170,
      "metadata": {
        "colab": {
          "base_uri": "https://localhost:8080/"
        },
        "id": "yb__WqYIzeo3",
        "outputId": "3fa6f772-2a3b-4612-d96b-330c157fa986"
      },
      "outputs": [
        {
          "output_type": "execute_result",
          "data": {
            "text/plain": [
              "0.0"
            ]
          },
          "metadata": {},
          "execution_count": 170
        }
      ],
      "source": [
        "### Division\n",
        "Q = c/a\n",
        "Q"
      ]
    },
    {
      "cell_type": "code",
      "execution_count": 171,
      "metadata": {
        "colab": {
          "base_uri": "https://localhost:8080/"
        },
        "id": "zYBrk1LCz07X",
        "outputId": "0403921f-29f5-4aca-ca4c-c719b7e42337"
      },
      "outputs": [
        {
          "output_type": "execute_result",
          "data": {
            "text/plain": [
              "-4.0"
            ]
          },
          "metadata": {},
          "execution_count": 171
        }
      ],
      "source": [
        "### Floor Division\n",
        "Fq = a//b\n",
        "Fq"
      ]
    },
    {
      "cell_type": "code",
      "execution_count": 172,
      "metadata": {
        "colab": {
          "base_uri": "https://localhost:8080/"
        },
        "id": "XlNZ1jdn0sB4",
        "outputId": "ace7cfbe-c23a-4af4-b5cb-f2766be358b6"
      },
      "outputs": [
        {
          "output_type": "execute_result",
          "data": {
            "text/plain": [
              "0.7071067811865476"
            ]
          },
          "metadata": {},
          "execution_count": 172
        }
      ],
      "source": [
        "### Exponentiation\n",
        "E = a**b\n",
        "E"
      ]
    },
    {
      "cell_type": "code",
      "execution_count": 173,
      "metadata": {
        "colab": {
          "base_uri": "https://localhost:8080/"
        },
        "id": "8Y7ml2uJ08Q6",
        "outputId": "10f039f0-eadf-4cdb-d69d-3918c8b7bf5d"
      },
      "outputs": [
        {
          "output_type": "execute_result",
          "data": {
            "text/plain": [
              "0.0"
            ]
          },
          "metadata": {},
          "execution_count": 173
        }
      ],
      "source": [
        "### Modulo\n",
        "mod = d%a\n",
        "mod"
      ]
    },
    {
      "cell_type": "markdown",
      "metadata": {
        "id": "ZgxsSOVp1myx"
      },
      "source": [
        "### Text Cell\n"
      ]
    },
    {
      "cell_type": "code",
      "execution_count": 174,
      "metadata": {
        "id": "yam3-ZOp1pM5"
      },
      "outputs": [],
      "source": [
        "G, H, J, K = 0, 100, 2, -2"
      ]
    },
    {
      "cell_type": "code",
      "execution_count": 175,
      "metadata": {
        "colab": {
          "base_uri": "https://localhost:8080/"
        },
        "id": "tHUbIFgi1_0_",
        "outputId": "3e259647-9345-4b53-f582-0402dba8e41c"
      },
      "outputs": [
        {
          "output_type": "execute_result",
          "data": {
            "text/plain": [
              "2.0"
            ]
          },
          "metadata": {},
          "execution_count": 175
        }
      ],
      "source": [
        "G += a\n",
        "G"
      ]
    },
    {
      "cell_type": "code",
      "execution_count": 176,
      "metadata": {
        "colab": {
          "base_uri": "https://localhost:8080/"
        },
        "id": "kvON6w5C2CzG",
        "outputId": "f20f19bf-83fe-486f-e980-7fe54d39c055"
      },
      "outputs": [
        {
          "output_type": "execute_result",
          "data": {
            "text/plain": [
              "132"
            ]
          },
          "metadata": {},
          "execution_count": 176
        }
      ],
      "source": [
        "H -= d\n",
        "H "
      ]
    },
    {
      "cell_type": "code",
      "execution_count": 177,
      "metadata": {
        "colab": {
          "base_uri": "https://localhost:8080/"
        },
        "id": "-PK5UytW2ZyJ",
        "outputId": "01bb5eac-b401-483f-f3a6-ae0d232afa1b"
      },
      "outputs": [
        {
          "output_type": "execute_result",
          "data": {
            "text/plain": [
              "4"
            ]
          },
          "metadata": {},
          "execution_count": 177
        }
      ],
      "source": [
        "J *= 2\n",
        "J"
      ]
    },
    {
      "cell_type": "code",
      "execution_count": 178,
      "metadata": {
        "colab": {
          "base_uri": "https://localhost:8080/"
        },
        "id": "4nWH1srw2erW",
        "outputId": "a9523620-8ae1-4bcc-e174-0bdbabb837c6"
      },
      "outputs": [
        {
          "output_type": "execute_result",
          "data": {
            "text/plain": [
              "4"
            ]
          },
          "metadata": {},
          "execution_count": 178
        }
      ],
      "source": [
        "K **= 2\n",
        "K"
      ]
    },
    {
      "cell_type": "markdown",
      "metadata": {
        "id": "JSBoS0dQ3ZAf"
      },
      "source": [
        "### Comparators"
      ]
    },
    {
      "cell_type": "markdown",
      "metadata": {
        "id": "gFLRr5_YB9nQ"
      },
      "source": [
        "This function is used to compare the true value or the value set and the value that was entered based on the operators used. "
      ]
    },
    {
      "cell_type": "code",
      "execution_count": 179,
      "metadata": {
        "id": "zILgiled3cZn"
      },
      "outputs": [],
      "source": [
        "res_1, res_2, res_3 = 1, 2.0, \"1\"\n",
        "true_val = 1.0"
      ]
    },
    {
      "cell_type": "code",
      "execution_count": 180,
      "metadata": {
        "colab": {
          "base_uri": "https://localhost:8080/"
        },
        "id": "4Fiq4d573l2J",
        "outputId": "25723f6d-a621-4e17-e8ca-57dd505f63b6"
      },
      "outputs": [
        {
          "output_type": "execute_result",
          "data": {
            "text/plain": [
              "True"
            ]
          },
          "metadata": {},
          "execution_count": 180
        }
      ],
      "source": [
        "## Equality\n",
        "res_1 == true_val"
      ]
    },
    {
      "cell_type": "code",
      "execution_count": 181,
      "metadata": {
        "colab": {
          "base_uri": "https://localhost:8080/"
        },
        "id": "MjlN2SCf3rCf",
        "outputId": "e6d70f6e-12ed-4893-c2cf-3359044f43cb"
      },
      "outputs": [
        {
          "output_type": "execute_result",
          "data": {
            "text/plain": [
              "True"
            ]
          },
          "metadata": {},
          "execution_count": 181
        }
      ],
      "source": [
        "## Non-equality\n",
        "res_2 != true_val"
      ]
    },
    {
      "cell_type": "code",
      "execution_count": 182,
      "metadata": {
        "colab": {
          "base_uri": "https://localhost:8080/"
        },
        "id": "FHUecUcM3zeg",
        "outputId": "51e199a2-e80d-45e3-9146-255849ee5996"
      },
      "outputs": [
        {
          "output_type": "execute_result",
          "data": {
            "text/plain": [
              "False"
            ]
          },
          "metadata": {},
          "execution_count": 182
        }
      ],
      "source": [
        "## Inequality\n",
        "t1 = res_1 > res_2\n",
        "t2 = res_1 < res_2/2\n",
        "t3 = res_1 >= res_2/2\n",
        "t4 = res_1 <= res_2\n",
        "t2"
      ]
    },
    {
      "cell_type": "markdown",
      "metadata": {
        "id": "tLMt3u2b48xo"
      },
      "source": [
        "### Logical"
      ]
    },
    {
      "cell_type": "markdown",
      "source": [
        "Logical operators in Python are used for conditional statements which are true and false. Specifically, it uses AND, OR and NOT as operators that each follows a certain condition. The AND operator returns TRUE if both the operands are true, the OR operator returns TRUE if either of the operand is true, while the NOT operator returns TRUE if operand is false."
      ],
      "metadata": {
        "id": "EJoCk33ML6N_"
      }
    },
    {
      "cell_type": "code",
      "execution_count": 183,
      "metadata": {
        "colab": {
          "base_uri": "https://localhost:8080/"
        },
        "id": "RxvCx4em5a-R",
        "outputId": "10436664-7906-4479-bada-2e3288c2d5fa"
      },
      "outputs": [
        {
          "output_type": "execute_result",
          "data": {
            "text/plain": [
              "True"
            ]
          },
          "metadata": {},
          "execution_count": 183
        }
      ],
      "source": [
        "res_1 == true_val"
      ]
    },
    {
      "cell_type": "code",
      "execution_count": 184,
      "metadata": {
        "colab": {
          "base_uri": "https://localhost:8080/"
        },
        "id": "pyRA8iCn5eNL",
        "outputId": "b01d4000-c456-4a3c-e9a6-f16fc845ae98"
      },
      "outputs": [
        {
          "output_type": "execute_result",
          "data": {
            "text/plain": [
              "False"
            ]
          },
          "metadata": {},
          "execution_count": 184
        }
      ],
      "source": [
        "res_1 is true_val"
      ]
    },
    {
      "cell_type": "code",
      "execution_count": 185,
      "metadata": {
        "colab": {
          "base_uri": "https://localhost:8080/"
        },
        "id": "9863SJgp5iM1",
        "outputId": "266933a0-1282-4aac-a350-adefe0bffa5a"
      },
      "outputs": [
        {
          "output_type": "execute_result",
          "data": {
            "text/plain": [
              "True"
            ]
          },
          "metadata": {},
          "execution_count": 185
        }
      ],
      "source": [
        "res_1 is not true_val"
      ]
    },
    {
      "cell_type": "code",
      "execution_count": 186,
      "metadata": {
        "colab": {
          "base_uri": "https://localhost:8080/"
        },
        "id": "e_OaCOmW5mXK",
        "outputId": "495428fa-c48c-40e0-a4e4-f1ae1990d9b0"
      },
      "outputs": [
        {
          "output_type": "execute_result",
          "data": {
            "text/plain": [
              "False"
            ]
          },
          "metadata": {},
          "execution_count": 186
        }
      ],
      "source": [
        "p, q = True, False\n",
        "conj = p and q\n",
        "conj"
      ]
    },
    {
      "cell_type": "code",
      "execution_count": 187,
      "metadata": {
        "colab": {
          "base_uri": "https://localhost:8080/"
        },
        "id": "aZEWpYeF7RsV",
        "outputId": "acc6497e-c825-4352-9d17-dbb932be66a1"
      },
      "outputs": [
        {
          "output_type": "execute_result",
          "data": {
            "text/plain": [
              "True"
            ]
          },
          "metadata": {},
          "execution_count": 187
        }
      ],
      "source": [
        "p, q = True, False\n",
        "disc = p or Q\n",
        "disc"
      ]
    },
    {
      "cell_type": "code",
      "execution_count": 188,
      "metadata": {
        "colab": {
          "base_uri": "https://localhost:8080/"
        },
        "id": "UfJea4zB7aCt",
        "outputId": "f2e30f91-c1ee-4a0a-eda6-57c552c46941"
      },
      "outputs": [
        {
          "output_type": "execute_result",
          "data": {
            "text/plain": [
              "True"
            ]
          },
          "metadata": {},
          "execution_count": 188
        }
      ],
      "source": [
        "p, q = True, False\n",
        "x = not(p and q)\n",
        "x"
      ]
    },
    {
      "cell_type": "code",
      "execution_count": 189,
      "metadata": {
        "colab": {
          "base_uri": "https://localhost:8080/"
        },
        "id": "3h6yLzJ87l49",
        "outputId": "5b991961-2919-451a-92ec-9e54b54de846"
      },
      "outputs": [
        {
          "output_type": "execute_result",
          "data": {
            "text/plain": [
              "False"
            ]
          },
          "metadata": {},
          "execution_count": 189
        }
      ],
      "source": [
        "p, q = True, False\n",
        "xor = (not p and q) or (not p and q)\n",
        "xor"
      ]
    },
    {
      "cell_type": "markdown",
      "metadata": {
        "id": "PGdyDexD7648"
      },
      "source": [
        "### I/O\n"
      ]
    },
    {
      "cell_type": "markdown",
      "metadata": {
        "id": "Azqy8q3nCOWD"
      },
      "source": [
        "Input function is use to enter data at run time while the output is used to display the result. In this function the command print is used to display the phrase that was entered. "
      ]
    },
    {
      "cell_type": "code",
      "execution_count": 190,
      "metadata": {
        "colab": {
          "base_uri": "https://localhost:8080/"
        },
        "id": "4g9As8yd8I4Z",
        "outputId": "814f3273-3ad9-473b-fd30-55cb4df05bf3"
      },
      "outputs": [
        {
          "output_type": "stream",
          "name": "stdout",
          "text": [
            "Hello Philippines and Hello World\n"
          ]
        }
      ],
      "source": [
        "print(\"Hello Philippines and Hello World\")"
      ]
    },
    {
      "cell_type": "code",
      "execution_count": 191,
      "metadata": {
        "id": "SFay5vb48Oud"
      },
      "outputs": [],
      "source": [
        "cnt = 1"
      ]
    },
    {
      "cell_type": "code",
      "execution_count": 192,
      "metadata": {
        "colab": {
          "base_uri": "https://localhost:8080/"
        },
        "id": "dDteB6Bz8Q9N",
        "outputId": "33466019-423b-4eda-b0b3-173ca492738e"
      },
      "outputs": [
        {
          "output_type": "stream",
          "name": "stdout",
          "text": [
            "Hello Philippines and Hello World , Current run count is: 1\n"
          ]
        }
      ],
      "source": [
        "string = \"Hello Philippines and Hello World\"\n",
        "print(string, \", Current run count is:\", cnt)\n",
        "cnt =+ 1"
      ]
    },
    {
      "cell_type": "code",
      "execution_count": 193,
      "metadata": {
        "colab": {
          "base_uri": "https://localhost:8080/"
        },
        "id": "6VyXPFLg8mua",
        "outputId": "28545b4d-ac0f-4314-d90c-455c04c67e7d"
      },
      "outputs": [
        {
          "output_type": "stream",
          "name": "stdout",
          "text": [
            "Hello Philippines and Hello World, Current count is: 1\n"
          ]
        }
      ],
      "source": [
        "print(f\"{string}, Current count is: {cnt}\")"
      ]
    },
    {
      "cell_type": "code",
      "execution_count": 194,
      "metadata": {
        "colab": {
          "base_uri": "https://localhost:8080/"
        },
        "id": "ZvrXH2Cj9ZyP",
        "outputId": "f841f13b-2905-4d9f-f063-956dc9b2f0f1"
      },
      "outputs": [
        {
          "output_type": "stream",
          "name": "stdout",
          "text": [
            "Hello jopay, your semestral grade is: 82.24356465746123\n"
          ]
        }
      ],
      "source": [
        "sem_grade = 82.243564657461234\n",
        "name = \"jopay\"\n",
        "print(\"Hello {}, your semestral grade is: {}\".format(name, sem_grade))"
      ]
    },
    {
      "cell_type": "code",
      "execution_count": 195,
      "metadata": {
        "colab": {
          "base_uri": "https://localhost:8080/"
        },
        "id": "5FynLtght7rE",
        "outputId": "f845edca-52a3-4c18-be66-8b58ab4d23d8"
      },
      "outputs": [
        {
          "output_type": "stream",
          "name": "stdout",
          "text": [
            "The weights of your semestral grades are: \n",
            "\t30.00% for Prelims\n",
            "\t30.00% for Midterms, and\n",
            "\t40.00% for Finals.\n"
          ]
        }
      ],
      "source": [
        "w_pg, w_mg, w_fg = 0.3, 0.3, 0.4\n",
        "print(\"The weights of your semestral grades are: \\\n",
        "\\n\\t{:.2%} for Prelims\\\n",
        "\\n\\t{:.2%} for Midterms, and\\\n",
        "\\n\\t{:.2%} for Finals.\".format(w_pg, w_mg, w_fg))"
      ]
    },
    {
      "cell_type": "code",
      "execution_count": null,
      "metadata": {
        "id": "ySEVZztg1lSA"
      },
      "outputs": [],
      "source": [
        "x = input(\"enter a number: \")\n",
        "x"
      ]
    },
    {
      "cell_type": "markdown",
      "metadata": {
        "id": "G1Nntlkq3X97"
      },
      "source": [
        "## Looping Statements"
      ]
    },
    {
      "cell_type": "markdown",
      "metadata": {
        "id": "LFKW-5wTwj4r"
      },
      "source": [
        "### While\n"
      ]
    },
    {
      "cell_type": "markdown",
      "metadata": {
        "id": "DHcRfTuKwjqV"
      },
      "source": [
        "While loop is used to execute a set of statements as long as a condition is true. First, it requires relevant variables to be ready. In this activity, the indexing variable, i, is set to 1 and the condition is set to stop if i becomes less than or greater than 10, thus, the program will keep on printing until it satisfies the condition."
      ]
    },
    {
      "cell_type": "code",
      "execution_count": null,
      "metadata": {
        "colab": {
          "base_uri": "https://localhost:8080/"
        },
        "id": "32VKX0hbwGG7",
        "outputId": "80ae23bb-cb74-467e-d9c7-b8e6fd5b78d7"
      },
      "outputs": [
        {
          "output_type": "stream",
          "name": "stdout",
          "text": [
            "0\t|t10\n",
            "1\t|t10\n",
            "2\t|t10\n",
            "3\t|t10\n",
            "4\t|t10\n",
            "5\t|t10\n",
            "6\t|t10\n",
            "7\t|t10\n",
            "8\t|t10\n",
            "9\t|t10\n",
            "10\t|t10\n"
          ]
        }
      ],
      "source": [
        "## while loops\n",
        "i, j = 0, 10\n",
        "while(i<=j):\n",
        "    print(f\"{i}\\t|t{j}\")\n",
        "    i+=1"
      ]
    },
    {
      "cell_type": "markdown",
      "metadata": {
        "id": "ex0XSno1xbZ7"
      },
      "source": [
        "## For\n"
      ]
    },
    {
      "cell_type": "markdown",
      "metadata": {
        "id": "AXCnaDkvDIMt"
      },
      "source": [
        "The \"for\" function is used to repeat a block of code entered in a fixed number of times. The block of code entered can be increased by using the command ++ or decreased --. "
      ]
    },
    {
      "cell_type": "code",
      "execution_count": null,
      "metadata": {
        "colab": {
          "base_uri": "https://localhost:8080/"
        },
        "id": "z_aDOsYKxd0Z",
        "outputId": "f2857106-92de-4105-cb70-8b05db75163d"
      },
      "outputs": [
        {
          "name": "stdout",
          "output_type": "stream",
          "text": [
            "0\n",
            "1\n",
            "2\n",
            "3\n",
            "4\n",
            "5\n",
            "6\n",
            "7\n",
            "8\n",
            "9\n"
          ]
        }
      ],
      "source": [
        "# for(int i=0; i<10; i++){\n",
        "# printf(i)\n",
        "# }\n",
        "\n",
        "i=0\n",
        "for i in range(10):\n",
        "    print(i)"
      ]
    },
    {
      "cell_type": "code",
      "execution_count": null,
      "metadata": {
        "colab": {
          "base_uri": "https://localhost:8080/"
        },
        "id": "uiy5oRP2yGo0",
        "outputId": "b4874b4c-5bed-4d69-f50b-c4076f707aa9"
      },
      "outputs": [
        {
          "name": "stdout",
          "output_type": "stream",
          "text": [
            "Now Playing:\n",
            "\n",
            "Bakit Papa\n",
            "Meron Ba\n",
            "All Too Well\n"
          ]
        }
      ],
      "source": [
        "playlist = [\"Bakit Papa\",\"Meron Ba\",\"All Too Well\"]\n",
        "print('Now Playing:\\n')\n",
        "for song in playlist:\n",
        "    print(song)"
      ]
    },
    {
      "cell_type": "markdown",
      "metadata": {
        "id": "W2W3FPzPytYw"
      },
      "source": [
        "## Flow Control\n"
      ]
    },
    {
      "cell_type": "markdown",
      "metadata": {
        "id": "EbG3KZlN4U3T"
      },
      "source": [
        "## Condition Statement"
      ]
    },
    {
      "cell_type": "markdown",
      "source": [
        "Conditional Statements are used as a Decision-making program in Python. It uses conditional statements such as If, elif, else, and many more in which the code would be evaluated if it meets the specified conditions. The conditions should be answerable with YES or NO only."
      ],
      "metadata": {
        "id": "NSAANW8YMLft"
      }
    },
    {
      "cell_type": "code",
      "execution_count": null,
      "metadata": {
        "colab": {
          "base_uri": "https://localhost:8080/"
        },
        "id": "xb-aYfeBy24B",
        "outputId": "2b12ef10-7038-409b-9bcb-05c600cb444e"
      },
      "outputs": [
        {
          "name": "stdout",
          "output_type": "stream",
          "text": [
            "Hoho\n"
          ]
        }
      ],
      "source": [
        "numeral1, numeral2 = 13, 12\n",
        "if(numeral1 == numeral2):\n",
        "    print(\"Yey\")\n",
        "elif(numeral1>numeral2):\n",
        "    print(\"Hoho\")\n",
        "else:\n",
        "    print(\"Aww\")"
      ]
    },
    {
      "cell_type": "markdown",
      "metadata": {
        "id": "PEQj5kkd4lD-"
      },
      "source": [
        "## Functions"
      ]
    },
    {
      "cell_type": "markdown",
      "metadata": {
        "id": "azg_fzPkGsYz"
      },
      "source": [
        "The function is used to return a value using a return a value using a return statement. After a function is defined, the return statement will determine the value to be returned."
      ]
    },
    {
      "cell_type": "code",
      "execution_count": null,
      "metadata": {
        "id": "v0hqrX7T11rT"
      },
      "outputs": [],
      "source": [
        "# void DeleteUser(int userid){\n",
        "#     delete(userid);\n",
        "# }\n",
        "\n",
        "def delete_user (userid):\n",
        "    print(\"Successfully deleted user: {}\". format(userid))\n",
        "\n",
        "def delete_all_users ():\n",
        "    print(\"Goodbye Earth\")\n"
      ]
    },
    {
      "cell_type": "code",
      "execution_count": null,
      "metadata": {
        "colab": {
          "base_uri": "https://localhost:8080/"
        },
        "id": "YHft6MP92eZi",
        "outputId": "8c39c770-1c87-46c4-8254-6eaa5d128d22"
      },
      "outputs": [
        {
          "name": "stdout",
          "output_type": "stream",
          "text": [
            "Successfully deleted user: Mae\n",
            "Goodbye Earth\n"
          ]
        }
      ],
      "source": [
        "userid = \"Mae\"\n",
        "delete_user(\"Mae\")\n",
        "delete_all_users()"
      ]
    },
    {
      "cell_type": "code",
      "execution_count": null,
      "metadata": {
        "id": "3w67MEAI3jPv"
      },
      "outputs": [],
      "source": [
        "def add(addend1, addend2):\n",
        "    return addend1 + addend2\n",
        "\n",
        "def power_of_base2(exponent):\n",
        "    return 2**exponent"
      ]
    },
    {
      "cell_type": "code",
      "execution_count": null,
      "metadata": {
        "colab": {
          "base_uri": "https://localhost:8080/"
        },
        "id": "RwBOJ1X93v7m",
        "outputId": "a9b49de2-1136-4ec8-a514-69d15f7dd463"
      },
      "outputs": [
        {
          "data": {
            "text/plain": [
              "256"
            ]
          },
          "execution_count": 6,
          "metadata": {},
          "output_type": "execute_result"
        }
      ],
      "source": [
        "addend1, addend2 = 24, 25\n",
        "add(addend1, addend2)\n",
        "\n",
        "exponent = 8\n",
        "power_of_base2(exponent)"
      ]
    },
    {
      "cell_type": "markdown",
      "metadata": {
        "id": "UDU8tEBn4DQ_"
      },
      "source": [
        "## Activity \n"
      ]
    },
    {
      "cell_type": "code",
      "execution_count": null,
      "metadata": {
        "id": "gay__tD1HEvv"
      },
      "outputs": [],
      "source": [
        "w_pg, w_mg, w_fg = 0.3, 0.3, 0.4\n",
        "name = input(\"Enter your name: \")\n",
        "course = input(\"Enter your course: \")\n",
        "pg = float(input(\"Enter prelim grade: \"))\n",
        "mg = float(input(\"Enter midterm grade: \"))\n",
        "fg = float(input(\"Enter finals grade: \"))\n",
        "sem_grade = (pg*w_pg)+(mg*w_mg)+(fg*w_fg)\n",
        "print(\"Hello {}, from {}, your semestral grade for this subject is: {}\".format(name, course, round(sem_grade, 2))) \n",
        "if(sem_grade > 70.00):\n",
        "      print(\"\\U0001F600\")\n",
        "elif(sem_grade == 70.00):\n",
        "      print(\"\\U0001F606\")\n",
        "else:\n",
        "      print(\"\\U0001F62D\")"
      ]
    }
  ],
  "metadata": {
    "colab": {
      "collapsed_sections": [
        "ZgxsSOVp1myx",
        "JSBoS0dQ3ZAf",
        "tLMt3u2b48xo"
      ],
      "name": "Activity 1 - Phyton Fundamentals",
      "provenance": [],
      "authorship_tag": "ABX9TyM7Lw9u6X32PxINX7fE/Ftu",
      "include_colab_link": true
    },
    "kernelspec": {
      "display_name": "Python 3",
      "name": "python3"
    },
    "language_info": {
      "name": "python"
    }
  },
  "nbformat": 4,
  "nbformat_minor": 0
}