{
  "nbformat": 4,
  "nbformat_minor": 0,
  "metadata": {
    "colab": {
      "name": "Aspillaga-Lab 2.ipynb",
      "provenance": [],
      "collapsed_sections": [],
      "authorship_tag": "ABX9TyMBlEtjkKA/K548ocIkVC7r",
      "include_colab_link": true
    },
    "kernelspec": {
      "name": "python3",
      "display_name": "Python 3"
    },
    "language_info": {
      "name": "python"
    }
  },
  "cells": [
    {
      "cell_type": "markdown",
      "metadata": {
        "id": "view-in-github",
        "colab_type": "text"
      },
      "source": [
        "<a href=\"https://colab.research.google.com/github/luizmaeaspillaga/LinearAlgebra_2ndSem/blob/main/Aspillaga_Lab_2.ipynb\" target=\"_parent\"><img src=\"https://colab.research.google.com/assets/colab-badge.svg\" alt=\"Open In Colab\"/></a>"
      ]
    },
    {
      "cell_type": "markdown",
      "source": [
        "## Lab 2 - Plotting Vector using NumPy and MatPlotLib"
      ],
      "metadata": {
        "id": "tIqb2mCbYiE-"
      }
    },
    {
      "cell_type": "markdown",
      "source": [
        "In this laboratory we will be discussing the basics of numerical and scientific programming by working with Vectors using NumPy and MatPlotLib."
      ],
      "metadata": {
        "id": "DO9XLKb6YoPf"
      }
    },
    {
      "cell_type": "markdown",
      "source": [
        "# Objectives"
      ],
      "metadata": {
        "id": "OMWIhCRCYth3"
      }
    },
    {
      "cell_type": "markdown",
      "source": [
        "At the end of this activity you will be able to:\n",
        "\n",
        "1. Be familiar with the libraries in Python for numerical and scientific programming.\n",
        "2. Visualize vectors through Python programming.\n",
        "3. Perform simple vector operations through code."
      ],
      "metadata": {
        "id": "p78vjKu_YvVi"
      }
    },
    {
      "cell_type": "markdown",
      "source": [
        "# Discussion"
      ],
      "metadata": {
        "id": "ckckHFggZIoa"
      }
    },
    {
      "cell_type": "markdown",
      "source": [
        "# Numpy\n",
        "NumPy or Numerical Python, is mainly used for matrix and vector operations. It is capable of declaring computing and representing matrices. Most Python scientific programming libraries uses NumPy as the basic code.\n",
        "\n",
        "Scalars \\ Represent magnitude or a single value\n",
        "\n",
        "Vectors \\ Represent magnitude with directors"
      ],
      "metadata": {
        "id": "MbLuiRJKZLGm"
      }
    },
    {
      "cell_type": "markdown",
      "source": [
        "# Representing Vectors\n",
        "Now that you know how to represent vectors using their component and matrix form we can now hard-code them in Python. Let's say that you have the vectors:"
      ],
      "metadata": {
        "id": "tjSPDfsBZObj"
      }
    },
    {
      "cell_type": "markdown",
      "source": [
        "$$ A = 1\\hat{x} + 5\\hat{y} \\\\\n",
        "B = 2\\hat{x} - 3\\hat{y}\\\\\n",
        "C = 2ax + 1ay + 3az \\\\\n",
        "D = 3\\hat{i} - 1\\hat{j} + 5\\hat{k}$$"
      ],
      "metadata": {
        "id": "2X3SCIijbMJZ"
      }
    },
    {
      "cell_type": "markdown",
      "source": [
        "In which it's matrix equivalent is:"
      ],
      "metadata": {
        "id": "6RHIbsThbNHF"
      }
    },
    {
      "cell_type": "markdown",
      "source": [
        "$$ A = \\begin{bmatrix} 1 \\\\ 5\\end{bmatrix} , B = \\begin{bmatrix} 2 \\\\ -3\\end{bmatrix} , C = \\begin{bmatrix} 2 \\\\ 1 \\\\  3 \\end{bmatrix}, D = \\begin{bmatrix} 3 \\\\ -1 \\\\ 5\\end{bmatrix}\n",
        "$$\n",
        "$$ A = \\begin{bmatrix} 1 & 5\\end{bmatrix} , B = \\begin{bmatrix} 2 & -3\\end{bmatrix} , C = \\begin{bmatrix} 2 & 1 & 3\\end{bmatrix} , D = \\begin{bmatrix} 3 & -1 & 5\\end{bmatrix} \n",
        "$$"
      ],
      "metadata": {
        "id": "q6G0FEHSbRV1"
      }
    },
    {
      "cell_type": "markdown",
      "source": [
        "We can then start doing numpy code with this by:"
      ],
      "metadata": {
        "id": "uRFBoDnVbU61"
      }
    },
    {
      "cell_type": "code",
      "source": [
        "## Importing necessary libraries\n",
        "import numpy as np ## 'np' here is short-hand name of the library (numpy) or a nickname."
      ],
      "metadata": {
        "id": "HHq5wukUZ393"
      },
      "execution_count": 2,
      "outputs": []
    },
    {
      "cell_type": "code",
      "source": [
        "A = np.array([1, 5])\n",
        "B = np.array([2, -3])\n",
        "C = np.array([\n",
        "              [2],\n",
        "              [1],\n",
        "              [3]\n",
        "])\n",
        "D = np.array ([[3],\n",
        "              [-1],\n",
        "              [5]])\n",
        "print('Vector A is ', A)\n",
        "print('Vector B is ', B)\n",
        "print('Vector C is ', C)\n",
        "print('Vector D is ', D)"
      ],
      "metadata": {
        "colab": {
          "base_uri": "https://localhost:8080/"
        },
        "id": "oRf916EVZ34w",
        "outputId": "c6f6ab72-8999-4f99-c2a3-6b07835773ea"
      },
      "execution_count": 4,
      "outputs": [
        {
          "output_type": "stream",
          "name": "stdout",
          "text": [
            "Vector A is  [1 5]\n",
            "Vector B is  [ 2 -3]\n",
            "Vector C is  [[2]\n",
            " [1]\n",
            " [3]]\n",
            "Vector D is  [[ 3]\n",
            " [-1]\n",
            " [ 5]]\n"
          ]
        }
      ]
    },
    {
      "cell_type": "markdown",
      "source": [
        "# Describing vectors in NumPy\n",
        "Describing vectors is very important if we want to perform basic to advanced operations with them. The fundamental ways in describing vectors are knowing their shape, size and dimensions."
      ],
      "metadata": {
        "id": "aetXCL7WaSP4"
      }
    },
    {
      "cell_type": "markdown",
      "source": [
        "If we wish to execute basic to complex operations using vectors, we must first define them. Knowing the *shape, size, and dimensions* of vectors are the most basic ways to describe them.\\\n",
        "\\\n",
        "**Shape** - this signifies the number of elements there are on each row and column. For example, for vector A, it can be denoted using \"A.shape\".\\\n",
        "**Size** - this signifies the total number of elements there are in the vector. For example, for vector B, it can be denoted using \"B.size\".\\\n",
        "**Dimension** - this signifies the number of dimensions there are in the vector. For example, for vector C, it can be denotes using \"C.ndim\". "
      ],
      "metadata": {
        "id": "GuSc92JQst1P"
      }
    },
    {
      "cell_type": "code",
      "source": [
        "### Checking shapes\n",
        "### Shapes tells us how many elements are there on each row and column\n",
        "\n",
        "A.shape\n",
        "H = np.array([1, 0, 2, 5, -0.2, 0])\n",
        "H.shape\n",
        "C.shape"
      ],
      "metadata": {
        "colab": {
          "base_uri": "https://localhost:8080/"
        },
        "id": "1HdYGGfEaZjb",
        "outputId": "e3b89691-1a7f-4bb3-d7d3-79bfe3ee605c"
      },
      "execution_count": null,
      "outputs": [
        {
          "output_type": "execute_result",
          "data": {
            "text/plain": [
              "(3, 1)"
            ]
          },
          "metadata": {},
          "execution_count": 5
        }
      ]
    },
    {
      "cell_type": "code",
      "source": [
        "### Checking size\n",
        "### Array/Vector sizes tells us many total number of elements are there in the vector\n",
        "\n",
        "D.size"
      ],
      "metadata": {
        "colab": {
          "base_uri": "https://localhost:8080/"
        },
        "id": "I0d_wHYVabh2",
        "outputId": "3c726064-4c84-49f3-901d-19dc2d3ce61e"
      },
      "execution_count": null,
      "outputs": [
        {
          "output_type": "execute_result",
          "data": {
            "text/plain": [
              "3"
            ]
          },
          "metadata": {},
          "execution_count": 6
        }
      ]
    },
    {
      "cell_type": "code",
      "source": [
        "### Checking dimensions\n",
        "### The dimensions or rank of a vector tells us how many dimensions are there for the vector.\n",
        "\n",
        "D.ndim"
      ],
      "metadata": {
        "colab": {
          "base_uri": "https://localhost:8080/"
        },
        "id": "MD0n0BApae0s",
        "outputId": "beff12c8-898f-4fda-82e0-bc0176f2cfe7"
      },
      "execution_count": null,
      "outputs": [
        {
          "output_type": "execute_result",
          "data": {
            "text/plain": [
              "2"
            ]
          },
          "metadata": {},
          "execution_count": 7
        }
      ]
    },
    {
      "cell_type": "markdown",
      "source": [
        "Great! Now let's try to explore in performing operations with these vectors."
      ],
      "metadata": {
        "id": "vajmt-kybmwm"
      }
    },
    {
      "cell_type": "markdown",
      "source": [
        "# Operations of Vectors"
      ],
      "metadata": {
        "id": "oXEOkGgmbncW"
      }
    },
    {
      "cell_type": "markdown",
      "source": [
        "Now, using the vectors that were represented by variables, we can perform operations such as *Addition, Subtraction, Multiplication, and Division* to determine the resulting vector.\\\n",
        "\\\n",
        "**Addition** - in the addition rule, the elements of the matrices will be added together according to their index. This can be denoted using \"np.add()\" or simply by using the addition operation \"+\".\\\n",
        "**Subtraction** - in the subtraction rule, the elements of the matrices will be subtracted together according to their index. This can be denoted using \"np.subtract()\" or simply by using the subtraction operation \"-\".\\\n",
        "**Multiplication** - in the multiplication rule, the elements of the matrices will be multiplied together according to their index. This can be denoted using \"np.multiply()\" or simply by using the multiplication operation \"*\".\\\n",
        "**Division** - in the division rule, the elements of the matrices will be divided according to their index. This can be denoted using \"np.divide\" or simply by using the division operation \"/\"."
      ],
      "metadata": {
        "id": "0plrdAtdsyrm"
      }
    },
    {
      "cell_type": "markdown",
      "source": [
        "\\\n",
        "\n",
        "# Addition\n",
        "The addition rule is simple, the we just need to add the elements of the matrices according to their index. So in this case if we add vector $A$ and vector $B$ we will have a resulting vector:"
      ],
      "metadata": {
        "id": "CPhVmeHlah4h"
      }
    },
    {
      "cell_type": "markdown",
      "source": [
        "$$M = 6\\hat{x}-2\\hat{y} \\\\ \\\\or \\\\ \\\\ M = \\begin{bmatrix} 6 \\\\ -2\\end{bmatrix} $$"
      ],
      "metadata": {
        "id": "lVjWuQDIbdRu"
      }
    },
    {
      "cell_type": "markdown",
      "source": [
        "So let's try to do that in NumPy in several number of ways:"
      ],
      "metadata": {
        "id": "n0V9yjR9bflE"
      }
    },
    {
      "cell_type": "code",
      "source": [
        "M = np.add(A, B) ## this is the functional method usisng the numpy library\n",
        "S = np.add(C, D)"
      ],
      "metadata": {
        "id": "mIv_ge1Rasub"
      },
      "execution_count": null,
      "outputs": []
    },
    {
      "cell_type": "code",
      "source": [
        "M = A + B   ## this is the explicit method, since Python does a value-reference so it can \n",
        "            ## know that these variables would need to do array operations.\n",
        "M"
      ],
      "metadata": {
        "colab": {
          "base_uri": "https://localhost:8080/"
        },
        "id": "ZePo6dD8awd2",
        "outputId": "de60950c-92e2-431d-9df4-c6444c6273f4"
      },
      "execution_count": null,
      "outputs": [
        {
          "output_type": "execute_result",
          "data": {
            "text/plain": [
              "array([3, 2])"
            ]
          },
          "metadata": {},
          "execution_count": 9
        }
      ]
    },
    {
      "cell_type": "code",
      "source": [
        "pos1 = np.array([0,0,0])\n",
        "pos2 = np.array([0,1,3])\n",
        "pos3 = np.array([1,5,-2])\n",
        "pos4 = np.array([5,-3,3])\n",
        "#M = pos1 + pos2 + pos3 + pos4\n",
        "#M = np.multiply(pos3, pos4)\n",
        "M = pos3 / pos4\n",
        "M"
      ],
      "metadata": {
        "colab": {
          "base_uri": "https://localhost:8080/"
        },
        "id": "G_ly7PYTa7NN",
        "outputId": "0aa0bae4-dfaf-4217-d373-021b59cad142"
      },
      "execution_count": null,
      "outputs": [
        {
          "output_type": "execute_result",
          "data": {
            "text/plain": [
              "array([ 0.2       , -1.66666667, -0.66666667])"
            ]
          },
          "metadata": {},
          "execution_count": 10
        }
      ]
    },
    {
      "cell_type": "markdown",
      "source": [
        "##### Try for yourself!"
      ],
      "metadata": {
        "id": "vkGIsIanbrOj"
      }
    },
    {
      "cell_type": "markdown",
      "source": [
        "Try to implement subtraction, multiplication, and division with vectors $A$ and $B$!"
      ],
      "metadata": {
        "id": "Uxo7Og1AbVUx"
      }
    },
    {
      "cell_type": "code",
      "source": [
        "\n",
        "SUB = A - B - C - D\n",
        "MUL = np.multiply(B, C)\n",
        "DIV = A / B\n",
        "print(\"Subtraction:\", SUB)\n",
        "print(\"Multiplication:\", MUL)\n",
        "print(\"Division:\", DIV)"
      ],
      "metadata": {
        "colab": {
          "base_uri": "https://localhost:8080/"
        },
        "id": "fORGTqIYUWDR",
        "outputId": "dd4884f7-2dae-4712-8d95-5e6c1d428d4d"
      },
      "execution_count": null,
      "outputs": [
        {
          "output_type": "stream",
          "name": "stdout",
          "text": [
            "Subtraction: [[-6  3]\n",
            " [-1  8]\n",
            " [-9  0]]\n",
            "Multiplication: [[ 4 -6]\n",
            " [ 2 -3]\n",
            " [ 6 -9]]\n",
            "Division: [ 0.5        -1.66666667]\n"
          ]
        }
      ]
    },
    {
      "cell_type": "markdown",
      "source": [
        "### Scaling"
      ],
      "metadata": {
        "id": "P5qYiy6YbwME"
      }
    },
    {
      "cell_type": "markdown",
      "source": [
        "Scaling or scalar multiplication takes a scalar value and performs multiplication with a vector. Let's take the example below:"
      ],
      "metadata": {
        "id": "jSK6DBhUbwiM"
      }
    },
    {
      "cell_type": "markdown",
      "source": [
        "$$S = 5 \\cdot A$$"
      ],
      "metadata": {
        "id": "y9CFzPWjbzMb"
      }
    },
    {
      "cell_type": "markdown",
      "source": [
        "Scaling, also known as scalar multiplication, involves multiplying a scalar value by a vector. This can be denoted using \"np.multiply()\". Consider the following example below:"
      ],
      "metadata": {
        "id": "0l3qSiaes3IP"
      }
    },
    {
      "cell_type": "markdown",
      "source": [
        "We can do this in numpy through:"
      ],
      "metadata": {
        "id": "5aiIIVYRb4XB"
      }
    },
    {
      "cell_type": "code",
      "source": [
        "#S = 5 * A\n",
        "S = np.multiply(5,A)\n",
        "S"
      ],
      "metadata": {
        "colab": {
          "base_uri": "https://localhost:8080/"
        },
        "id": "lz5rBN5kb70F",
        "outputId": "5a7b515b-3255-4f7d-8835-5c227c29b4bc"
      },
      "execution_count": null,
      "outputs": [
        {
          "output_type": "execute_result",
          "data": {
            "text/plain": [
              "array([ 5, 25])"
            ]
          },
          "metadata": {},
          "execution_count": 12
        }
      ]
    },
    {
      "cell_type": "markdown",
      "source": [
        "Try to implement scaling with two vectors."
      ],
      "metadata": {
        "id": "Lo5uVJRZb-UE"
      }
    },
    {
      "cell_type": "code",
      "source": [
        "W = np.multiply(6,C)\n",
        "Q = np.multiply(2,B,A)\n",
        "W, Q"
      ],
      "metadata": {
        "colab": {
          "base_uri": "https://localhost:8080/"
        },
        "id": "Mw4HF0ehUNI5",
        "outputId": "87e1c399-8c4a-4ddd-c7d9-2c13f99ad238"
      },
      "execution_count": 6,
      "outputs": [
        {
          "output_type": "execute_result",
          "data": {
            "text/plain": [
              "(array([[12],\n",
              "        [ 6],\n",
              "        [18]]), array([ 4, -6]))"
            ]
          },
          "metadata": {},
          "execution_count": 6
        }
      ]
    },
    {
      "cell_type": "markdown",
      "source": [
        "### MatPlotLib"
      ],
      "metadata": {
        "id": "J0slLso3cGyD"
      }
    },
    {
      "cell_type": "markdown",
      "source": [
        "MatPlotLib or MATLab Plotting library is Python's take on MATLabs plotting feature. MatPlotLib can be used vastly from graping values to visualizing several dimensions of data."
      ],
      "metadata": {
        "id": "a9Hj29iwcIbk"
      }
    },
    {
      "cell_type": "markdown",
      "source": [
        "#### Visualizing Data"
      ],
      "metadata": {
        "id": "bgp_rzT_cKZC"
      }
    },
    {
      "cell_type": "markdown",
      "source": [
        "It's not enough just solving these vectors so might need to visualize them. So we'll use MatPlotLib for that. We'll need to import it first."
      ],
      "metadata": {
        "id": "Vm8oROnxcMbx"
      }
    },
    {
      "cell_type": "markdown",
      "source": [
        "In this part, matplotlib.pyplot is used to plot the data described using the variables A and B. The values represented by A is 0,-5 and for B is 2,-3. The code plt.scatter is used to plot  these values by using dots as the representation. On the other hand, the commands plt.grid() and plt,legend() are used to display the graph. The graph is shown below: \n"
      ],
      "metadata": {
        "id": "RhzJjyL-hOTB"
      }
    },
    {
      "cell_type": "code",
      "source": [
        "import matplotlib.pyplot as plt\n",
        "import matplotlib\n",
        "%matplotlib inline"
      ],
      "metadata": {
        "id": "oaNeSQtVcN-f"
      },
      "execution_count": null,
      "outputs": []
    },
    {
      "cell_type": "code",
      "source": [
        "A = [0, -5]\n",
        "B = [2, -3]\n",
        "plt.scatter(A[0], A[1], label='A', c='green')\n",
        "plt.scatter(B[0], B[1], label='B', c='magenta')\n",
        "plt.grid()\n",
        "plt.legend()\n",
        "plt.show()"
      ],
      "metadata": {
        "colab": {
          "base_uri": "https://localhost:8080/",
          "height": 265
        },
        "id": "5chl6l0rcQ-V",
        "outputId": "e26f6b67-b7f6-4d86-c2fe-e77935e352c9"
      },
      "execution_count": null,
      "outputs": [
        {
          "output_type": "display_data",
          "data": {
            "text/plain": [
              "<Figure size 432x288 with 1 Axes>"
            ],
            "image/png": "[encoded data removed]"
          },
          "metadata": {
            "needs_background": "light"
          }
        }
      ]
    },
    {
      "cell_type": "markdown",
      "source": [
        "Shown below is the graph of the vectors that are computed with its resultant and magnitude. Variables are declared as A with the value of 1,-1 and B with the values 1,5. The Result of the vector can be computed by adding the values of A and B. While magnitude can be computed by taking the square roof of the summation of the resultant. Codes plt.xlim and plt.ylim are used to plot the computed values of vectors. The slope and the angle are also computed through using the conventional formulas. \n"
      ],
      "metadata": {
        "id": "6oPZQdD9jnbR"
      }
    },
    {
      "cell_type": "code",
      "source": [
        "A = np.array([1, -1])\n",
        "B = np.array([1, 5])\n",
        "R = A + B\n",
        "Magnitude = np.sqrt(np.sum(R**2))\n",
        "print(Magnitude)\n",
        "plt.title(\"Resultant Vector\\nMagnitude:{}\" .format(Magnitude))\n",
        "plt.xlim(-5, 2)\n",
        "plt.ylim(-10, 7)\n",
        "plt.quiver(0, 0, A[0], A[1], angles='xy', scale_units='xy', scale=1, color='red')\n",
        "plt.quiver(A[0], A[1], B[0], B[1], angles='xy', scale_units='xy', scale=1, color='green')\n",
        "M = A + B\n",
        "plt.quiver(0, 0, R[0], R[1], angles='xy', scale_units='xy', scale=1, color='black')\n",
        "plt.grid()\n",
        "plt.show()\n",
        "print(M)\n",
        "print(Magnitude)\n",
        "Slope = M[1]/M[0]\n",
        "print(Slope)\n",
        "Angle = (np.arctan(Slope))*(180/np.pi)\n",
        "print(Angle)"
      ],
      "metadata": {
        "colab": {
          "base_uri": "https://localhost:8080/",
          "height": 386
        },
        "id": "0XIoWfHgfCy4",
        "outputId": "07c27ebf-9e9c-4eac-ad99-81f10300cada"
      },
      "execution_count": null,
      "outputs": [
        {
          "output_type": "stream",
          "name": "stdout",
          "text": [
            "4.47213595499958\n"
          ]
        },
        {
          "output_type": "display_data",
          "data": {
            "text/plain": [
              "<Figure size 432x288 with 1 Axes>"
            ],
            "image/png": "[encoded data removed]"
          },
          "metadata": {
            "needs_background": "light"
          }
        },
        {
          "output_type": "stream",
          "name": "stdout",
          "text": [
            "[2 4]\n",
            "4.47213595499958\n",
            "2.0\n",
            "63.43494882292201\n"
          ]
        }
      ]
    },
    {
      "cell_type": "markdown",
      "source": [
        "In this part, plotting of vectors is also used. The shape of the array is set to zero. The boundary of the graph was set by using the code plt.xlim with point -10,10 and plt.ylim having the points of -10,10 also. In the first command using the code plt.quiver vector “A” is equal to 1,  in the second one vector A is also 1 while  B is 0 and 1,and in the last the resultant are plotted in points 0 and 1. The result of this part is shown in the graph below: \n",
        "\n"
      ],
      "metadata": {
        "id": "TnGnXBURnc6-"
      }
    },
    {
      "cell_type": "code",
      "source": [
        "n = A.shape[0]\n",
        "plt.xlim(-10, 10)\n",
        "plt.ylim(-10, 10)\n",
        "plt.quiver(0,0, A[0], A[1], angles='xy', scale_units='xy',scale=1)\n",
        "plt.quiver(A[0],A[1], B[0], B[1], angles='xy', scale_units='xy',scale=1)\n",
        "plt.quiver(0,0, R[0], R[1], angles='xy', scale_units='xy',scale=1)\n",
        "plt.show()"
      ],
      "metadata": {
        "colab": {
          "base_uri": "https://localhost:8080/",
          "height": 269
        },
        "id": "ZkIPhmDpc0dt",
        "outputId": "1049c4ae-0f7a-472f-8203-949d186b72d1"
      },
      "execution_count": null,
      "outputs": [
        {
          "output_type": "display_data",
          "data": {
            "text/plain": [
              "<Figure size 432x288 with 1 Axes>"
            ],
            "image/png": "[encoded data removed]"
          },
          "metadata": {
            "needs_background": "light"
          }
        }
      ]
    },
    {
      "cell_type": "markdown",
      "source": [
        "# Activity"
      ],
      "metadata": {
        "id": "QiLokADycJYZ"
      }
    },
    {
      "cell_type": "code",
      "source": [
        "A = np.array([3, 2])\n",
        "B = np.array([0, 1])\n",
        "C = np.array([5,4])\n",
        "S = A + B\n",
        "R = A + B + C\n",
        "Magnitude = np.sqrt(np.sum(R**2))\n",
        "plt.title(\"Resultant Vector\\nMagnitude:{}\" .format(Magnitude))\n",
        "plt.xlim(-6, 6)\n",
        "plt.ylim(-6, 6)\n",
        "plt.quiver(0, 0, A[0], A[1], angles='xy', scale_units='xy', scale=1, color='purple')\n",
        "plt.quiver(A[0], A[1], B[0], B[1], angles='xy', scale_units='xy', scale=1, color='pink')\n",
        "plt.quiver(0, 0, R[0], R[1], angles='xy', scale_units='xy', scale=1, color='violet')\n",
        "\n",
        "plt.quiver(0, 0, R[0], R[1], angles='xy', scale_units='xy', scale=1, color='green')\n",
        "plt.grid()\n",
        "plt.show()\n",
        "print(R)\n",
        "\n",
        "print(Magnitude)\n",
        "Slope = R[1]/R[0]\n",
        "print(Slope)\n",
        "Angle = (np.arctan(Slope))*(180/np.pi)\n",
        "print(Angle)"
      ],
      "metadata": {
        "colab": {
          "base_uri": "https://localhost:8080/",
          "height": 368
        },
        "id": "hedEg1rCXOqR",
        "outputId": "d08f7321-b88f-49e4-8894-fdedc665bd37"
      },
      "execution_count": null,
      "outputs": [
        {
          "output_type": "display_data",
          "data": {
            "text/plain": [
              "<Figure size 432x288 with 1 Axes>"
            ],
            "image/png": "[encoded data removed]"
          },
          "metadata": {
            "needs_background": "light"
          }
        },
        {
          "output_type": "stream",
          "name": "stdout",
          "text": [
            "[8 7]\n",
            "10.63014581273465\n",
            "0.875\n",
            "41.18592516570965\n"
          ]
        }
      ]
    }
  ]
}